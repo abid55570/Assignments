{
 "cells": [
  {
   "cell_type": "markdown",
   "id": "bd0004d2-4d9d-4113-ae95-d6cd2f9dbbc8",
   "metadata": {},
   "source": [
    "'Oops' stands for \"Object- oriented programming System\""
   ]
  },
  {
   "cell_type": "code",
   "execution_count": 1,
   "id": "1465f564-52d1-445b-b80c-046f8178d4bf",
   "metadata": {},
   "outputs": [],
   "source": [
    "a = 1"
   ]
  },
  {
   "cell_type": "code",
   "execution_count": 2,
   "id": "bddcc40b-c7da-462e-8231-2069eb621f98",
   "metadata": {},
   "outputs": [
    {
     "name": "stdout",
     "output_type": "stream",
     "text": [
      "<class 'int'>\n"
     ]
    }
   ],
   "source": [
    "print(type(a))"
   ]
  },
  {
   "cell_type": "code",
   "execution_count": 3,
   "id": "20f7abd5-9209-4e0e-a3ce-4da0c008a72a",
   "metadata": {},
   "outputs": [
    {
     "name": "stdout",
     "output_type": "stream",
     "text": [
      "<class 'str'>\n"
     ]
    }
   ],
   "source": [
    "print(type(\"pwskills\"))"
   ]
  },
  {
   "cell_type": "code",
   "execution_count": 4,
   "id": "d925e76f-5963-4108-a4d2-c8ccead43891",
   "metadata": {},
   "outputs": [],
   "source": [
    "# what is class. \n",
    "# what we do in class\n",
    "# class defines the object"
   ]
  },
  {
   "cell_type": "code",
   "execution_count": 5,
   "id": "68f5fd08-6fe2-4b74-bda4-8b40ca5acc8c",
   "metadata": {},
   "outputs": [],
   "source": [
    "# class is justtification of real world entity"
   ]
  },
  {
   "cell_type": "code",
   "execution_count": 7,
   "id": "77b8e301-4835-4938-a605-c7968f6dcf40",
   "metadata": {},
   "outputs": [],
   "source": [
    "# now lets see how to create class \n",
    "\"\"\"class test :\n",
    "    pass\"\"\"\n",
    "# this gives blank classs \n",
    "# what are the benefit or advantage to create class \n",
    "# structured, modular, optimized, enhanced, reuseability usinng Oops"
   ]
  },
  {
   "cell_type": "code",
   "execution_count": 8,
   "id": "cb2288bd-8768-4a6b-b2e8-2158ad2f23fa",
   "metadata": {},
   "outputs": [],
   "source": [
    "class test :\n",
    "    pass"
   ]
  },
  {
   "cell_type": "code",
   "execution_count": 12,
   "id": "848587a9-8b50-404b-8cb2-860617b12452",
   "metadata": {},
   "outputs": [],
   "source": [
    "a = test() "
   ]
  },
  {
   "cell_type": "code",
   "execution_count": 13,
   "id": "970239f0-3ff9-40ea-bf51-9b737014175d",
   "metadata": {},
   "outputs": [
    {
     "name": "stdout",
     "output_type": "stream",
     "text": [
      "<class '__main__.test'>\n"
     ]
    }
   ],
   "source": [
    "print(type(a))"
   ]
  },
  {
   "cell_type": "code",
   "execution_count": 14,
   "id": "448f1cc9-5588-4f3c-8bdb-01d8a883376f",
   "metadata": {},
   "outputs": [
    {
     "data": {
      "text/plain": [
       "__main__.test"
      ]
     },
     "execution_count": 14,
     "metadata": {},
     "output_type": "execute_result"
    }
   ],
   "source": [
    "type(a)"
   ]
  },
  {
   "cell_type": "code",
   "execution_count": 27,
   "id": "aa205480-be94-4cf8-b6fa-bbf7efd74a7a",
   "metadata": {},
   "outputs": [],
   "source": [
    "class pwskills :\n",
    "    def welcome_msg():\n",
    "        print(\"welcome to pwskills\")"
   ]
  },
  {
   "cell_type": "code",
   "execution_count": 16,
   "id": "90109f9f-c6a7-4119-817e-70db83abe18b",
   "metadata": {},
   "outputs": [],
   "source": [
    "rohan = pwskills()"
   ]
  },
  {
   "cell_type": "code",
   "execution_count": 17,
   "id": "a0efe787-ad62-4c7e-94f7-64b21bd8b68e",
   "metadata": {},
   "outputs": [
    {
     "name": "stdout",
     "output_type": "stream",
     "text": [
      "<class '__main__.pwskills'>\n"
     ]
    }
   ],
   "source": [
    "print(type(rohan))"
   ]
  },
  {
   "cell_type": "code",
   "execution_count": 18,
   "id": "44421758-9740-420f-8334-e2ee34835d9a",
   "metadata": {},
   "outputs": [
    {
     "ename": "AttributeError",
     "evalue": "'pwskills' object has no attribute 'welcome_msg'",
     "output_type": "error",
     "traceback": [
      "\u001b[0;31m---------------------------------------------------------------------------\u001b[0m",
      "\u001b[0;31mAttributeError\u001b[0m                            Traceback (most recent call last)",
      "Cell \u001b[0;32mIn[18], line 1\u001b[0m\n\u001b[0;32m----> 1\u001b[0m \u001b[43mrohan\u001b[49m\u001b[38;5;241;43m.\u001b[39;49m\u001b[43mwelcome_msg\u001b[49m()\n",
      "\u001b[0;31mAttributeError\u001b[0m: 'pwskills' object has no attribute 'welcome_msg'"
     ]
    }
   ],
   "source": [
    "rohan.welcome_msg()\n",
    "# this error because we need to bind with function with the class "
   ]
  },
  {
   "cell_type": "code",
   "execution_count": 29,
   "id": "d2b383a2-d210-4a34-9631-82353cb95cbb",
   "metadata": {},
   "outputs": [],
   "source": [
    "class pwskills :\n",
    "    \n",
    "    def welcome_msg(self):\n",
    "        print(\"welcome to pwskills\")"
   ]
  },
  {
   "cell_type": "code",
   "execution_count": 31,
   "id": "459c1b37-bfcb-439f-8dde-b9bb20b5fed5",
   "metadata": {},
   "outputs": [
    {
     "name": "stdout",
     "output_type": "stream",
     "text": [
      "<class '__main__.pwskills'>\n"
     ]
    }
   ],
   "source": [
    "rohan = pwskills()\n",
    "print(type(rohan))"
   ]
  },
  {
   "cell_type": "code",
   "execution_count": 32,
   "id": "7ed6a091-f030-480e-a551-dfbb5ebd7079",
   "metadata": {},
   "outputs": [
    {
     "name": "stdout",
     "output_type": "stream",
     "text": [
      "welcome to pwskills\n"
     ]
    }
   ],
   "source": [
    "rohan.welcome_msg()"
   ]
  },
  {
   "cell_type": "code",
   "execution_count": 38,
   "id": "46de3f83-be4b-445a-a14e-46fc011423ef",
   "metadata": {},
   "outputs": [
    {
     "name": "stdout",
     "output_type": "stream",
     "text": [
      "welcome to pwskills\n"
     ]
    }
   ],
   "source": [
    "abid = pwskills()\n",
    "abid.welcome_msg()"
   ]
  },
  {
   "cell_type": "code",
   "execution_count": 42,
   "id": "bd6382f2-7f3e-482b-8302-8c38851ae96c",
   "metadata": {},
   "outputs": [],
   "source": [
    "class pwskills1 :\n",
    "    \n",
    "    def __init__(self , phone_number, email_id, student_id) :\n",
    "        self.phone_number = phone_number\n",
    "        self.email_id = email_id\n",
    "        self.student_id = student_id\n",
    "    \n",
    "    def return_student_details(self) :\n",
    "        return self.student_id, self.phone_number, self.email_id"
   ]
  },
  {
   "cell_type": "code",
   "execution_count": 43,
   "id": "00eb8865-c338-4b39-b8b8-4327534f0fab",
   "metadata": {},
   "outputs": [
    {
     "ename": "TypeError",
     "evalue": "pwskills1.__init__() missing 3 required positional arguments: 'phone_number', 'email_id', and 'student_id'",
     "output_type": "error",
     "traceback": [
      "\u001b[0;31m---------------------------------------------------------------------------\u001b[0m",
      "\u001b[0;31mTypeError\u001b[0m                                 Traceback (most recent call last)",
      "Cell \u001b[0;32mIn[43], line 1\u001b[0m\n\u001b[0;32m----> 1\u001b[0m rohan \u001b[38;5;241m=\u001b[39m \u001b[43mpwskills1\u001b[49m\u001b[43m(\u001b[49m\u001b[43m)\u001b[49m\n",
      "\u001b[0;31mTypeError\u001b[0m: pwskills1.__init__() missing 3 required positional arguments: 'phone_number', 'email_id', and 'student_id'"
     ]
    }
   ],
   "source": [
    "rohan = pwskills1()"
   ]
  },
  {
   "cell_type": "code",
   "execution_count": 45,
   "id": "00697560-9f6c-49f4-9d26-1d0fc2366f30",
   "metadata": {},
   "outputs": [],
   "source": [
    "rohan = pwskills1(8840556604, \"abcd@gmail.com\", 6008)"
   ]
  },
  {
   "cell_type": "code",
   "execution_count": 46,
   "id": "612e1f00-8436-4e0e-ade0-bb3a07458716",
   "metadata": {},
   "outputs": [
    {
     "data": {
      "text/plain": [
       "(6008, 8840556604, 'abcd@gmail.com')"
      ]
     },
     "execution_count": 46,
     "metadata": {},
     "output_type": "execute_result"
    }
   ],
   "source": [
    "rohan.return_student_details()"
   ]
  },
  {
   "cell_type": "code",
   "execution_count": 51,
   "id": "cdbb7727-5ec0-4e42-9426-be279473cf80",
   "metadata": {},
   "outputs": [],
   "source": [
    "rohit = pwskills1(9885253475, \"rohit@gmail.com\", 48201)"
   ]
  },
  {
   "cell_type": "code",
   "execution_count": 52,
   "id": "5b7eac6c-c1e9-4f95-9a30-c04a47aa0619",
   "metadata": {},
   "outputs": [
    {
     "data": {
      "text/plain": [
       "(48201, 9885253475, 'rohit@gmail.com')"
      ]
     },
     "execution_count": 52,
     "metadata": {},
     "output_type": "execute_result"
    }
   ],
   "source": [
    "rohit.return_student_details()"
   ]
  },
  {
   "cell_type": "code",
   "execution_count": 53,
   "id": "0cc6111a-068c-435d-bb0e-057ab919493c",
   "metadata": {},
   "outputs": [],
   "source": [
    "class pwskills2 :\n",
    "    \n",
    "    def __init__(self , phone_number, email_id, student_id) :\n",
    "'''init basically instructor hai'''\n",
    "        self.phone_number1 = phone_number\n",
    "        self.email_id1 = email_id\n",
    "        self.student_id1 = student_id\n",
    "    \n",
    "    def return_student_details(self) :\n",
    "        return self.student_id1, self.phone_number1, self.email_id1"
   ]
  },
  {
   "cell_type": "code",
   "execution_count": 55,
   "id": "b3cf0b17-d8bd-4ddf-ba73-2e5a85a28a71",
   "metadata": {},
   "outputs": [],
   "source": [
    "abid = pwskills2(785848554, \"anhd@gmail.com\", 307)"
   ]
  },
  {
   "cell_type": "code",
   "execution_count": 57,
   "id": "c646e16f-4951-4b84-b1f3-ddf891619eb1",
   "metadata": {},
   "outputs": [
    {
     "data": {
      "text/plain": [
       "(307, 785848554, 'anhd@gmail.com')"
      ]
     },
     "execution_count": 57,
     "metadata": {},
     "output_type": "execute_result"
    }
   ],
   "source": [
    "abid.return_student_details()"
   ]
  },
  {
   "cell_type": "code",
   "execution_count": 58,
   "id": "1a9a4037-5b9a-489a-bf15-d990ff923a25",
   "metadata": {},
   "outputs": [
    {
     "data": {
      "text/plain": [
       "785848554"
      ]
     },
     "execution_count": 58,
     "metadata": {},
     "output_type": "execute_result"
    }
   ],
   "source": [
    "abid.phone_number1"
   ]
  },
  {
   "cell_type": "code",
   "execution_count": 59,
   "id": "d3cb1957-9aab-451e-8bb8-0d2111c8329f",
   "metadata": {},
   "outputs": [
    {
     "data": {
      "text/plain": [
       "'anhd@gmail.com'"
      ]
     },
     "execution_count": 59,
     "metadata": {},
     "output_type": "execute_result"
    }
   ],
   "source": [
    "abid.email_id1"
   ]
  },
  {
   "cell_type": "code",
   "execution_count": 60,
   "id": "e8448148-8f2d-4472-96eb-181d4db4b48b",
   "metadata": {},
   "outputs": [
    {
     "data": {
      "text/plain": [
       "307"
      ]
     },
     "execution_count": 60,
     "metadata": {},
     "output_type": "execute_result"
    }
   ],
   "source": [
    "abid.student_id1"
   ]
  },
  {
   "cell_type": "code",
   "execution_count": 61,
   "id": "1a1ea4be-9194-4998-a77c-72fa4da31fed",
   "metadata": {},
   "outputs": [
    {
     "data": {
      "text/plain": [
       "'abcd@gmail.com'"
      ]
     },
     "execution_count": 61,
     "metadata": {},
     "output_type": "execute_result"
    }
   ],
   "source": [
    "rohan.email_id"
   ]
  },
  {
   "cell_type": "code",
   "execution_count": 62,
   "id": "58bdddfa-e497-48c1-b038-fe849650193a",
   "metadata": {},
   "outputs": [
    {
     "data": {
      "text/plain": [
       "8840556604"
      ]
     },
     "execution_count": 62,
     "metadata": {},
     "output_type": "execute_result"
    }
   ],
   "source": [
    "rohan.phone_number"
   ]
  },
  {
   "cell_type": "code",
   "execution_count": 64,
   "id": "8c9d6a89-930e-4ca1-86c2-d4679b915318",
   "metadata": {},
   "outputs": [],
   "source": [
    "class pwskills3 :\n",
    "    \n",
    "    def __init__(abid , phone_number, email_id, student_id) :\n",
    "        abid.phone_number = phone_number\n",
    "        abid.email_id = email_id\n",
    "        abid.student_id = student_id\n",
    "    \n",
    "    def return_student_details(self) :\n",
    "        return abid.student_id, abid.phone_number, abid.email_id"
   ]
  },
  {
   "cell_type": "code",
   "execution_count": 65,
   "id": "83b14c0f-4276-42e1-9109-92a1c469f544",
   "metadata": {},
   "outputs": [],
   "source": [
    "sohan = pwskills3(747599874983, \"abc@gmail.com\", 676)"
   ]
  },
  {
   "cell_type": "code",
   "execution_count": 66,
   "id": "96fc5ac2-e182-4744-9a3b-40d0533379d3",
   "metadata": {},
   "outputs": [
    {
     "data": {
      "text/plain": [
       "747599874983"
      ]
     },
     "execution_count": 66,
     "metadata": {},
     "output_type": "execute_result"
    }
   ],
   "source": [
    "sohan.phone_number"
   ]
  },
  {
   "cell_type": "code",
   "execution_count": 67,
   "id": "93c91e47-8c81-4a78-9c2e-a5c7fcd4ee06",
   "metadata": {},
   "outputs": [
    {
     "data": {
      "text/plain": [
       "'abc@gmail.com'"
      ]
     },
     "execution_count": 67,
     "metadata": {},
     "output_type": "execute_result"
    }
   ],
   "source": [
    "sohan.email_id\n"
   ]
  },
  {
   "cell_type": "code",
   "execution_count": 68,
   "id": "e9ca1e23-8054-48e2-8b82-923e6ee97ce7",
   "metadata": {},
   "outputs": [
    {
     "data": {
      "text/plain": [
       "676"
      ]
     },
     "execution_count": 68,
     "metadata": {},
     "output_type": "execute_result"
    }
   ],
   "source": [
    "sohan.student_id"
   ]
  },
  {
   "cell_type": "code",
   "execution_count": null,
   "id": "20173e8a-13b7-4f9d-be99-9920dcca7df6",
   "metadata": {},
   "outputs": [],
   "source": []
  }
 ],
 "metadata": {
  "kernelspec": {
   "display_name": "Python 3 (ipykernel)",
   "language": "python",
   "name": "python3"
  },
  "language_info": {
   "codemirror_mode": {
    "name": "ipython",
    "version": 3
   },
   "file_extension": ".py",
   "mimetype": "text/x-python",
   "name": "python",
   "nbconvert_exporter": "python",
   "pygments_lexer": "ipython3",
   "version": "3.10.8"
  }
 },
 "nbformat": 4,
 "nbformat_minor": 5
}
