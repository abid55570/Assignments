{
 "cells": [
  {
   "cell_type": "code",
   "execution_count": 1,
   "id": "f4c6aa44-0891-47fd-af07-e8bfcccb6590",
   "metadata": {},
   "outputs": [],
   "source": [
    "d = {}"
   ]
  },
  {
   "cell_type": "code",
   "execution_count": 2,
   "id": "bbb2be51-8c35-4c58-a1a5-5173764ea08a",
   "metadata": {},
   "outputs": [
    {
     "data": {
      "text/plain": [
       "dict"
      ]
     },
     "execution_count": 2,
     "metadata": {},
     "output_type": "execute_result"
    }
   ],
   "source": [
    "type(d)"
   ]
  },
  {
   "cell_type": "code",
   "execution_count": 3,
   "id": "fac2338b-ef1a-4be9-bcea-f6f49ac588e8",
   "metadata": {},
   "outputs": [],
   "source": [
    "d1 = {'key' : \"abid\" }"
   ]
  },
  {
   "cell_type": "code",
   "execution_count": 4,
   "id": "38bef265-e065-4052-ad88-37d27ab4ff45",
   "metadata": {},
   "outputs": [
    {
     "data": {
      "text/plain": [
       "{'key': 'abid'}"
      ]
     },
     "execution_count": 4,
     "metadata": {},
     "output_type": "execute_result"
    }
   ],
   "source": [
    "d1"
   ]
  },
  {
   "cell_type": "code",
   "execution_count": 5,
   "id": "691e0a70-d9f1-4fcf-992e-d35cdb38b49f",
   "metadata": {},
   "outputs": [],
   "source": [
    "d2 = {'name' : \"Abid\", 'email' : \"ss@gmail.com\", 'number' : 4587}"
   ]
  },
  {
   "cell_type": "code",
   "execution_count": 6,
   "id": "696d6e24-f4f5-45a6-9535-97038c525cff",
   "metadata": {},
   "outputs": [
    {
     "data": {
      "text/plain": [
       "{'name': 'Abid', 'email': 'ss@gmail.com', 'number': 4587}"
      ]
     },
     "execution_count": 6,
     "metadata": {},
     "output_type": "execute_result"
    }
   ],
   "source": [
    "d2"
   ]
  },
  {
   "cell_type": "code",
   "execution_count": 9,
   "id": "3cd6841d-7ce6-47d8-b28b-4e18d88ff783",
   "metadata": {},
   "outputs": [
    {
     "data": {
      "text/plain": [
       "'Abid'"
      ]
     },
     "execution_count": 9,
     "metadata": {},
     "output_type": "execute_result"
    }
   ],
   "source": [
    "d2['name']"
   ]
  },
  {
   "cell_type": "code",
   "execution_count": 10,
   "id": "4f36a6fa-cfee-404f-adaa-6dfcb410bbb7",
   "metadata": {},
   "outputs": [],
   "source": [
    "d3 = {234 : True , 'abcd' : \"you\" }\n",
    "# if same key defined in dict, then it ll take last data "
   ]
  },
  {
   "cell_type": "code",
   "execution_count": 11,
   "id": "e919ef16-e598-4647-b651-9883a296e9df",
   "metadata": {},
   "outputs": [
    {
     "data": {
      "text/plain": [
       "{234: True, 'abcd': 'you'}"
      ]
     },
     "execution_count": 11,
     "metadata": {},
     "output_type": "execute_result"
    }
   ],
   "source": [
    "d3"
   ]
  },
  {
   "cell_type": "code",
   "execution_count": 12,
   "id": "ff794ad7-877d-4bd5-bc99-86b86a74f3c9",
   "metadata": {},
   "outputs": [
    {
     "data": {
      "text/plain": [
       "True"
      ]
     },
     "execution_count": 12,
     "metadata": {},
     "output_type": "execute_result"
    }
   ],
   "source": [
    "d3[234]"
   ]
  },
  {
   "cell_type": "code",
   "execution_count": 14,
   "id": "e5af81f1-a841-4215-a23c-baed6cd87ac8",
   "metadata": {},
   "outputs": [
    {
     "ename": "KeyError",
     "evalue": "1",
     "output_type": "error",
     "traceback": [
      "\u001b[0;31m---------------------------------------------------------------------------\u001b[0m",
      "\u001b[0;31mKeyError\u001b[0m                                  Traceback (most recent call last)",
      "Cell \u001b[0;32mIn[14], line 1\u001b[0m\n\u001b[0;32m----> 1\u001b[0m \u001b[43md3\u001b[49m\u001b[43m[\u001b[49m\u001b[38;5;241;43m1\u001b[39;49m\u001b[43m]\u001b[49m\n",
      "\u001b[0;31mKeyError\u001b[0m: 1"
     ]
    }
   ],
   "source": [
    "d3[1]"
   ]
  },
  {
   "cell_type": "code",
   "execution_count": 15,
   "id": "6aeb593e-2a0d-4229-b4ad-f1d511b724ee",
   "metadata": {},
   "outputs": [],
   "source": [
    "d5 = { 'company' : \"pwskills\", 'courses' : [\"web_dev\", \"data_sci\", \"java with DSA\"]}"
   ]
  },
  {
   "cell_type": "code",
   "execution_count": 16,
   "id": "373bb94c-050c-46a3-b097-8e26cebaf2c8",
   "metadata": {},
   "outputs": [
    {
     "data": {
      "text/plain": [
       "{'company': 'pwskills', 'courses': ['web_dev', 'data_sci', 'java with DSA']}"
      ]
     },
     "execution_count": 16,
     "metadata": {},
     "output_type": "execute_result"
    }
   ],
   "source": [
    "d5"
   ]
  },
  {
   "cell_type": "code",
   "execution_count": 18,
   "id": "4be8a679-406f-495d-afe5-bacdace0107f",
   "metadata": {},
   "outputs": [
    {
     "data": {
      "text/plain": [
       "['web_dev', 'data_sci', 'java with DSA']"
      ]
     },
     "execution_count": 18,
     "metadata": {},
     "output_type": "execute_result"
    }
   ],
   "source": [
    "d5['courses']"
   ]
  },
  {
   "cell_type": "code",
   "execution_count": 19,
   "id": "98d91274-4877-4eed-a1c6-3d3ac000be01",
   "metadata": {},
   "outputs": [
    {
     "data": {
      "text/plain": [
       "'java with DSA'"
      ]
     },
     "execution_count": 19,
     "metadata": {},
     "output_type": "execute_result"
    }
   ],
   "source": [
    "d5['courses'][2]"
   ]
  },
  {
   "cell_type": "code",
   "execution_count": 22,
   "id": "2cd9be08-ec27-47c8-a887-4116dcbe1ff6",
   "metadata": {},
   "outputs": [],
   "source": [
    "d6 = {'number' : [2,34,23,54,23], 'assignment' : (1,2,3,4,5,6), 'launch date' : {2,4,3,6}}"
   ]
  },
  {
   "cell_type": "code",
   "execution_count": 21,
   "id": "01fdcb28-bc69-489e-b23c-b1d6a660b9cf",
   "metadata": {},
   "outputs": [
    {
     "data": {
      "text/plain": [
       "{'number': [2, 34, 23, 54, 23], 'assignment': (1, 2, 3, 4, 5, 6)}"
      ]
     },
     "execution_count": 21,
     "metadata": {},
     "output_type": "execute_result"
    }
   ],
   "source": [
    "d6"
   ]
  },
  {
   "cell_type": "code",
   "execution_count": 23,
   "id": "1366ff5a-6b75-42b6-b632-887ff2f6821e",
   "metadata": {},
   "outputs": [
    {
     "data": {
      "text/plain": [
       "{'number': [2, 34, 23, 54, 23],\n",
       " 'assignment': (1, 2, 3, 4, 5, 6),\n",
       " 'launch date': {2, 3, 4, 6}}"
      ]
     },
     "execution_count": 23,
     "metadata": {},
     "output_type": "execute_result"
    }
   ],
   "source": [
    "d6"
   ]
  },
  {
   "cell_type": "code",
   "execution_count": 24,
   "id": "b015438a-0acf-4b4d-bacd-e06c97c9f908",
   "metadata": {},
   "outputs": [],
   "source": [
    "d6 = {'number' : [2,34,23,54,23], 'assignment' : (1,2,3,4,5,6), 'launch date' : {2,4,3,6}, 'class timing' : {'data science' : 8, 'java with DSA' : 7}}"
   ]
  },
  {
   "cell_type": "code",
   "execution_count": 25,
   "id": "f0806887-5e36-4fa5-9639-0f5a474f9489",
   "metadata": {},
   "outputs": [
    {
     "data": {
      "text/plain": [
       "{'number': [2, 34, 23, 54, 23],\n",
       " 'assignment': (1, 2, 3, 4, 5, 6),\n",
       " 'launch date': {2, 3, 4, 6},\n",
       " 'class timing': {'data science': 8, 'java with DSA': 7}}"
      ]
     },
     "execution_count": 25,
     "metadata": {},
     "output_type": "execute_result"
    }
   ],
   "source": [
    "d6\n",
    "# dict. me saari data type store kr skte hai "
   ]
  },
  {
   "cell_type": "code",
   "execution_count": 26,
   "id": "d47ddf90-e704-4825-872b-b8be7d5cd25c",
   "metadata": {},
   "outputs": [
    {
     "data": {
      "text/plain": [
       "{'data science': 8, 'java with DSA': 7}"
      ]
     },
     "execution_count": 26,
     "metadata": {},
     "output_type": "execute_result"
    }
   ],
   "source": [
    "d6['class timing']"
   ]
  },
  {
   "cell_type": "code",
   "execution_count": 27,
   "id": "6bdf3b63-dc2d-4b0a-a2e3-cbaa2fd07740",
   "metadata": {},
   "outputs": [
    {
     "data": {
      "text/plain": [
       "7"
      ]
     },
     "execution_count": 27,
     "metadata": {},
     "output_type": "execute_result"
    }
   ],
   "source": [
    "d6['class timing']['java with DSA']\n",
    "# to take out the timing of java with DSA"
   ]
  },
  {
   "cell_type": "code",
   "execution_count": 28,
   "id": "8b5a7280-fd86-4a0b-bd53-5c1999f34793",
   "metadata": {},
   "outputs": [],
   "source": [
    "d6['mentor'] = ['abid', 'asif', 'adeeb', 'amir']"
   ]
  },
  {
   "cell_type": "code",
   "execution_count": 29,
   "id": "3e08eb40-1e8f-4111-8094-f3c85baa2db4",
   "metadata": {},
   "outputs": [
    {
     "data": {
      "text/plain": [
       "{'number': [2, 34, 23, 54, 23],\n",
       " 'assignment': (1, 2, 3, 4, 5, 6),\n",
       " 'launch date': {2, 3, 4, 6},\n",
       " 'class timing': {'data science': 8, 'java with DSA': 7},\n",
       " 'mentor': ['abid', 'asif', 'adeeb', 'amir']}"
      ]
     },
     "execution_count": 29,
     "metadata": {},
     "output_type": "execute_result"
    }
   ],
   "source": [
    "d6\n",
    "# agar koi key value add nhi hai to usko add kr lega dict. me"
   ]
  },
  {
   "cell_type": "code",
   "execution_count": 30,
   "id": "bbd80b71-584d-4566-9c88-80ca26f58d70",
   "metadata": {},
   "outputs": [],
   "source": [
    "del d6['number']\n",
    "# to remove or delete the data from dict."
   ]
  },
  {
   "cell_type": "code",
   "execution_count": 31,
   "id": "58f29b32-4d88-4178-bb25-cdd32ec1c909",
   "metadata": {},
   "outputs": [
    {
     "data": {
      "text/plain": [
       "{'assignment': (1, 2, 3, 4, 5, 6),\n",
       " 'launch date': {2, 3, 4, 6},\n",
       " 'class timing': {'data science': 8, 'java with DSA': 7},\n",
       " 'mentor': ['abid', 'asif', 'adeeb', 'amir']}"
      ]
     },
     "execution_count": 31,
     "metadata": {},
     "output_type": "execute_result"
    }
   ],
   "source": [
    "d6"
   ]
  },
  {
   "cell_type": "code",
   "execution_count": 32,
   "id": "829118ae-ba31-4dac-8791-678846bd6549",
   "metadata": {},
   "outputs": [
    {
     "data": {
      "text/plain": [
       "dict_keys(['assignment', 'launch date', 'class timing', 'mentor'])"
      ]
     },
     "execution_count": 32,
     "metadata": {},
     "output_type": "execute_result"
    }
   ],
   "source": [
    "d6.keys()\n",
    "# to find the keys in the dict. "
   ]
  },
  {
   "cell_type": "code",
   "execution_count": 35,
   "id": "a8ee94fe-4c4f-4d65-aa90-2eb6baeea608",
   "metadata": {},
   "outputs": [
    {
     "data": {
      "text/plain": [
       "dict_values([(1, 2, 3, 4, 5, 6), {2, 3, 4, 6}, {'data science': 8, 'java with DSA': 7}, ['abid', 'asif', 'adeeb', 'amir']])"
      ]
     },
     "execution_count": 35,
     "metadata": {},
     "output_type": "execute_result"
    }
   ],
   "source": [
    "d6.values()\n",
    "# to find the values in the dict. "
   ]
  },
  {
   "cell_type": "code",
   "execution_count": 36,
   "id": "c47d38c9-5254-43b3-b901-d65518c011d6",
   "metadata": {},
   "outputs": [
    {
     "data": {
      "text/plain": [
       "[('assignment', (1, 2, 3, 4, 5, 6)),\n",
       " ('launch date', {2, 3, 4, 6}),\n",
       " ('class timing', {'data science': 8, 'java with DSA': 7}),\n",
       " ('mentor', ['abid', 'asif', 'adeeb', 'amir'])]"
      ]
     },
     "execution_count": 36,
     "metadata": {},
     "output_type": "execute_result"
    }
   ],
   "source": [
    "list(d6.items())\n",
    "# it uses for listing the itmes and key value"
   ]
  },
  {
   "cell_type": "code",
   "execution_count": 37,
   "id": "e4af266f-2708-4691-94ea-70c9050869c2",
   "metadata": {},
   "outputs": [
    {
     "data": {
      "text/plain": [
       "(1, 2, 3, 4, 5, 6)"
      ]
     },
     "execution_count": 37,
     "metadata": {},
     "output_type": "execute_result"
    }
   ],
   "source": [
    "d6.pop('assignment')\n",
    "# here we need to provide key value to remove"
   ]
  },
  {
   "cell_type": "code",
   "execution_count": 38,
   "id": "d0ef386c-be3e-4247-994e-711c6b1f4fb1",
   "metadata": {},
   "outputs": [
    {
     "data": {
      "text/plain": [
       "{'launch date': {2, 3, 4, 6},\n",
       " 'class timing': {'data science': 8, 'java with DSA': 7},\n",
       " 'mentor': ['abid', 'asif', 'adeeb', 'amir']}"
      ]
     },
     "execution_count": 38,
     "metadata": {},
     "output_type": "execute_result"
    }
   ],
   "source": [
    "d6"
   ]
  },
  {
   "cell_type": "code",
   "execution_count": 39,
   "id": "50f6be44-4786-4ae2-b9fd-5df19cd91565",
   "metadata": {},
   "outputs": [],
   "source": [
    "# starts with if else (if and elif)"
   ]
  },
  {
   "cell_type": "code",
   "execution_count": 67,
   "id": "24d2aa3b-7695-4c4a-b270-6881e289e081",
   "metadata": {},
   "outputs": [
    {
     "name": "stdin",
     "output_type": "stream",
     "text": [
      "Enter your marks 40\n"
     ]
    },
    {
     "name": "stdout",
     "output_type": "stream",
     "text": [
      "you will be a part of A2 batch\n"
     ]
    }
   ],
   "source": [
    "marks = int(input(\"Enter your marks\"))\n",
    "if marks >= 80 : \n",
    "    print(\"you will be a part of A0 batch\")\n",
    "elif marks >= 60 and marks< 80 :\n",
    "        print(\"you will be a part of A1 batch\")\n",
    "elif marks >= 40 and marks <60 :\n",
    "        print(\"you will be a part of A2 batch\")\n",
    "else :\n",
    "        print(\"you will be a part of A3 batch\")\n",
    "# pehle condition define krte hai then data input krte hai "
   ]
  },
  {
   "cell_type": "code",
   "execution_count": 72,
   "id": "664cd2b0-929a-40e2-a34d-57e8b24db76a",
   "metadata": {},
   "outputs": [
    {
     "name": "stdin",
     "output_type": "stream",
     "text": [
      "enter price 1200\n"
     ]
    },
    {
     "name": "stdout",
     "output_type": "stream",
     "text": [
      "i will not purchase\n"
     ]
    }
   ],
   "source": [
    "price = int(input(\"enter price\"))\n",
    "if price > 1000:\n",
    "    print(\"i will not purchase\")\n",
    "else :\n",
    "        print(\"i will purchase\")"
   ]
  },
  {
   "cell_type": "code",
   "execution_count": 79,
   "id": "14e23c28-b851-4462-810a-91c6756dacc3",
   "metadata": {},
   "outputs": [
    {
     "name": "stdin",
     "output_type": "stream",
     "text": [
      "enter the price 10\n"
     ]
    }
   ],
   "source": [
    "price = int(input(\"enter the price\"))\n",
    "if price >= 20:\n",
    "    print(\"i ll buy\")"
   ]
  },
  {
   "cell_type": "code",
   "execution_count": 15,
   "id": "5b87875a-2e4f-482f-b7c4-a819c1dc0310",
   "metadata": {},
   "outputs": [
    {
     "name": "stdin",
     "output_type": "stream",
     "text": [
      "enter the price 2200\n"
     ]
    },
    {
     "name": "stdout",
     "output_type": "stream",
     "text": [
      "i ll not buy\n",
      "price is too high\n"
     ]
    }
   ],
   "source": [
    "price = int(input(\"enter the price\"))\n",
    "if price >= 2000:\n",
    "    print(\"i ll not buy\")\n",
    "    if price > 2000:\n",
    "        print(\"price is too high\")\n",
    "elif price < 2000:\n",
    "            print(\"its OK\")\n",
    "else : \n",
    "    print(\"not interested\")"
   ]
  },
  {
   "cell_type": "code",
   "execution_count": 3,
   "id": "3aa0882d-4dbc-4bc2-8282-0ffe2d498297",
   "metadata": {},
   "outputs": [],
   "source": [
    "l = [1,2,3,4,5,6,7,8]\n",
    "# need to add 1 in each element"
   ]
  },
  {
   "cell_type": "code",
   "execution_count": 4,
   "id": "fe16588e-f3f3-4866-b7b4-f52f3353b510",
   "metadata": {},
   "outputs": [
    {
     "data": {
      "text/plain": [
       "2"
      ]
     },
     "execution_count": 4,
     "metadata": {},
     "output_type": "execute_result"
    }
   ],
   "source": [
    "l[0] + 1"
   ]
  },
  {
   "cell_type": "code",
   "execution_count": 5,
   "id": "40815a2e-477f-432a-8e17-26c54756aaa4",
   "metadata": {},
   "outputs": [],
   "source": [
    "l1 = []"
   ]
  },
  {
   "cell_type": "code",
   "execution_count": 6,
   "id": "65b25d1b-5d13-4cd9-880a-c0ce1a9a7146",
   "metadata": {},
   "outputs": [],
   "source": [
    "l1.append(l[0] + 1)"
   ]
  },
  {
   "cell_type": "code",
   "execution_count": 7,
   "id": "7120b45a-e86d-48a0-a4de-1c3adc57d976",
   "metadata": {},
   "outputs": [
    {
     "data": {
      "text/plain": [
       "[2]"
      ]
     },
     "execution_count": 7,
     "metadata": {},
     "output_type": "execute_result"
    }
   ],
   "source": [
    "l1"
   ]
  },
  {
   "cell_type": "code",
   "execution_count": 8,
   "id": "c55d5e17-1486-4ae1-8d97-a30a6c1a1ca6",
   "metadata": {},
   "outputs": [
    {
     "data": {
      "text/plain": [
       "[1, 2, 3, 4, 5, 6, 7, 8]"
      ]
     },
     "execution_count": 8,
     "metadata": {},
     "output_type": "execute_result"
    }
   ],
   "source": [
    "l "
   ]
  },
  {
   "cell_type": "code",
   "execution_count": 9,
   "id": "5c9ffb6b-82b5-4e4d-9912-31f4e49afe11",
   "metadata": {},
   "outputs": [
    {
     "data": {
      "text/plain": [
       "[2]"
      ]
     },
     "execution_count": 9,
     "metadata": {},
     "output_type": "execute_result"
    }
   ],
   "source": [
    "l1"
   ]
  },
  {
   "cell_type": "code",
   "execution_count": 12,
   "id": "0968df34-d8e3-4956-8ed6-9953dbfc77eb",
   "metadata": {},
   "outputs": [
    {
     "name": "stdout",
     "output_type": "stream",
     "text": [
      "1\n",
      "2\n",
      "3\n",
      "4\n",
      "5\n",
      "6\n",
      "7\n",
      "8\n"
     ]
    }
   ],
   "source": [
    "for abid in l : \n",
    "    print(abid)\n",
    "# this is loop process"
   ]
  },
  {
   "cell_type": "code",
   "execution_count": 13,
   "id": "35a4e12f-9002-4a79-a113-513d9bb1214e",
   "metadata": {},
   "outputs": [
    {
     "name": "stdout",
     "output_type": "stream",
     "text": [
      "2\n",
      "3\n",
      "4\n",
      "5\n",
      "6\n",
      "7\n",
      "8\n",
      "9\n"
     ]
    }
   ],
   "source": [
    "for abid in l : \n",
    "    print(abid + 1)\n",
    "#     to add value in the givel list "
   ]
  },
  {
   "cell_type": "code",
   "execution_count": 14,
   "id": "0c282d5b-a520-4bb9-ac97-ce66775d9a21",
   "metadata": {},
   "outputs": [
    {
     "name": "stdout",
     "output_type": "stream",
     "text": [
      "2\n",
      "3\n",
      "4\n",
      "5\n",
      "6\n",
      "7\n",
      "8\n",
      "9\n"
     ]
    },
    {
     "data": {
      "text/plain": [
       "[2, 3, 4, 5, 6, 7, 8, 9]"
      ]
     },
     "execution_count": 14,
     "metadata": {},
     "output_type": "execute_result"
    }
   ],
   "source": [
    "l1 = []\n",
    "for abid in l : \n",
    "    print(abid + 1)\n",
    "    l1.append(abid + 1)\n",
    "l1"
   ]
  },
  {
   "cell_type": "code",
   "execution_count": 15,
   "id": "1b2d1162-5fbb-4640-ba18-3d9cfc3a187c",
   "metadata": {},
   "outputs": [
    {
     "data": {
      "text/plain": [
       "[2, 3, 4, 5, 6, 7, 8, 9]"
      ]
     },
     "execution_count": 15,
     "metadata": {},
     "output_type": "execute_result"
    }
   ],
   "source": [
    "l1"
   ]
  },
  {
   "cell_type": "code",
   "execution_count": 2,
   "id": "3aba40a3-8bd1-4091-b155-2ba65eab6f09",
   "metadata": {},
   "outputs": [],
   "source": [
    "l2 = [\"abid\", \"course\" , \"pwskills\", \"kumar\"]"
   ]
  },
  {
   "cell_type": "code",
   "execution_count": 4,
   "id": "d0bcc79e-2014-4ec9-a640-0f33a7cff87b",
   "metadata": {},
   "outputs": [
    {
     "name": "stdout",
     "output_type": "stream",
     "text": [
      "abid\n",
      "course\n",
      "pwskills\n",
      "kumar\n"
     ]
    }
   ],
   "source": [
    "l3 = []\n",
    "for i in l2:\n",
    "    print(i)\n",
    "    l3.append(i.upper())"
   ]
  },
  {
   "cell_type": "code",
   "execution_count": 3,
   "id": "0a75f2bd-455e-48d0-be1a-25427579b60e",
   "metadata": {},
   "outputs": [
    {
     "data": {
      "text/plain": [
       "['abid', 'course', 'pwskills', 'kumar']"
      ]
     },
     "execution_count": 3,
     "metadata": {},
     "output_type": "execute_result"
    }
   ],
   "source": [
    "l2"
   ]
  },
  {
   "cell_type": "code",
   "execution_count": 5,
   "id": "381de316-6dd7-4498-b8c9-5af6ed9b05a1",
   "metadata": {},
   "outputs": [
    {
     "data": {
      "text/plain": [
       "['ABID', 'COURSE', 'PWSKILLS', 'KUMAR']"
      ]
     },
     "execution_count": 5,
     "metadata": {},
     "output_type": "execute_result"
    }
   ],
   "source": [
    "l3"
   ]
  },
  {
   "cell_type": "code",
   "execution_count": 7,
   "id": "803cfae8-09af-417b-bee3-627b288d2201",
   "metadata": {},
   "outputs": [],
   "source": [
    "z = [1,2,3,4, \"abid\", \"kumar\", 3234, 25.435, \"abcd\"]"
   ]
  },
  {
   "cell_type": "code",
   "execution_count": 8,
   "id": "40714625-bed9-4f1c-9c26-4e8ac13a3a7c",
   "metadata": {},
   "outputs": [
    {
     "data": {
      "text/plain": [
       "[1, 2, 3, 4, 'abid', 'kumar', 3234, 25.435, 'abcd']"
      ]
     },
     "execution_count": 8,
     "metadata": {},
     "output_type": "execute_result"
    }
   ],
   "source": [
    "z"
   ]
  },
  {
   "cell_type": "code",
   "execution_count": 10,
   "id": "2b275896-a6dd-4fcf-bee5-379d0d757279",
   "metadata": {},
   "outputs": [],
   "source": [
    "z1_num = []\n",
    "z2_str = []\n",
    "for i in z :\n",
    "    if  type(i) == int or type(i) == float :\n",
    "        z1_num.append(i)\n",
    "    else :\n",
    "        z2_str.append(i)\n",
    "        \n",
    "# program use to seperate the data in the list "
   ]
  },
  {
   "cell_type": "code",
   "execution_count": 11,
   "id": "e395e99f-7687-433f-abfd-0375ae5e6bb7",
   "metadata": {},
   "outputs": [
    {
     "data": {
      "text/plain": [
       "[1, 2, 3, 4, 3234, 25.435]"
      ]
     },
     "execution_count": 11,
     "metadata": {},
     "output_type": "execute_result"
    }
   ],
   "source": [
    "z1_num"
   ]
  },
  {
   "cell_type": "code",
   "execution_count": 12,
   "id": "78b6f998-1863-4dac-a9ef-234b85bdbca6",
   "metadata": {},
   "outputs": [
    {
     "data": {
      "text/plain": [
       "['abid', 'kumar', 'abcd']"
      ]
     },
     "execution_count": 12,
     "metadata": {},
     "output_type": "execute_result"
    }
   ],
   "source": [
    "z2_str"
   ]
  },
  {
   "cell_type": "code",
   "execution_count": null,
   "id": "d4e122f1-81f6-4a85-a4df-29b53ce6acc8",
   "metadata": {},
   "outputs": [],
   "source": []
  }
 ],
 "metadata": {
  "kernelspec": {
   "display_name": "Python 3 (ipykernel)",
   "language": "python",
   "name": "python3"
  },
  "language_info": {
   "codemirror_mode": {
    "name": "ipython",
    "version": 3
   },
   "file_extension": ".py",
   "mimetype": "text/x-python",
   "name": "python",
   "nbconvert_exporter": "python",
   "pygments_lexer": "ipython3",
   "version": "3.10.8"
  }
 },
 "nbformat": 4,
 "nbformat_minor": 5
}
