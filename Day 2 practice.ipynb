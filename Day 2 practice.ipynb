{
 "cells": [
  {
   "cell_type": "code",
   "execution_count": 1,
   "id": "49788e39-7f03-4664-8879-3d67569ed788",
   "metadata": {},
   "outputs": [
    {
     "data": {
      "text/plain": [
       "2"
      ]
     },
     "execution_count": 1,
     "metadata": {},
     "output_type": "execute_result"
    }
   ],
   "source": [
    "1+1"
   ]
  },
  {
   "cell_type": "code",
   "execution_count": 2,
   "id": "c5b802ed-3ce4-4418-945a-b20a1ed9a6db",
   "metadata": {},
   "outputs": [
    {
     "data": {
      "text/plain": [
       "25"
      ]
     },
     "execution_count": 2,
     "metadata": {},
     "output_type": "execute_result"
    }
   ],
   "source": [
    "5*5"
   ]
  },
  {
   "cell_type": "code",
   "execution_count": 3,
   "id": "eceb460e-9c16-4777-a176-3daff7760caa",
   "metadata": {},
   "outputs": [],
   "source": [
    "a = 10"
   ]
  },
  {
   "cell_type": "code",
   "execution_count": 4,
   "id": "8da768ba-4a00-4eef-9b60-53bbb9757494",
   "metadata": {},
   "outputs": [],
   "source": [
    "abid = 20"
   ]
  },
  {
   "cell_type": "code",
   "execution_count": 5,
   "id": "dc13fca6-59ac-4818-8505-3bc99ab2451f",
   "metadata": {},
   "outputs": [
    {
     "data": {
      "text/plain": [
       "20"
      ]
     },
     "execution_count": 5,
     "metadata": {},
     "output_type": "execute_result"
    }
   ],
   "source": [
    "abid"
   ]
  },
  {
   "cell_type": "code",
   "execution_count": 6,
   "id": "720fe2e6-5186-42cc-b2e0-d52751a4ece1",
   "metadata": {},
   "outputs": [
    {
     "data": {
      "text/plain": [
       "10"
      ]
     },
     "execution_count": 6,
     "metadata": {},
     "output_type": "execute_result"
    }
   ],
   "source": [
    "a"
   ]
  },
  {
   "cell_type": "code",
   "execution_count": 7,
   "id": "b6757d6c-79e1-4273-beb2-4ef178bb86c7",
   "metadata": {},
   "outputs": [
    {
     "data": {
      "text/plain": [
       "30"
      ]
     },
     "execution_count": 7,
     "metadata": {},
     "output_type": "execute_result"
    }
   ],
   "source": [
    "a+abid"
   ]
  },
  {
   "cell_type": "code",
   "execution_count": 8,
   "id": "8895dbf4-5536-4041-9b3d-1ecfc9abad5b",
   "metadata": {},
   "outputs": [
    {
     "data": {
      "text/plain": [
       "int"
      ]
     },
     "execution_count": 8,
     "metadata": {},
     "output_type": "execute_result"
    }
   ],
   "source": [
    "type(a)"
   ]
  },
  {
   "cell_type": "code",
   "execution_count": 9,
   "id": "b1791538-7dae-48ce-a1a6-c72a93251768",
   "metadata": {},
   "outputs": [
    {
     "data": {
      "text/plain": [
       "int"
      ]
     },
     "execution_count": 9,
     "metadata": {},
     "output_type": "execute_result"
    }
   ],
   "source": [
    "type(abid)"
   ]
  },
  {
   "cell_type": "code",
   "execution_count": 10,
   "id": "9bb67747-f042-4d3f-8d07-48c655744d9e",
   "metadata": {},
   "outputs": [],
   "source": [
    "c=42.25"
   ]
  },
  {
   "cell_type": "code",
   "execution_count": 11,
   "id": "a7fbc19f-1ad6-44e5-9b82-3323f7fdf78c",
   "metadata": {},
   "outputs": [
    {
     "data": {
      "text/plain": [
       "float"
      ]
     },
     "execution_count": 11,
     "metadata": {},
     "output_type": "execute_result"
    }
   ],
   "source": [
    "type(c)"
   ]
  },
  {
   "cell_type": "code",
   "execution_count": 12,
   "id": "80bab9e2-5b0c-4431-a878-ef092c5d4e09",
   "metadata": {},
   "outputs": [],
   "source": [
    "d = \"abcd\""
   ]
  },
  {
   "cell_type": "code",
   "execution_count": 13,
   "id": "738698a7-8a12-4318-a8c5-7b0aebd8bd24",
   "metadata": {},
   "outputs": [
    {
     "data": {
      "text/plain": [
       "'abcd'"
      ]
     },
     "execution_count": 13,
     "metadata": {},
     "output_type": "execute_result"
    }
   ],
   "source": [
    "d"
   ]
  },
  {
   "cell_type": "code",
   "execution_count": 14,
   "id": "58fe336e-5514-486b-b3a6-dfe5d40be9bb",
   "metadata": {},
   "outputs": [
    {
     "data": {
      "text/plain": [
       "str"
      ]
     },
     "execution_count": 14,
     "metadata": {},
     "output_type": "execute_result"
    }
   ],
   "source": [
    "type(d)"
   ]
  },
  {
   "cell_type": "code",
   "execution_count": 15,
   "id": "e6c0f3ad-d6ae-4f69-b61d-71ce3bdc6b7b",
   "metadata": {},
   "outputs": [],
   "source": [
    "n = True"
   ]
  },
  {
   "cell_type": "code",
   "execution_count": 16,
   "id": "ccb29f76-6558-4225-8d95-3cff35cede6d",
   "metadata": {},
   "outputs": [],
   "source": [
    "m = False"
   ]
  },
  {
   "cell_type": "code",
   "execution_count": 17,
   "id": "74818d51-c433-4304-8336-fe276ae32112",
   "metadata": {},
   "outputs": [
    {
     "data": {
      "text/plain": [
       "1"
      ]
     },
     "execution_count": 17,
     "metadata": {},
     "output_type": "execute_result"
    }
   ],
   "source": [
    "n + m"
   ]
  },
  {
   "cell_type": "code",
   "execution_count": 18,
   "id": "4228f4eb-af4d-4ae3-a7b8-1ae8ab86c816",
   "metadata": {},
   "outputs": [
    {
     "data": {
      "text/plain": [
       "20"
      ]
     },
     "execution_count": 18,
     "metadata": {},
     "output_type": "execute_result"
    }
   ],
   "source": [
    "abid "
   ]
  },
  {
   "cell_type": "code",
   "execution_count": 19,
   "id": "adcc07a0-0e20-47e1-b27f-acb2ce04ed41",
   "metadata": {},
   "outputs": [],
   "source": [
    "abid = 5 + 4j"
   ]
  },
  {
   "cell_type": "code",
   "execution_count": 20,
   "id": "6bfaa95e-cb99-4bd4-a962-97f293d851e7",
   "metadata": {},
   "outputs": [
    {
     "data": {
      "text/plain": [
       "complex"
      ]
     },
     "execution_count": 20,
     "metadata": {},
     "output_type": "execute_result"
    }
   ],
   "source": [
    "type(abid)"
   ]
  },
  {
   "cell_type": "code",
   "execution_count": 21,
   "id": "f08313d7-f355-4ce2-84b2-4c771b9eec03",
   "metadata": {},
   "outputs": [
    {
     "data": {
      "text/plain": [
       "5.0"
      ]
     },
     "execution_count": 21,
     "metadata": {},
     "output_type": "execute_result"
    }
   ],
   "source": [
    "abid.real"
   ]
  },
  {
   "cell_type": "code",
   "execution_count": 22,
   "id": "e7c4a44b-3136-46ae-8519-169c6577ceb9",
   "metadata": {},
   "outputs": [
    {
     "data": {
      "text/plain": [
       "4.0"
      ]
     },
     "execution_count": 22,
     "metadata": {},
     "output_type": "execute_result"
    }
   ],
   "source": [
    "abid.imag"
   ]
  },
  {
   "cell_type": "code",
   "execution_count": 23,
   "id": "678920d3-0eab-41d1-8bf9-e618154a29d7",
   "metadata": {},
   "outputs": [
    {
     "ename": "AttributeError",
     "evalue": "'complex' object has no attribute 'com'",
     "output_type": "error",
     "traceback": [
      "\u001b[0;31m---------------------------------------------------------------------------\u001b[0m",
      "\u001b[0;31mAttributeError\u001b[0m                            Traceback (most recent call last)",
      "Cell \u001b[0;32mIn[23], line 1\u001b[0m\n\u001b[0;32m----> 1\u001b[0m \u001b[43mabid\u001b[49m\u001b[38;5;241;43m.\u001b[39;49m\u001b[43mcom\u001b[49m\n",
      "\u001b[0;31mAttributeError\u001b[0m: 'complex' object has no attribute 'com'"
     ]
    }
   ],
   "source": [
    "abid.com"
   ]
  },
  {
   "cell_type": "code",
   "execution_count": 24,
   "id": "e37bb4fb-afe1-4447-9e37-0a50152c25fc",
   "metadata": {},
   "outputs": [
    {
     "ename": "SyntaxError",
     "evalue": "invalid syntax. Perhaps you forgot a comma? (3566725446.py, line 1)",
     "output_type": "error",
     "traceback": [
      "\u001b[0;36m  Cell \u001b[0;32mIn[24], line 1\u001b[0;36m\u001b[0m\n\u001b[0;31m    print(this my revision work)\u001b[0m\n\u001b[0m          ^\u001b[0m\n\u001b[0;31mSyntaxError\u001b[0m\u001b[0;31m:\u001b[0m invalid syntax. Perhaps you forgot a comma?\n"
     ]
    }
   ],
   "source": [
    "print(this my revision work)"
   ]
  },
  {
   "cell_type": "code",
   "execution_count": 25,
   "id": "5259fb48-baf1-43e3-a2af-4d1c2c9fbf66",
   "metadata": {},
   "outputs": [
    {
     "name": "stdout",
     "output_type": "stream",
     "text": [
      "this is my revision work\n"
     ]
    }
   ],
   "source": [
    "print('this is my revision work')"
   ]
  },
  {
   "cell_type": "code",
   "execution_count": 26,
   "id": "cc373270-9f7c-49fb-a8b4-d6e46e3f3a59",
   "metadata": {},
   "outputs": [
    {
     "name": "stdout",
     "output_type": "stream",
     "text": [
      "10\n"
     ]
    }
   ],
   "source": [
    "print(a)"
   ]
  },
  {
   "cell_type": "code",
   "execution_count": 27,
   "id": "3ed4ce3f-ddbc-43af-a473-446e20020e8d",
   "metadata": {},
   "outputs": [
    {
     "ename": "NameError",
     "evalue": "name 'b' is not defined",
     "output_type": "error",
     "traceback": [
      "\u001b[0;31m---------------------------------------------------------------------------\u001b[0m",
      "\u001b[0;31mNameError\u001b[0m                                 Traceback (most recent call last)",
      "Cell \u001b[0;32mIn[27], line 1\u001b[0m\n\u001b[0;32m----> 1\u001b[0m \u001b[38;5;28mprint\u001b[39m(\u001b[43mb\u001b[49m)\n",
      "\u001b[0;31mNameError\u001b[0m: name 'b' is not defined"
     ]
    }
   ],
   "source": [
    "print(b)"
   ]
  },
  {
   "cell_type": "code",
   "execution_count": 28,
   "id": "c466026e-e3e9-45b0-bab9-204ef471d5be",
   "metadata": {},
   "outputs": [
    {
     "name": "stdout",
     "output_type": "stream",
     "text": [
      "(5+4j)\n"
     ]
    }
   ],
   "source": [
    "print(abid)"
   ]
  },
  {
   "cell_type": "code",
   "execution_count": 29,
   "id": "b67da689-2497-4729-8abe-762e1a355ca6",
   "metadata": {},
   "outputs": [
    {
     "ename": "NameError",
     "evalue": "name 'pwskills' is not defined",
     "output_type": "error",
     "traceback": [
      "\u001b[0;31m---------------------------------------------------------------------------\u001b[0m",
      "\u001b[0;31mNameError\u001b[0m                                 Traceback (most recent call last)",
      "Cell \u001b[0;32mIn[29], line 1\u001b[0m\n\u001b[0;32m----> 1\u001b[0m s \u001b[38;5;241m=\u001b[39m \u001b[43mpwskills\u001b[49m\n",
      "\u001b[0;31mNameError\u001b[0m: name 'pwskills' is not defined"
     ]
    }
   ],
   "source": [
    "s = pwskills"
   ]
  },
  {
   "cell_type": "code",
   "execution_count": 30,
   "id": "e5c3eefa-21df-4c09-b0d3-859c6b813b85",
   "metadata": {},
   "outputs": [],
   "source": [
    "s = \"pwskills\""
   ]
  },
  {
   "cell_type": "code",
   "execution_count": 31,
   "id": "efcc097c-225b-4216-b678-35b6f12d3e25",
   "metadata": {},
   "outputs": [
    {
     "data": {
      "text/plain": [
       "'pwskills'"
      ]
     },
     "execution_count": 31,
     "metadata": {},
     "output_type": "execute_result"
    }
   ],
   "source": [
    "s"
   ]
  },
  {
   "cell_type": "code",
   "execution_count": 32,
   "id": "e6b13fae-a5b5-485f-b6e3-12f6e70055ae",
   "metadata": {},
   "outputs": [
    {
     "data": {
      "text/plain": [
       "str"
      ]
     },
     "execution_count": 32,
     "metadata": {},
     "output_type": "execute_result"
    }
   ],
   "source": [
    "type(s)"
   ]
  },
  {
   "cell_type": "code",
   "execution_count": 33,
   "id": "a9635a0e-d75d-48fc-9bdc-d47534a08dcb",
   "metadata": {},
   "outputs": [
    {
     "data": {
      "text/plain": [
       "'s'"
      ]
     },
     "execution_count": 33,
     "metadata": {},
     "output_type": "execute_result"
    }
   ],
   "source": [
    "s[-1]"
   ]
  },
  {
   "cell_type": "code",
   "execution_count": 34,
   "id": "7ffeead8-d349-41c1-81ce-7560244dd572",
   "metadata": {},
   "outputs": [
    {
     "data": {
      "text/plain": [
       "'p'"
      ]
     },
     "execution_count": 34,
     "metadata": {},
     "output_type": "execute_result"
    }
   ],
   "source": [
    "s[0]"
   ]
  },
  {
   "cell_type": "code",
   "execution_count": 35,
   "id": "6144abea-946f-436c-9b53-e82705fe63c3",
   "metadata": {},
   "outputs": [
    {
     "data": {
      "text/plain": [
       "'pws'"
      ]
     },
     "execution_count": 35,
     "metadata": {},
     "output_type": "execute_result"
    }
   ],
   "source": [
    "s[0:3]"
   ]
  },
  {
   "cell_type": "code",
   "execution_count": 36,
   "id": "a6592b83-d0d3-44ed-ad7a-803adaf2efdf",
   "metadata": {},
   "outputs": [
    {
     "data": {
      "text/plain": [
       "'pw'"
      ]
     },
     "execution_count": 36,
     "metadata": {},
     "output_type": "execute_result"
    }
   ],
   "source": [
    "s[0:2]"
   ]
  },
  {
   "cell_type": "code",
   "execution_count": 37,
   "id": "5c05c748-d7f7-4349-87e5-7a7b4253a7fb",
   "metadata": {},
   "outputs": [
    {
     "data": {
      "text/plain": [
       "'pwskills'"
      ]
     },
     "execution_count": 37,
     "metadata": {},
     "output_type": "execute_result"
    }
   ],
   "source": [
    "s[::1]"
   ]
  },
  {
   "cell_type": "code",
   "execution_count": 38,
   "id": "54d83b00-5a12-4955-afb7-94f20381141a",
   "metadata": {},
   "outputs": [
    {
     "data": {
      "text/plain": [
       "'pkl'"
      ]
     },
     "execution_count": 38,
     "metadata": {},
     "output_type": "execute_result"
    }
   ],
   "source": [
    "s[::3]"
   ]
  },
  {
   "cell_type": "code",
   "execution_count": 39,
   "id": "38b600de-21bf-4800-a90c-e69275c23352",
   "metadata": {},
   "outputs": [
    {
     "data": {
      "text/plain": [
       "'psil'"
      ]
     },
     "execution_count": 39,
     "metadata": {},
     "output_type": "execute_result"
    }
   ],
   "source": [
    "s[::2]"
   ]
  },
  {
   "cell_type": "code",
   "execution_count": 40,
   "id": "c1350cfa-0bf5-4f7c-aec7-8d5f80461af9",
   "metadata": {},
   "outputs": [
    {
     "data": {
      "text/plain": [
       "'sllikswp'"
      ]
     },
     "execution_count": 40,
     "metadata": {},
     "output_type": "execute_result"
    }
   ],
   "source": [
    "s[::-1]"
   ]
  },
  {
   "cell_type": "code",
   "execution_count": 41,
   "id": "db5d849e-2aad-4d1c-812e-1ed90c66c96a",
   "metadata": {},
   "outputs": [
    {
     "data": {
      "text/plain": [
       "'pwskills'"
      ]
     },
     "execution_count": 41,
     "metadata": {},
     "output_type": "execute_result"
    }
   ],
   "source": [
    "s[:90:]"
   ]
  },
  {
   "cell_type": "code",
   "execution_count": 42,
   "id": "a6456c95-ff65-442a-8fec-4072436195db",
   "metadata": {},
   "outputs": [
    {
     "data": {
      "text/plain": [
       "''"
      ]
     },
     "execution_count": 42,
     "metadata": {},
     "output_type": "execute_result"
    }
   ],
   "source": [
    "s[:-90:]"
   ]
  },
  {
   "cell_type": "code",
   "execution_count": 43,
   "id": "668f9e72-d4e5-44bf-91e0-3cad6369f26d",
   "metadata": {},
   "outputs": [
    {
     "ename": "IndexError",
     "evalue": "string index out of range",
     "output_type": "error",
     "traceback": [
      "\u001b[0;31m---------------------------------------------------------------------------\u001b[0m",
      "\u001b[0;31mIndexError\u001b[0m                                Traceback (most recent call last)",
      "Cell \u001b[0;32mIn[43], line 1\u001b[0m\n\u001b[0;32m----> 1\u001b[0m \u001b[43ms\u001b[49m\u001b[43m[\u001b[49m\u001b[38;5;241;43m90\u001b[39;49m\u001b[43m]\u001b[49m\n",
      "\u001b[0;31mIndexError\u001b[0m: string index out of range"
     ]
    }
   ],
   "source": [
    "s[90]"
   ]
  },
  {
   "cell_type": "code",
   "execution_count": 44,
   "id": "485b9b8f-1fc9-4df9-a2a6-4225d5027e86",
   "metadata": {},
   "outputs": [
    {
     "data": {
      "text/plain": [
       "''"
      ]
     },
     "execution_count": 44,
     "metadata": {},
     "output_type": "execute_result"
    }
   ],
   "source": [
    "s[:90:-1]"
   ]
  },
  {
   "cell_type": "code",
   "execution_count": 45,
   "id": "bda7a8a8-e3d6-472e-99cf-6df91230ad0e",
   "metadata": {},
   "outputs": [],
   "source": [
    "s1 = \"this is my first programe\""
   ]
  },
  {
   "cell_type": "code",
   "execution_count": 46,
   "id": "c413601d-7e3c-4eef-a900-f05b19d33c8b",
   "metadata": {},
   "outputs": [
    {
     "data": {
      "text/plain": [
       "'this is my first programe'"
      ]
     },
     "execution_count": 46,
     "metadata": {},
     "output_type": "execute_result"
    }
   ],
   "source": [
    "s1"
   ]
  },
  {
   "cell_type": "code",
   "execution_count": 47,
   "id": "ec4e554f-f3ef-4476-9961-7dcd02b35463",
   "metadata": {},
   "outputs": [
    {
     "data": {
      "text/plain": [
       "str"
      ]
     },
     "execution_count": 47,
     "metadata": {},
     "output_type": "execute_result"
    }
   ],
   "source": [
    "type(s1)"
   ]
  },
  {
   "cell_type": "code",
   "execution_count": 48,
   "id": "ddaf6d7c-47fc-4c5e-b32d-b2986dc48f95",
   "metadata": {},
   "outputs": [
    {
     "data": {
      "text/plain": [
       "25"
      ]
     },
     "execution_count": 48,
     "metadata": {},
     "output_type": "execute_result"
    }
   ],
   "source": [
    "len(s1)"
   ]
  },
  {
   "cell_type": "code",
   "execution_count": 49,
   "id": "2cd40ed5-fe3c-4ad4-8497-dfa6eb3a5697",
   "metadata": {},
   "outputs": [
    {
     "data": {
      "text/plain": [
       "3"
      ]
     },
     "execution_count": 49,
     "metadata": {},
     "output_type": "execute_result"
    }
   ],
   "source": [
    "s1.find('s')"
   ]
  },
  {
   "cell_type": "code",
   "execution_count": 50,
   "id": "beb4b1f7-9d90-48ce-bc15-3486bb604c11",
   "metadata": {},
   "outputs": [
    {
     "data": {
      "text/plain": [
       "8"
      ]
     },
     "execution_count": 50,
     "metadata": {},
     "output_type": "execute_result"
    }
   ],
   "source": [
    "s1.find(\"m\")\n",
    "# it use to find the index of the string"
   ]
  },
  {
   "cell_type": "code",
   "execution_count": 51,
   "id": "b3c2db99-b24c-4d2c-bbc8-e2f16599168c",
   "metadata": {},
   "outputs": [
    {
     "data": {
      "text/plain": [
       "2"
      ]
     },
     "execution_count": 51,
     "metadata": {},
     "output_type": "execute_result"
    }
   ],
   "source": [
    "s1.find('is')"
   ]
  },
  {
   "cell_type": "code",
   "execution_count": 52,
   "id": "dbf6ca8a-91c6-49d2-bef3-cac497eae20d",
   "metadata": {},
   "outputs": [
    {
     "data": {
      "text/plain": [
       "1"
      ]
     },
     "execution_count": 52,
     "metadata": {},
     "output_type": "execute_result"
    }
   ],
   "source": [
    "s1.count('st')\n",
    "# it uses to find the number of occurance in the string"
   ]
  },
  {
   "cell_type": "code",
   "execution_count": 53,
   "id": "1d3305a8-774e-4661-8a19-940ce3e27d66",
   "metadata": {},
   "outputs": [
    {
     "data": {
      "text/plain": [
       "0"
      ]
     },
     "execution_count": 53,
     "metadata": {},
     "output_type": "execute_result"
    }
   ],
   "source": [
    "s1.count('z')"
   ]
  },
  {
   "cell_type": "code",
   "execution_count": 55,
   "id": "53ff9e5d-2a53-46cc-9e20-5f23493774cb",
   "metadata": {},
   "outputs": [
    {
     "data": {
      "text/plain": [
       "'this is my first programe'"
      ]
     },
     "execution_count": 55,
     "metadata": {},
     "output_type": "execute_result"
    }
   ],
   "source": [
    "s1.lower()\n",
    "# it uses to lower chaterater"
   ]
  },
  {
   "cell_type": "code",
   "execution_count": 56,
   "id": "dc203ee3-9e0c-445c-bdd3-0c5783962bf5",
   "metadata": {},
   "outputs": [
    {
     "data": {
      "text/plain": [
       "'This Is My First Programe'"
      ]
     },
     "execution_count": 56,
     "metadata": {},
     "output_type": "execute_result"
    }
   ],
   "source": [
    "s1.title()\n",
    "# it use to capitalize all the first letter of the string"
   ]
  },
  {
   "cell_type": "code",
   "execution_count": 58,
   "id": "3b5f6cea-e311-4283-af3c-f7ecaf43dd64",
   "metadata": {},
   "outputs": [
    {
     "data": {
      "text/plain": [
       "'This is my first programe'"
      ]
     },
     "execution_count": 58,
     "metadata": {},
     "output_type": "execute_result"
    }
   ],
   "source": [
    "s1.capitalize()\n",
    "# it uses to capitalize only first char. of the string"
   ]
  },
  {
   "cell_type": "code",
   "execution_count": 59,
   "id": "97242437-c526-43e5-a80f-cd7a7b213f1b",
   "metadata": {},
   "outputs": [
    {
     "data": {
      "text/plain": [
       "'pwskills'"
      ]
     },
     "execution_count": 59,
     "metadata": {},
     "output_type": "execute_result"
    }
   ],
   "source": [
    "s"
   ]
  },
  {
   "cell_type": "code",
   "execution_count": 60,
   "id": "a86fe074-4fcb-4d45-922d-4ec4d8b80d8c",
   "metadata": {},
   "outputs": [
    {
     "ename": "TypeError",
     "evalue": "can only concatenate str (not \"int\") to str",
     "output_type": "error",
     "traceback": [
      "\u001b[0;31m---------------------------------------------------------------------------\u001b[0m",
      "\u001b[0;31mTypeError\u001b[0m                                 Traceback (most recent call last)",
      "Cell \u001b[0;32mIn[60], line 1\u001b[0m\n\u001b[0;32m----> 1\u001b[0m \u001b[43ms\u001b[49m\u001b[43m \u001b[49m\u001b[38;5;241;43m+\u001b[39;49m\u001b[43m \u001b[49m\u001b[38;5;241;43m1\u001b[39;49m\n",
      "\u001b[0;31mTypeError\u001b[0m: can only concatenate str (not \"int\") to str"
     ]
    }
   ],
   "source": [
    "s + 1\n",
    "# it only contatinate string with the string no with int"
   ]
  },
  {
   "cell_type": "code",
   "execution_count": 62,
   "id": "f990b2ec-02d1-4be6-b459-4904e896d1db",
   "metadata": {},
   "outputs": [
    {
     "data": {
      "text/plain": [
       "'pwskills1'"
      ]
     },
     "execution_count": 62,
     "metadata": {},
     "output_type": "execute_result"
    }
   ],
   "source": [
    "s + str(1)\n",
    "# only concatinate(add) with same type "
   ]
  },
  {
   "cell_type": "code",
   "execution_count": 64,
   "id": "97d6deee-32b5-4899-b723-78304765030d",
   "metadata": {},
   "outputs": [],
   "source": [
    "# string + string hota hai \n",
    "# string / string nhi hota hai "
   ]
  },
  {
   "cell_type": "code",
   "execution_count": 65,
   "id": "501e36cf-9127-4444-bc7b-f1dfda6314b7",
   "metadata": {},
   "outputs": [],
   "source": [
    "# either use single quote or double quote in the end and in middle"
   ]
  },
  {
   "cell_type": "code",
   "execution_count": 66,
   "id": "83697cee-277a-4013-abd0-ee41574afb47",
   "metadata": {},
   "outputs": [],
   "source": [
    "#  from here start the class of 31st jan"
   ]
  },
  {
   "cell_type": "code",
   "execution_count": 80,
   "id": "2a7fd072-d002-4173-a9af-18f2992ca5f3",
   "metadata": {},
   "outputs": [],
   "source": [
    "l = [1,245,24.225,'abid',True,4+7j,1458.368]\n",
    "# to make a list use middle bracket"
   ]
  },
  {
   "cell_type": "code",
   "execution_count": 68,
   "id": "0cf1210c-3d0e-4d5b-9573-bf68e2a56b93",
   "metadata": {},
   "outputs": [
    {
     "data": {
      "text/plain": [
       "list"
      ]
     },
     "execution_count": 68,
     "metadata": {},
     "output_type": "execute_result"
    }
   ],
   "source": [
    "type(l)"
   ]
  },
  {
   "cell_type": "code",
   "execution_count": 69,
   "id": "f7ea63d6-abbe-4d90-96ac-da49b251363c",
   "metadata": {},
   "outputs": [
    {
     "data": {
      "text/plain": [
       "[1, 245, 24.225]"
      ]
     },
     "execution_count": 69,
     "metadata": {},
     "output_type": "execute_result"
    }
   ],
   "source": [
    "l[:3]"
   ]
  },
  {
   "cell_type": "code",
   "execution_count": 70,
   "id": "aafc89d5-bf1f-46aa-ba58-c2a9c1069dfa",
   "metadata": {},
   "outputs": [
    {
     "data": {
      "text/plain": [
       "[1, 24.225, True, 1458.368]"
      ]
     },
     "execution_count": 70,
     "metadata": {},
     "output_type": "execute_result"
    }
   ],
   "source": [
    "l[::2]"
   ]
  },
  {
   "cell_type": "code",
   "execution_count": 71,
   "id": "57fcf1ed-7a52-463e-80b1-fcc22f983528",
   "metadata": {},
   "outputs": [
    {
     "data": {
      "text/plain": [
       "1"
      ]
     },
     "execution_count": 71,
     "metadata": {},
     "output_type": "execute_result"
    }
   ],
   "source": [
    "l[0]\n",
    "# there is same concept of slicing \n",
    "# which is apply on index number"
   ]
  },
  {
   "cell_type": "code",
   "execution_count": 72,
   "id": "61170c88-8b60-473d-a220-ff1427ad280a",
   "metadata": {},
   "outputs": [
    {
     "data": {
      "text/plain": [
       "[1]"
      ]
     },
     "execution_count": 72,
     "metadata": {},
     "output_type": "execute_result"
    }
   ],
   "source": [
    "l[0:1]"
   ]
  },
  {
   "cell_type": "code",
   "execution_count": 73,
   "id": "1c2d2f9b-ca57-44d7-ad69-61803f04ddaf",
   "metadata": {},
   "outputs": [
    {
     "data": {
      "text/plain": [
       "[1, 245, 24.225, (5+4j), True, (4+7j), 1458.368]"
      ]
     },
     "execution_count": 73,
     "metadata": {},
     "output_type": "execute_result"
    }
   ],
   "source": [
    "l"
   ]
  },
  {
   "cell_type": "code",
   "execution_count": 74,
   "id": "86f0f52d-aee3-44d1-9c28-34e3abe5832b",
   "metadata": {},
   "outputs": [
    {
     "data": {
      "text/plain": [
       "1458.368"
      ]
     },
     "execution_count": 74,
     "metadata": {},
     "output_type": "execute_result"
    }
   ],
   "source": [
    "l[-1]"
   ]
  },
  {
   "cell_type": "code",
   "execution_count": 76,
   "id": "910f7b4f-98fb-492e-842d-f72a8c277d30",
   "metadata": {},
   "outputs": [],
   "source": [
    "s = 'pwskills'"
   ]
  },
  {
   "cell_type": "code",
   "execution_count": 77,
   "id": "c709c167-123d-4b08-82a4-e8ba1280231f",
   "metadata": {},
   "outputs": [
    {
     "data": {
      "text/plain": [
       "'pwskills'"
      ]
     },
     "execution_count": 77,
     "metadata": {},
     "output_type": "execute_result"
    }
   ],
   "source": [
    "s"
   ]
  },
  {
   "cell_type": "code",
   "execution_count": 78,
   "id": "04968653-9ae6-48f3-9134-c45430eb7d51",
   "metadata": {},
   "outputs": [
    {
     "data": {
      "text/plain": [
       "['p',\n",
       " 'w',\n",
       " 's',\n",
       " 'k',\n",
       " 'i',\n",
       " 'l',\n",
       " 'l',\n",
       " 's',\n",
       " 1,\n",
       " 245,\n",
       " 24.225,\n",
       " (5+4j),\n",
       " True,\n",
       " (4+7j),\n",
       " 1458.368]"
      ]
     },
     "execution_count": 78,
     "metadata": {},
     "output_type": "execute_result"
    }
   ],
   "source": [
    "list(s)+l"
   ]
  },
  {
   "cell_type": "code",
   "execution_count": 79,
   "id": "f59517f9-44ed-4861-8f3d-f7eb3916b027",
   "metadata": {},
   "outputs": [
    {
     "data": {
      "text/plain": [
       "[1, 245, 24.225, (5+4j), True, (4+7j), 1458.368]"
      ]
     },
     "execution_count": 79,
     "metadata": {},
     "output_type": "execute_result"
    }
   ],
   "source": [
    "l"
   ]
  },
  {
   "cell_type": "code",
   "execution_count": 81,
   "id": "8653b098-8246-46fb-9380-0a2db3f9aa20",
   "metadata": {},
   "outputs": [
    {
     "data": {
      "text/plain": [
       "[1, 245, 24.225, 'abid', True, (4+7j), 1458.368]"
      ]
     },
     "execution_count": 81,
     "metadata": {},
     "output_type": "execute_result"
    }
   ],
   "source": [
    "l"
   ]
  },
  {
   "cell_type": "code",
   "execution_count": 82,
   "id": "4057adcc-113b-4cfd-9fb3-64114ec226f8",
   "metadata": {},
   "outputs": [
    {
     "data": {
      "text/plain": [
       "str"
      ]
     },
     "execution_count": 82,
     "metadata": {},
     "output_type": "execute_result"
    }
   ],
   "source": [
    "type(l[3])"
   ]
  },
  {
   "cell_type": "code",
   "execution_count": 83,
   "id": "a742efe4-80a5-458d-bd08-efc95324c6d8",
   "metadata": {},
   "outputs": [
    {
     "data": {
      "text/plain": [
       "'abid'"
      ]
     },
     "execution_count": 83,
     "metadata": {},
     "output_type": "execute_result"
    }
   ],
   "source": [
    "l[3]"
   ]
  },
  {
   "cell_type": "code",
   "execution_count": 84,
   "id": "f7577314-b58e-4b83-9def-b8b4ae98924f",
   "metadata": {},
   "outputs": [
    {
     "data": {
      "text/plain": [
       "'ab'"
      ]
     },
     "execution_count": 84,
     "metadata": {},
     "output_type": "execute_result"
    }
   ],
   "source": [
    "l[3][0:2]"
   ]
  },
  {
   "cell_type": "code",
   "execution_count": 85,
   "id": "3e252424-2678-4062-b3bb-643c932247ae",
   "metadata": {},
   "outputs": [
    {
     "data": {
      "text/plain": [
       "True"
      ]
     },
     "execution_count": 85,
     "metadata": {},
     "output_type": "execute_result"
    }
   ],
   "source": [
    "l[4]"
   ]
  },
  {
   "cell_type": "code",
   "execution_count": 86,
   "id": "bdf4cf8c-0b92-4dbb-a95f-7ea1989078ff",
   "metadata": {},
   "outputs": [
    {
     "data": {
      "text/plain": [
       "'Tr'"
      ]
     },
     "execution_count": 86,
     "metadata": {},
     "output_type": "execute_result"
    }
   ],
   "source": [
    "str(l[4])[0:2]"
   ]
  },
  {
   "cell_type": "code",
   "execution_count": 87,
   "id": "53f86100-1004-4c5c-b5c5-844c6f1aa55b",
   "metadata": {},
   "outputs": [
    {
     "data": {
      "text/plain": [
       "[1, 245, 24.225, 'abid', True, (4+7j), 1458.368]"
      ]
     },
     "execution_count": 87,
     "metadata": {},
     "output_type": "execute_result"
    }
   ],
   "source": [
    "l"
   ]
  },
  {
   "cell_type": "code",
   "execution_count": 88,
   "id": "1ba00e01-ba41-44dc-bfce-a6daff29e0fa",
   "metadata": {},
   "outputs": [],
   "source": [
    "l1 = [3,4,5]"
   ]
  },
  {
   "cell_type": "code",
   "execution_count": 89,
   "id": "0e7683e8-abe6-496f-af0d-346083e26b74",
   "metadata": {},
   "outputs": [
    {
     "data": {
      "text/plain": [
       "[1, 245, 24.225, 'abid', True, (4+7j), 1458.368, 3, 4, 5]"
      ]
     },
     "execution_count": 89,
     "metadata": {},
     "output_type": "execute_result"
    }
   ],
   "source": [
    "l + l1"
   ]
  },
  {
   "cell_type": "code",
   "execution_count": 90,
   "id": "60eca8d5-99a8-4d53-a14b-8360f66cc7f1",
   "metadata": {},
   "outputs": [
    {
     "data": {
      "text/plain": [
       "[3, 4, 5, 3, 4, 5, 3, 4, 5]"
      ]
     },
     "execution_count": 90,
     "metadata": {},
     "output_type": "execute_result"
    }
   ],
   "source": [
    "l1 * 3"
   ]
  },
  {
   "cell_type": "code",
   "execution_count": 91,
   "id": "55f8706e-b4f9-47e3-bc89-e15bddae7174",
   "metadata": {},
   "outputs": [
    {
     "data": {
      "text/plain": [
       "7"
      ]
     },
     "execution_count": 91,
     "metadata": {},
     "output_type": "execute_result"
    }
   ],
   "source": [
    "len(l)\n",
    "# use to count the number of list "
   ]
  },
  {
   "cell_type": "code",
   "execution_count": 92,
   "id": "0f8cca45-6642-41b2-a5d5-da11723e92cb",
   "metadata": {},
   "outputs": [],
   "source": [
    "l.append(5)\n",
    "# use to add value in the list"
   ]
  },
  {
   "cell_type": "code",
   "execution_count": 93,
   "id": "0eff37c3-2d3f-4de8-b419-055525a948e3",
   "metadata": {},
   "outputs": [
    {
     "data": {
      "text/plain": [
       "[1, 245, 24.225, 'abid', True, (4+7j), 1458.368, 5]"
      ]
     },
     "execution_count": 93,
     "metadata": {},
     "output_type": "execute_result"
    }
   ],
   "source": [
    "l"
   ]
  },
  {
   "cell_type": "code",
   "execution_count": 94,
   "id": "b3d7b00d-72d5-4d33-9d11-db64ac3222a7",
   "metadata": {},
   "outputs": [],
   "source": [
    "l.append(s)"
   ]
  },
  {
   "cell_type": "code",
   "execution_count": 95,
   "id": "86e2f2f1-889c-459c-947f-644e79a83500",
   "metadata": {},
   "outputs": [
    {
     "data": {
      "text/plain": [
       "[1, 245, 24.225, 'abid', True, (4+7j), 1458.368, 5, 'pwskills']"
      ]
     },
     "execution_count": 95,
     "metadata": {},
     "output_type": "execute_result"
    }
   ],
   "source": [
    "l"
   ]
  },
  {
   "cell_type": "code",
   "execution_count": 96,
   "id": "1031ca7a-2b7a-4a9c-80d3-208d62609bc8",
   "metadata": {},
   "outputs": [],
   "source": [
    "l.append(l1)"
   ]
  },
  {
   "cell_type": "code",
   "execution_count": 97,
   "id": "9a12bb98-11f8-4c2e-b582-fa531622d316",
   "metadata": {},
   "outputs": [
    {
     "data": {
      "text/plain": [
       "[1, 245, 24.225, 'abid', True, (4+7j), 1458.368, 5, 'pwskills', [3, 4, 5]]"
      ]
     },
     "execution_count": 97,
     "metadata": {},
     "output_type": "execute_result"
    }
   ],
   "source": [
    "l"
   ]
  },
  {
   "cell_type": "code",
   "execution_count": 98,
   "id": "b5b916bc-ecd3-4a9d-b13b-1fcef5352499",
   "metadata": {},
   "outputs": [
    {
     "data": {
      "text/plain": [
       "[3, 4, 5]"
      ]
     },
     "execution_count": 98,
     "metadata": {},
     "output_type": "execute_result"
    }
   ],
   "source": [
    "l[-1]"
   ]
  },
  {
   "cell_type": "code",
   "execution_count": 102,
   "id": "6ba98236-3e04-4191-8d29-86516d44645b",
   "metadata": {},
   "outputs": [
    {
     "data": {
      "text/plain": [
       "5"
      ]
     },
     "execution_count": 102,
     "metadata": {},
     "output_type": "execute_result"
    }
   ],
   "source": [
    "l[-1][2]"
   ]
  },
  {
   "cell_type": "code",
   "execution_count": 103,
   "id": "ba2eca8d-be50-45a7-93d6-4b5d6d167991",
   "metadata": {},
   "outputs": [],
   "source": [
    "l.extend(\"abid\")\n",
    "# extent use to add data in the list but in break form\n",
    "# data ke ander bhi data ho wahi add hoga jisko break kiya jaa ske"
   ]
  },
  {
   "cell_type": "code",
   "execution_count": 104,
   "id": "34e03222-8af7-4ca8-be2c-fc4fa1ac37d5",
   "metadata": {},
   "outputs": [
    {
     "data": {
      "text/plain": [
       "[1,\n",
       " 245,\n",
       " 24.225,\n",
       " 'abid',\n",
       " True,\n",
       " (4+7j),\n",
       " 1458.368,\n",
       " 5,\n",
       " 'pwskills',\n",
       " [3, 4, 5],\n",
       " 'a',\n",
       " 'b',\n",
       " 'i',\n",
       " 'd']"
      ]
     },
     "execution_count": 104,
     "metadata": {},
     "output_type": "execute_result"
    }
   ],
   "source": [
    "l"
   ]
  },
  {
   "cell_type": "code",
   "execution_count": 106,
   "id": "beeb221a-cbe5-426d-8329-bb224ca3600a",
   "metadata": {},
   "outputs": [],
   "source": [
    "l.extend([3,4,5])\n",
    "# after unwrapping the data it ll add"
   ]
  },
  {
   "cell_type": "code",
   "execution_count": 107,
   "id": "3d7f77b5-7ed0-47b7-9332-f6964b461f4e",
   "metadata": {},
   "outputs": [
    {
     "data": {
      "text/plain": [
       "[1,\n",
       " 245,\n",
       " 24.225,\n",
       " 'abid',\n",
       " True,\n",
       " (4+7j),\n",
       " 1458.368,\n",
       " 5,\n",
       " 'pwskills',\n",
       " [3, 4, 5],\n",
       " 'a',\n",
       " 'b',\n",
       " 'i',\n",
       " 'd',\n",
       " 3,\n",
       " 4,\n",
       " 5]"
      ]
     },
     "execution_count": 107,
     "metadata": {},
     "output_type": "execute_result"
    }
   ],
   "source": [
    "l"
   ]
  },
  {
   "cell_type": "code",
   "execution_count": 108,
   "id": "1957fa02-729c-4ec2-8404-e5c12c57ae43",
   "metadata": {},
   "outputs": [
    {
     "data": {
      "text/plain": [
       "[3, 4, 5]"
      ]
     },
     "execution_count": 108,
     "metadata": {},
     "output_type": "execute_result"
    }
   ],
   "source": [
    "l1"
   ]
  },
  {
   "cell_type": "code",
   "execution_count": 109,
   "id": "281fa190-921e-4217-9bcf-207ba8286929",
   "metadata": {},
   "outputs": [],
   "source": [
    "# we need to add data at specific position"
   ]
  },
  {
   "cell_type": "code",
   "execution_count": 110,
   "id": "99a9463f-e15c-4ceb-859e-cc7dd7acc765",
   "metadata": {},
   "outputs": [],
   "source": [
    "l1.insert(1,'abcd')"
   ]
  },
  {
   "cell_type": "code",
   "execution_count": 111,
   "id": "d1ee72db-c33b-41f4-8eb7-62e568608f7c",
   "metadata": {},
   "outputs": [
    {
     "data": {
      "text/plain": [
       "[3, 'abcd', 4, 5]"
      ]
     },
     "execution_count": 111,
     "metadata": {},
     "output_type": "execute_result"
    }
   ],
   "source": [
    "l1"
   ]
  },
  {
   "cell_type": "code",
   "execution_count": 112,
   "id": "89f4e07f-0bda-4408-b0fe-f76d4566939a",
   "metadata": {},
   "outputs": [],
   "source": [
    "l1.insert(3, [2,3,4])\n",
    "# 3 is the index number on which place i want to replace data \n",
    "# and 2,3,4 is the data which you want to add"
   ]
  },
  {
   "cell_type": "code",
   "execution_count": 113,
   "id": "9619640e-4059-4b0a-9438-4d48bdc11e7c",
   "metadata": {},
   "outputs": [
    {
     "data": {
      "text/plain": [
       "[3, 'abcd', 4, [2, 3, 4], 5]"
      ]
     },
     "execution_count": 113,
     "metadata": {},
     "output_type": "execute_result"
    }
   ],
   "source": [
    "l1"
   ]
  },
  {
   "cell_type": "code",
   "execution_count": 114,
   "id": "e6ed6431-aad8-4016-aa5e-1fdda1711fe7",
   "metadata": {},
   "outputs": [],
   "source": [
    "l1.insert(-1,9)\n",
    "# it uses reverse indexing"
   ]
  },
  {
   "cell_type": "code",
   "execution_count": 115,
   "id": "6ae593ef-075a-464f-8d52-e70acfe48e1d",
   "metadata": {},
   "outputs": [
    {
     "data": {
      "text/plain": [
       "[3, 'abcd', 4, [2, 3, 4], 9, 5]"
      ]
     },
     "execution_count": 115,
     "metadata": {},
     "output_type": "execute_result"
    }
   ],
   "source": [
    "l1"
   ]
  },
  {
   "cell_type": "code",
   "execution_count": 116,
   "id": "d17d662e-fa01-45c5-b103-93649700a82f",
   "metadata": {},
   "outputs": [],
   "source": [
    "l1.insert(0,34)"
   ]
  },
  {
   "cell_type": "code",
   "execution_count": 117,
   "id": "3810e958-1208-4c78-92e5-d3cfffc8d971",
   "metadata": {},
   "outputs": [
    {
     "data": {
      "text/plain": [
       "[34, 3, 'abcd', 4, [2, 3, 4], 9, 5]"
      ]
     },
     "execution_count": 117,
     "metadata": {},
     "output_type": "execute_result"
    }
   ],
   "source": [
    "l1"
   ]
  },
  {
   "cell_type": "code",
   "execution_count": 120,
   "id": "1373c9a5-7617-413c-9754-e3250f225f24",
   "metadata": {},
   "outputs": [],
   "source": [
    "# want to delette the data the what ll you do \n",
    "# use pop function"
   ]
  },
  {
   "cell_type": "code",
   "execution_count": 121,
   "id": "56edfb4f-5892-440f-ab9f-f3751a200efc",
   "metadata": {},
   "outputs": [
    {
     "data": {
      "text/plain": [
       "5"
      ]
     },
     "execution_count": 121,
     "metadata": {},
     "output_type": "execute_result"
    }
   ],
   "source": [
    "l1.pop()"
   ]
  },
  {
   "cell_type": "code",
   "execution_count": 122,
   "id": "624d551f-a477-423a-8cc7-9c87c2b81971",
   "metadata": {},
   "outputs": [
    {
     "data": {
      "text/plain": [
       "[34, 3, 'abcd', 4, [2, 3, 4], 9]"
      ]
     },
     "execution_count": 122,
     "metadata": {},
     "output_type": "execute_result"
    }
   ],
   "source": [
    "l1"
   ]
  },
  {
   "cell_type": "code",
   "execution_count": 123,
   "id": "3f41839e-09fa-409a-88a0-108357659213",
   "metadata": {},
   "outputs": [
    {
     "data": {
      "text/plain": [
       "3"
      ]
     },
     "execution_count": 123,
     "metadata": {},
     "output_type": "execute_result"
    }
   ],
   "source": [
    "l1.pop(1)\n",
    "# it use to remove value as per index number in the list"
   ]
  },
  {
   "cell_type": "code",
   "execution_count": 124,
   "id": "d8c8e66e-cc67-4104-a24b-29dc5a5c9f56",
   "metadata": {},
   "outputs": [
    {
     "data": {
      "text/plain": [
       "[34, 'abcd', 4, [2, 3, 4], 9]"
      ]
     },
     "execution_count": 124,
     "metadata": {},
     "output_type": "execute_result"
    }
   ],
   "source": [
    "l1"
   ]
  },
  {
   "cell_type": "code",
   "execution_count": 125,
   "id": "1d95abb2-2611-4c11-a92d-232908ea8051",
   "metadata": {},
   "outputs": [],
   "source": [
    "l1.remove(4)\n",
    "# remove fn use to remove the particulae data in the list not using the indexing number"
   ]
  },
  {
   "cell_type": "code",
   "execution_count": 126,
   "id": "4a77d5b2-c26b-42ed-9219-6c466e5f8b21",
   "metadata": {},
   "outputs": [
    {
     "data": {
      "text/plain": [
       "[34, 'abcd', [2, 3, 4], 9]"
      ]
     },
     "execution_count": 126,
     "metadata": {},
     "output_type": "execute_result"
    }
   ],
   "source": [
    "l1"
   ]
  },
  {
   "cell_type": "code",
   "execution_count": 127,
   "id": "c5c26ebe-eb0a-4fcc-842c-c39f82c33b32",
   "metadata": {},
   "outputs": [],
   "source": [
    "l1[2].remove(3)"
   ]
  },
  {
   "cell_type": "code",
   "execution_count": 128,
   "id": "8e46877a-09ac-45d6-9762-19794a398316",
   "metadata": {},
   "outputs": [
    {
     "data": {
      "text/plain": [
       "[34, 'abcd', [2, 4], 9]"
      ]
     },
     "execution_count": 128,
     "metadata": {},
     "output_type": "execute_result"
    }
   ],
   "source": [
    "l1"
   ]
  },
  {
   "cell_type": "code",
   "execution_count": 129,
   "id": "2a3d8142-8fea-4ea1-be7c-c2b6eb28f719",
   "metadata": {},
   "outputs": [
    {
     "data": {
      "text/plain": [
       "[34, 'abcd', [2, 4], 9]"
      ]
     },
     "execution_count": 129,
     "metadata": {},
     "output_type": "execute_result"
    }
   ],
   "source": [
    "l1"
   ]
  },
  {
   "cell_type": "code",
   "execution_count": 130,
   "id": "f5ad7f47-a19a-4e00-9243-78528c5dc2ad",
   "metadata": {},
   "outputs": [],
   "source": [
    "# list me se string me se cd remove nhi hoga \n",
    "# string immutable nhi hai "
   ]
  },
  {
   "cell_type": "code",
   "execution_count": 134,
   "id": "3aee08fd-bea9-424d-931c-53b7be7ec0fd",
   "metadata": {},
   "outputs": [],
   "source": [
    "l1.append(4)"
   ]
  },
  {
   "cell_type": "code",
   "execution_count": 135,
   "id": "18288d0b-1cd0-43dc-8766-c81b233728f6",
   "metadata": {},
   "outputs": [
    {
     "data": {
      "text/plain": [
       "[34, 'abcd', [2, 4], 9, 4, 4]"
      ]
     },
     "execution_count": 135,
     "metadata": {},
     "output_type": "execute_result"
    }
   ],
   "source": [
    "l1"
   ]
  },
  {
   "cell_type": "code",
   "execution_count": 136,
   "id": "ab6d484c-9d3d-455d-87b6-ff1e2dd6f950",
   "metadata": {},
   "outputs": [
    {
     "data": {
      "text/plain": [
       "[4, 4, 9, [2, 4], 'abcd', 34]"
      ]
     },
     "execution_count": 136,
     "metadata": {},
     "output_type": "execute_result"
    }
   ],
   "source": [
    "l1[::-1]\n",
    "# ye reverse kr rhe hai permanent reverse kr diya "
   ]
  },
  {
   "cell_type": "code",
   "execution_count": 137,
   "id": "08ceff7a-9348-48ab-976d-0b25c6ea32da",
   "metadata": {},
   "outputs": [],
   "source": [
    "l1.reverse()\n",
    "# it reverse only for temporory "
   ]
  },
  {
   "cell_type": "code",
   "execution_count": 138,
   "id": "fca1f6c3-d297-48c7-91c7-ac75f5493f61",
   "metadata": {},
   "outputs": [
    {
     "data": {
      "text/plain": [
       "[4, 4, 9, [2, 4], 'abcd', 34]"
      ]
     },
     "execution_count": 138,
     "metadata": {},
     "output_type": "execute_result"
    }
   ],
   "source": [
    "l1"
   ]
  },
  {
   "cell_type": "code",
   "execution_count": 139,
   "id": "f0751a15-81bc-4579-a344-2dae124df9a5",
   "metadata": {},
   "outputs": [],
   "source": [
    "l1 = l1[::-1]\n",
    "# it reverse permanent in the original data"
   ]
  },
  {
   "cell_type": "code",
   "execution_count": 140,
   "id": "2f10887f-9f85-45c8-8827-af53a74fd519",
   "metadata": {},
   "outputs": [
    {
     "data": {
      "text/plain": [
       "[34, 'abcd', [2, 4], 9, 4, 4]"
      ]
     },
     "execution_count": 140,
     "metadata": {},
     "output_type": "execute_result"
    }
   ],
   "source": [
    "l1"
   ]
  },
  {
   "cell_type": "code",
   "execution_count": 142,
   "id": "7d579ec5-d214-4658-9c3f-491069a625c4",
   "metadata": {},
   "outputs": [],
   "source": [
    "l2 = [2,40,5,78,7,8]"
   ]
  },
  {
   "cell_type": "code",
   "execution_count": 143,
   "id": "28fe3dc7-f911-4ceb-8a02-6f894e19607b",
   "metadata": {},
   "outputs": [
    {
     "data": {
      "text/plain": [
       "[2, 40, 5, 78, 7, 8]"
      ]
     },
     "execution_count": 143,
     "metadata": {},
     "output_type": "execute_result"
    }
   ],
   "source": [
    "l2"
   ]
  },
  {
   "cell_type": "code",
   "execution_count": 144,
   "id": "218dd99e-c726-44d0-b361-5df1dcaf907f",
   "metadata": {},
   "outputs": [],
   "source": [
    "l2.sort()"
   ]
  },
  {
   "cell_type": "code",
   "execution_count": 145,
   "id": "e347fb87-9ab3-470f-b262-55ff9a7b9edc",
   "metadata": {},
   "outputs": [
    {
     "data": {
      "text/plain": [
       "[2, 5, 7, 8, 40, 78]"
      ]
     },
     "execution_count": 145,
     "metadata": {},
     "output_type": "execute_result"
    }
   ],
   "source": [
    "l2"
   ]
  },
  {
   "cell_type": "code",
   "execution_count": 147,
   "id": "9997f217-613e-410a-9398-41af84386a2f",
   "metadata": {},
   "outputs": [
    {
     "ename": "TypeError",
     "evalue": "'<' not supported between instances of 'str' and 'int'",
     "output_type": "error",
     "traceback": [
      "\u001b[0;31m---------------------------------------------------------------------------\u001b[0m",
      "\u001b[0;31mTypeError\u001b[0m                                 Traceback (most recent call last)",
      "Cell \u001b[0;32mIn[147], line 1\u001b[0m\n\u001b[0;32m----> 1\u001b[0m \u001b[43ml1\u001b[49m\u001b[38;5;241;43m.\u001b[39;49m\u001b[43msort\u001b[49m\u001b[43m(\u001b[49m\u001b[43m)\u001b[49m\n",
      "\u001b[0;31mTypeError\u001b[0m: '<' not supported between instances of 'str' and 'int'"
     ]
    }
   ],
   "source": [
    "l1.sort()\n",
    "# list me string hai isliye ye sort nhi kr rha hai \n",
    "# sir same data type hone chahiye tabhi sort use hoga\n",
    "# such string hai to string or int hai int"
   ]
  },
  {
   "cell_type": "code",
   "execution_count": 148,
   "id": "ce56032f-fba2-407d-aaec-9cc9d08f5983",
   "metadata": {},
   "outputs": [],
   "source": [
    "l3 = ['abid','sudh','anas']"
   ]
  },
  {
   "cell_type": "code",
   "execution_count": 149,
   "id": "76edecb4-8f03-4705-a4f0-2f45a1d61832",
   "metadata": {},
   "outputs": [
    {
     "data": {
      "text/plain": [
       "['abid', 'sudh', 'anas']"
      ]
     },
     "execution_count": 149,
     "metadata": {},
     "output_type": "execute_result"
    }
   ],
   "source": [
    "l3"
   ]
  },
  {
   "cell_type": "code",
   "execution_count": 150,
   "id": "13330aaf-5690-4170-a13b-f6d7cbda376c",
   "metadata": {},
   "outputs": [],
   "source": [
    "l3.sort()"
   ]
  },
  {
   "cell_type": "code",
   "execution_count": 151,
   "id": "e15c0277-b81b-41b6-8c8b-31091f6a4b6d",
   "metadata": {},
   "outputs": [
    {
     "data": {
      "text/plain": [
       "['abid', 'anas', 'sudh']"
      ]
     },
     "execution_count": 151,
     "metadata": {},
     "output_type": "execute_result"
    }
   ],
   "source": [
    "l3"
   ]
  },
  {
   "cell_type": "code",
   "execution_count": 152,
   "id": "c494b598-0427-49b7-834a-ef2a2ee82680",
   "metadata": {},
   "outputs": [],
   "source": [
    "l3.sort(reverse=True)\n",
    "# use for decending order"
   ]
  },
  {
   "cell_type": "code",
   "execution_count": 153,
   "id": "5fdb9437-4805-4d88-9716-fdb58d3b1676",
   "metadata": {},
   "outputs": [
    {
     "data": {
      "text/plain": [
       "['sudh', 'anas', 'abid']"
      ]
     },
     "execution_count": 153,
     "metadata": {},
     "output_type": "execute_result"
    }
   ],
   "source": [
    "l3"
   ]
  },
  {
   "cell_type": "code",
   "execution_count": 155,
   "id": "e140bfd2-69a8-46d0-8875-2cca16e35c27",
   "metadata": {},
   "outputs": [
    {
     "data": {
      "text/plain": [
       "0"
      ]
     },
     "execution_count": 155,
     "metadata": {},
     "output_type": "execute_result"
    }
   ],
   "source": [
    "l3.index('sudh')\n",
    "# to find the index number in the list"
   ]
  },
  {
   "cell_type": "code",
   "execution_count": 156,
   "id": "5d72bc08-bf2b-49ad-82a6-9d9a1585617b",
   "metadata": {},
   "outputs": [],
   "source": [
    "l4 = [4,6,33,56,65,23]"
   ]
  },
  {
   "cell_type": "code",
   "execution_count": 157,
   "id": "a116fd0d-7ae3-4eb7-975e-8153b7cffbb3",
   "metadata": {},
   "outputs": [
    {
     "data": {
      "text/plain": [
       "4"
      ]
     },
     "execution_count": 157,
     "metadata": {},
     "output_type": "execute_result"
    }
   ],
   "source": [
    "l4[0]"
   ]
  },
  {
   "cell_type": "code",
   "execution_count": 158,
   "id": "5b0d7b1d-1790-42ce-8630-0cfd2e9a4cf8",
   "metadata": {},
   "outputs": [],
   "source": [
    "l4[0] = 87\n",
    "# replacement of the data at same data in the same location"
   ]
  },
  {
   "cell_type": "code",
   "execution_count": 159,
   "id": "081be0a8-3c20-4cc0-ab22-2767c045e259",
   "metadata": {},
   "outputs": [
    {
     "data": {
      "text/plain": [
       "[87, 6, 33, 56, 65, 23]"
      ]
     },
     "execution_count": 159,
     "metadata": {},
     "output_type": "execute_result"
    }
   ],
   "source": [
    "l4"
   ]
  },
  {
   "cell_type": "code",
   "execution_count": 160,
   "id": "07d4f33c-1e13-4202-89d9-50baa69b147f",
   "metadata": {},
   "outputs": [],
   "source": [
    "# mutability = int can be replace\n",
    "# strings are basically immutable means replace nhi kr skte"
   ]
  },
  {
   "cell_type": "code",
   "execution_count": 164,
   "id": "7e0372cf-98f7-4aa3-84a0-98425c09b1ff",
   "metadata": {},
   "outputs": [],
   "source": [
    "k = abid"
   ]
  },
  {
   "cell_type": "code",
   "execution_count": 165,
   "id": "acdcee00-8f01-4fa1-9b87-addade8b5555",
   "metadata": {},
   "outputs": [
    {
     "ename": "AttributeError",
     "evalue": "'complex' object has no attribute 'replace'",
     "output_type": "error",
     "traceback": [
      "\u001b[0;31m---------------------------------------------------------------------------\u001b[0m",
      "\u001b[0;31mAttributeError\u001b[0m                            Traceback (most recent call last)",
      "Cell \u001b[0;32mIn[165], line 1\u001b[0m\n\u001b[0;32m----> 1\u001b[0m \u001b[43mk\u001b[49m\u001b[38;5;241;43m.\u001b[39;49m\u001b[43mreplace\u001b[49m(\u001b[38;5;124m'\u001b[39m\u001b[38;5;124ma\u001b[39m\u001b[38;5;124m'\u001b[39m,\u001b[38;5;124m'\u001b[39m\u001b[38;5;124me\u001b[39m\u001b[38;5;124m'\u001b[39m)\n",
      "\u001b[0;31mAttributeError\u001b[0m: 'complex' object has no attribute 'replace'"
     ]
    }
   ],
   "source": [
    "k.replace('a','e')\n",
    "# this option only use to replace in temporary \n",
    "# original data change nhi hoga\n",
    "# string immutable hai\n",
    "# int mutable hai "
   ]
  },
  {
   "cell_type": "code",
   "execution_count": 166,
   "id": "a4f3d624-d279-49ec-823b-eca0108d35d8",
   "metadata": {},
   "outputs": [],
   "source": [
    "# not tuple starts"
   ]
  },
  {
   "cell_type": "code",
   "execution_count": 168,
   "id": "fdc5d216-5cbb-4b4f-b4ac-14fd6904f512",
   "metadata": {},
   "outputs": [],
   "source": [
    "t = (2,3,4,\"abid\",45.4534, False, 37 + 67j, [2,3,4])"
   ]
  },
  {
   "cell_type": "code",
   "execution_count": 169,
   "id": "13d2e624-4abc-4cab-880c-ef55d382364c",
   "metadata": {},
   "outputs": [
    {
     "data": {
      "text/plain": [
       "(2, 3, 4, 'abid', 45.4534, False, (37+67j), [2, 3, 4])"
      ]
     },
     "execution_count": 169,
     "metadata": {},
     "output_type": "execute_result"
    }
   ],
   "source": [
    "t"
   ]
  },
  {
   "cell_type": "code",
   "execution_count": 170,
   "id": "946eec70-4988-4160-8b35-366dac8dd392",
   "metadata": {},
   "outputs": [
    {
     "data": {
      "text/plain": [
       "8"
      ]
     },
     "execution_count": 170,
     "metadata": {},
     "output_type": "execute_result"
    }
   ],
   "source": [
    "len(t)"
   ]
  },
  {
   "cell_type": "code",
   "execution_count": 171,
   "id": "bdebabab-58e8-4a0b-a1a8-946ff987b30a",
   "metadata": {},
   "outputs": [
    {
     "data": {
      "text/plain": [
       "([2, 3, 4], (37+67j), False, 45.4534, 'abid', 4, 3, 2)"
      ]
     },
     "execution_count": 171,
     "metadata": {},
     "output_type": "execute_result"
    }
   ],
   "source": [
    "t[::-1]"
   ]
  },
  {
   "cell_type": "code",
   "execution_count": 172,
   "id": "4cdd3974-4882-488b-98f7-7c0938f8ed2f",
   "metadata": {},
   "outputs": [
    {
     "data": {
      "text/plain": [
       "([2, 3, 4], 45.4534, 3)"
      ]
     },
     "execution_count": 172,
     "metadata": {},
     "output_type": "execute_result"
    }
   ],
   "source": [
    "t[::-3]"
   ]
  },
  {
   "cell_type": "code",
   "execution_count": 173,
   "id": "9476bc7d-0785-4e7e-bc19-8f3e5ce61eec",
   "metadata": {},
   "outputs": [],
   "source": [
    "# tuple use for mutability and immutability concept"
   ]
  },
  {
   "cell_type": "code",
   "execution_count": 174,
   "id": "21e8ff01-e8b4-4682-a7b3-cf258b62599f",
   "metadata": {},
   "outputs": [
    {
     "data": {
      "text/plain": [
       "['sudh', 'anas', 'abid']"
      ]
     },
     "execution_count": 174,
     "metadata": {},
     "output_type": "execute_result"
    }
   ],
   "source": [
    "l3"
   ]
  },
  {
   "cell_type": "code",
   "execution_count": 175,
   "id": "4c1ab364-ef1a-4c56-a593-7b4e6d6fbce5",
   "metadata": {},
   "outputs": [
    {
     "data": {
      "text/plain": [
       "[87, 6, 33, 56, 65, 23]"
      ]
     },
     "execution_count": 175,
     "metadata": {},
     "output_type": "execute_result"
    }
   ],
   "source": [
    "l4"
   ]
  },
  {
   "cell_type": "code",
   "execution_count": 177,
   "id": "0187388b-f2a1-47b0-bdd4-0db7f709bdcd",
   "metadata": {},
   "outputs": [
    {
     "data": {
      "text/plain": [
       "[2, 5, 7, 8, 40, 78]"
      ]
     },
     "execution_count": 177,
     "metadata": {},
     "output_type": "execute_result"
    }
   ],
   "source": [
    "l2"
   ]
  },
  {
   "cell_type": "code",
   "execution_count": 178,
   "id": "0a8a569f-75c8-4847-8be7-801d6ad25f40",
   "metadata": {},
   "outputs": [
    {
     "data": {
      "text/plain": [
       "[34, 'abcd', [2, 4], 9, 4, 4]"
      ]
     },
     "execution_count": 178,
     "metadata": {},
     "output_type": "execute_result"
    }
   ],
   "source": [
    "l1"
   ]
  },
  {
   "cell_type": "code",
   "execution_count": 179,
   "id": "a658444c-694d-491e-a5e7-865e1d60bdc1",
   "metadata": {},
   "outputs": [],
   "source": [
    "l1[0] = 4573"
   ]
  },
  {
   "cell_type": "code",
   "execution_count": 180,
   "id": "160fa6e6-2849-4e93-85a1-89b99ca693c9",
   "metadata": {},
   "outputs": [
    {
     "data": {
      "text/plain": [
       "[4573, 'abcd', [2, 4], 9, 4, 4]"
      ]
     },
     "execution_count": 180,
     "metadata": {},
     "output_type": "execute_result"
    }
   ],
   "source": [
    "l1"
   ]
  },
  {
   "cell_type": "code",
   "execution_count": 181,
   "id": "ea73f673-883c-4b3b-bbfa-dc59b247d12e",
   "metadata": {},
   "outputs": [
    {
     "ename": "TypeError",
     "evalue": "'tuple' object does not support item assignment",
     "output_type": "error",
     "traceback": [
      "\u001b[0;31m---------------------------------------------------------------------------\u001b[0m",
      "\u001b[0;31mTypeError\u001b[0m                                 Traceback (most recent call last)",
      "Cell \u001b[0;32mIn[181], line 1\u001b[0m\n\u001b[0;32m----> 1\u001b[0m \u001b[43mt\u001b[49m\u001b[43m[\u001b[49m\u001b[38;5;241;43m0\u001b[39;49m\u001b[43m]\u001b[49m \u001b[38;5;241m=\u001b[39m \u001b[38;5;124m\"\u001b[39m\u001b[38;5;124msudh\u001b[39m\u001b[38;5;124m\"\u001b[39m\n",
      "\u001b[0;31mTypeError\u001b[0m: 'tuple' object does not support item assignment"
     ]
    }
   ],
   "source": [
    "t[0] = \"sudh\""
   ]
  },
  {
   "cell_type": "code",
   "execution_count": 182,
   "id": "e0c8a5f7-bc77-42f4-b38f-2fe9bd7ec9ea",
   "metadata": {},
   "outputs": [],
   "source": [
    "# tuple are also lie in the same condition \n",
    "# string cant be added , int added"
   ]
  },
  {
   "cell_type": "code",
   "execution_count": 183,
   "id": "f8f37bfa-c0c3-4120-b3d1-ff161f04bd53",
   "metadata": {},
   "outputs": [
    {
     "data": {
      "text/plain": [
       "([2, 3, 4], (37+67j), False, 45.4534, 'abid', 4, 3, 2)"
      ]
     },
     "execution_count": 183,
     "metadata": {},
     "output_type": "execute_result"
    }
   ],
   "source": [
    "t[::-1]\n",
    "# reverse the original data"
   ]
  },
  {
   "cell_type": "code",
   "execution_count": 185,
   "id": "945732ef-2dc4-43c7-b2c6-e066e0ec678f",
   "metadata": {},
   "outputs": [
    {
     "data": {
      "text/plain": [
       "1"
      ]
     },
     "execution_count": 185,
     "metadata": {},
     "output_type": "execute_result"
    }
   ],
   "source": [
    "t.count(4)"
   ]
  },
  {
   "cell_type": "code",
   "execution_count": 186,
   "id": "906224a9-ecfd-4873-8383-b5a6a5a4a51a",
   "metadata": {},
   "outputs": [
    {
     "data": {
      "text/plain": [
       "3"
      ]
     },
     "execution_count": 186,
     "metadata": {},
     "output_type": "execute_result"
    }
   ],
   "source": [
    "t.index('abid')"
   ]
  },
  {
   "cell_type": "code",
   "execution_count": 187,
   "id": "8174ac44-0d36-4260-8613-d247b60f3866",
   "metadata": {},
   "outputs": [],
   "source": [
    "s1 = {}"
   ]
  },
  {
   "cell_type": "code",
   "execution_count": 188,
   "id": "4c692a1c-04b1-4a0d-a720-a163d46cfabb",
   "metadata": {},
   "outputs": [
    {
     "data": {
      "text/plain": [
       "dict"
      ]
     },
     "execution_count": 188,
     "metadata": {},
     "output_type": "execute_result"
    }
   ],
   "source": [
    "type(s1)"
   ]
  },
  {
   "cell_type": "code",
   "execution_count": 189,
   "id": "765836c4-9817-4b31-8d26-1181b43d2394",
   "metadata": {},
   "outputs": [],
   "source": [
    "s2 = {2,3,4,6,93,6,45}"
   ]
  },
  {
   "cell_type": "code",
   "execution_count": 190,
   "id": "4de17a9b-f143-41d9-8197-502371913da7",
   "metadata": {},
   "outputs": [
    {
     "data": {
      "text/plain": [
       "set"
      ]
     },
     "execution_count": 190,
     "metadata": {},
     "output_type": "execute_result"
    }
   ],
   "source": [
    "type(s2)"
   ]
  },
  {
   "cell_type": "code",
   "execution_count": 191,
   "id": "2f19ecec-59d7-4843-b299-f1361e0bd9f8",
   "metadata": {},
   "outputs": [
    {
     "ename": "TypeError",
     "evalue": "unhashable type: 'list'",
     "output_type": "error",
     "traceback": [
      "\u001b[0;31m---------------------------------------------------------------------------\u001b[0m",
      "\u001b[0;31mTypeError\u001b[0m                                 Traceback (most recent call last)",
      "Cell \u001b[0;32mIn[191], line 1\u001b[0m\n\u001b[0;32m----> 1\u001b[0m s3 \u001b[38;5;241m=\u001b[39m {\u001b[38;5;241m234\u001b[39m,\u001b[38;5;241m344\u001b[39m,\u001b[38;5;241m12\u001b[39m,\u001b[38;5;124m'\u001b[39m\u001b[38;5;124mabid\u001b[39m\u001b[38;5;124m'\u001b[39m, \u001b[38;5;241m36\u001b[39m \u001b[38;5;241m+\u001b[39m \u001b[38;5;241m7\u001b[39mj, \u001b[38;5;241m34.676\u001b[39m, [\u001b[38;5;241m2\u001b[39m,\u001b[38;5;241m3\u001b[39m,\u001b[38;5;241m4\u001b[39m]}\n",
      "\u001b[0;31mTypeError\u001b[0m: unhashable type: 'list'"
     ]
    }
   ],
   "source": [
    "s3 = {234,344,12,'abid', 36 + 7j, 34.676, [2,3,4]}\n",
    "# in the set list cant added but in the next section"
   ]
  },
  {
   "cell_type": "code",
   "execution_count": 193,
   "id": "3e71b57f-4cef-4654-bfb2-546998d44716",
   "metadata": {},
   "outputs": [],
   "source": [
    "s3 = {234,344,12,'abid', 36 + 7j, 34.676, (2,3,4)}\n",
    "# but tuples add kr le rha hai\n",
    "# immutable data leta hai sirf set me \n"
   ]
  },
  {
   "cell_type": "code",
   "execution_count": 194,
   "id": "01f2c50c-248b-49ae-ac31-4d4a245c3c15",
   "metadata": {},
   "outputs": [],
   "source": [
    "s4 = {2,3,3,4,3,4,3,2,5,5,6,4,4,3,4,5,4,3,5}"
   ]
  },
  {
   "cell_type": "code",
   "execution_count": 195,
   "id": "b95bd6c4-8aef-40bc-aa87-6934167c622c",
   "metadata": {},
   "outputs": [
    {
     "data": {
      "text/plain": [
       "{2, 3, 4, 5, 6}"
      ]
     },
     "execution_count": 195,
     "metadata": {},
     "output_type": "execute_result"
    }
   ],
   "source": [
    "s4\n",
    "# set only gives you the single data not repetitive data\n",
    "# duplicacy htane ke liye set fn use krte hai, only unique data and case sensitive"
   ]
  },
  {
   "cell_type": "code",
   "execution_count": 197,
   "id": "260d2f99-a3e4-4025-9c1f-e4f4760e1497",
   "metadata": {},
   "outputs": [],
   "source": [
    "# set is buld and unordered set of data \n",
    "# set data arrange nhi krta hai"
   ]
  },
  {
   "cell_type": "code",
   "execution_count": 198,
   "id": "6e98d177-3e24-46e1-b2e1-3a0bc6e31915",
   "metadata": {},
   "outputs": [],
   "source": [
    "# set me se data nhi hata skte\n",
    "# indexing and slicing nhi work krega jo list me and tuple me  use hota hai"
   ]
  },
  {
   "cell_type": "code",
   "execution_count": 199,
   "id": "71a6e6ec-5116-4351-8b82-14072a7dddea",
   "metadata": {},
   "outputs": [],
   "source": [
    "# set never allow duplicacy"
   ]
  },
  {
   "cell_type": "code",
   "execution_count": 200,
   "id": "eace6d31-ff9c-4590-959f-621f2a60bd57",
   "metadata": {},
   "outputs": [
    {
     "data": {
      "text/plain": [
       "{2, 3, 4, 5, 6}"
      ]
     },
     "execution_count": 200,
     "metadata": {},
     "output_type": "execute_result"
    }
   ],
   "source": [
    "s4"
   ]
  },
  {
   "cell_type": "code",
   "execution_count": 201,
   "id": "509e3889-c9a5-41c1-81d8-96a671a507c2",
   "metadata": {},
   "outputs": [],
   "source": [
    "s4.add(4)\n",
    "# kisi specific position pr add nhi kr skte"
   ]
  },
  {
   "cell_type": "code",
   "execution_count": 202,
   "id": "5323fd88-db59-437e-8373-d3a53f381052",
   "metadata": {},
   "outputs": [
    {
     "data": {
      "text/plain": [
       "{2, 3, 4, 5, 6}"
      ]
     },
     "execution_count": 202,
     "metadata": {},
     "output_type": "execute_result"
    }
   ],
   "source": [
    "s4"
   ]
  },
  {
   "cell_type": "code",
   "execution_count": 203,
   "id": "7512f549-b109-4f1a-8581-a0fbf13d66ab",
   "metadata": {},
   "outputs": [
    {
     "ename": "KeyError",
     "evalue": "3",
     "output_type": "error",
     "traceback": [
      "\u001b[0;31m---------------------------------------------------------------------------\u001b[0m",
      "\u001b[0;31mKeyError\u001b[0m                                  Traceback (most recent call last)",
      "Cell \u001b[0;32mIn[205], line 1\u001b[0m\n\u001b[0;32m----> 1\u001b[0m \u001b[43ms4\u001b[49m\u001b[38;5;241;43m.\u001b[39;49m\u001b[43mremove\u001b[49m\u001b[43m(\u001b[49m\u001b[38;5;241;43m3\u001b[39;49m\u001b[43m)\u001b[49m\n",
      "\u001b[0;31mKeyError\u001b[0m: 3"
     ]
    }
   ],
   "source": [
    "s4.remove(3)"
   ]
  },
  {
   "cell_type": "code",
   "execution_count": 204,
   "id": "d5b00434-be79-4534-8c6f-6ed410410b4f",
   "metadata": {},
   "outputs": [
    {
     "data": {
      "text/plain": [
       "{2, 4, 5, 6}"
      ]
     },
     "execution_count": 204,
     "metadata": {},
     "output_type": "execute_result"
    }
   ],
   "source": [
    "s4\n",
    "# seet me se remove krste hai data"
   ]
  },
  {
   "cell_type": "code",
   "execution_count": 207,
   "id": "7584bf1a-567a-45ed-8ec9-a8765827cabf",
   "metadata": {},
   "outputs": [],
   "source": [
    "# start programm for loop "
   ]
  },
  {
   "cell_type": "code",
   "execution_count": 208,
   "id": "77720cf4-d6af-4a7d-a582-a3f95a292531",
   "metadata": {},
   "outputs": [
    {
     "data": {
      "text/plain": [
       "{2, 4, 5, 6}"
      ]
     },
     "execution_count": 208,
     "metadata": {},
     "output_type": "execute_result"
    }
   ],
   "source": [
    "s4"
   ]
  },
  {
   "cell_type": "code",
   "execution_count": 209,
   "id": "3d0f3074-7f50-48d7-8e4f-332e784ce659",
   "metadata": {},
   "outputs": [
    {
     "data": {
      "text/plain": [
       "[4573, 'abcd', [2, 4], 9, 4, 4]"
      ]
     },
     "execution_count": 209,
     "metadata": {},
     "output_type": "execute_result"
    }
   ],
   "source": [
    "l1"
   ]
  },
  {
   "cell_type": "code",
   "execution_count": 211,
   "id": "09d2ed73-4c70-425d-a701-1379c7797fad",
   "metadata": {},
   "outputs": [
    {
     "data": {
      "text/plain": [
       "[2, 5, 7, 8, 40, 78]"
      ]
     },
     "execution_count": 211,
     "metadata": {},
     "output_type": "execute_result"
    }
   ],
   "source": [
    "l2"
   ]
  },
  {
   "cell_type": "code",
   "execution_count": 212,
   "id": "634a74c9-1f18-4c11-8077-4ac471e5c7b2",
   "metadata": {},
   "outputs": [
    {
     "data": {
      "text/plain": [
       "[1,\n",
       " 245,\n",
       " 24.225,\n",
       " 'abid',\n",
       " True,\n",
       " (4+7j),\n",
       " 1458.368,\n",
       " 5,\n",
       " 'pwskills',\n",
       " [4, 4, 9, [2, 4], 'abcd', 34],\n",
       " 'a',\n",
       " 'b',\n",
       " 'i',\n",
       " 'd',\n",
       " 3,\n",
       " 4,\n",
       " 5]"
      ]
     },
     "execution_count": 212,
     "metadata": {},
     "output_type": "execute_result"
    }
   ],
   "source": [
    "l"
   ]
  },
  {
   "cell_type": "code",
   "execution_count": 213,
   "id": "498697c4-d362-4c56-af18-a481cdcc1780",
   "metadata": {},
   "outputs": [
    {
     "data": {
      "text/plain": [
       "[4573, 'abcd', [2, 4], 9, 4, 4]"
      ]
     },
     "execution_count": 213,
     "metadata": {},
     "output_type": "execute_result"
    }
   ],
   "source": [
    "l1"
   ]
  },
  {
   "cell_type": "code",
   "execution_count": 214,
   "id": "193abf65-eeb6-4048-b483-cc89f35e2559",
   "metadata": {},
   "outputs": [
    {
     "data": {
      "text/plain": [
       "'pwskills'"
      ]
     },
     "execution_count": 214,
     "metadata": {},
     "output_type": "execute_result"
    }
   ],
   "source": [
    "s"
   ]
  },
  {
   "cell_type": "code",
   "execution_count": 215,
   "id": "3b93c6df-da0c-446b-8803-9085ad6b6642",
   "metadata": {},
   "outputs": [
    {
     "data": {
      "text/plain": [
       "{}"
      ]
     },
     "execution_count": 215,
     "metadata": {},
     "output_type": "execute_result"
    }
   ],
   "source": [
    "s1"
   ]
  },
  {
   "cell_type": "code",
   "execution_count": 216,
   "id": "f61809b7-65bd-4e58-a033-f5d8f8d20502",
   "metadata": {},
   "outputs": [
    {
     "data": {
      "text/plain": [
       "{2, 3, 4, 6, 45, 93}"
      ]
     },
     "execution_count": 216,
     "metadata": {},
     "output_type": "execute_result"
    }
   ],
   "source": [
    "s2"
   ]
  },
  {
   "cell_type": "code",
   "execution_count": 217,
   "id": "3447cb5e-52a4-41d1-b2e2-7a0e4916b7ca",
   "metadata": {},
   "outputs": [
    {
     "data": {
      "text/plain": [
       "{(2, 3, 4), (36+7j), 12, 234, 34.676, 344, 'abid'}"
      ]
     },
     "execution_count": 217,
     "metadata": {},
     "output_type": "execute_result"
    }
   ],
   "source": [
    "s3"
   ]
  },
  {
   "cell_type": "code",
   "execution_count": 218,
   "id": "2703c051-6023-41d3-864c-3b1270c2d9e1",
   "metadata": {},
   "outputs": [
    {
     "data": {
      "text/plain": [
       "{2, 4, 5, 6}"
      ]
     },
     "execution_count": 218,
     "metadata": {},
     "output_type": "execute_result"
    }
   ],
   "source": [
    "s4"
   ]
  },
  {
   "cell_type": "code",
   "execution_count": null,
   "id": "5856644f-4ecb-4436-9b6b-c3ee646919b6",
   "metadata": {},
   "outputs": [],
   "source": []
  }
 ],
 "metadata": {
  "kernelspec": {
   "display_name": "Python 3 (ipykernel)",
   "language": "python",
   "name": "python3"
  },
  "language_info": {
   "codemirror_mode": {
    "name": "ipython",
    "version": 3
   },
   "file_extension": ".py",
   "mimetype": "text/x-python",
   "name": "python",
   "nbconvert_exporter": "python",
   "pygments_lexer": "ipython3",
   "version": "3.10.8"
  }
 },
 "nbformat": 4,
 "nbformat_minor": 5
}
