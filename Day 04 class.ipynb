{
 "cells": [
  {
   "cell_type": "markdown",
   "id": "4965a279-90d6-43ff-82ba-3bd8131a22ce",
   "metadata": {},
   "source": [
    "here we ll learn comprehension"
   ]
  },
  {
   "cell_type": "code",
   "execution_count": 1,
   "id": "23b6ea90-9110-45b6-9684-970ec45ecbc4",
   "metadata": {},
   "outputs": [],
   "source": [
    "l = [1,2,3,4,5,6,7]"
   ]
  },
  {
   "cell_type": "code",
   "execution_count": 2,
   "id": "1bdb624d-ab87-4a69-a25d-dabdf8ea821b",
   "metadata": {},
   "outputs": [],
   "source": [
    "l1 = []"
   ]
  },
  {
   "cell_type": "code",
   "execution_count": 3,
   "id": "5e18291f-bf78-4764-9ae1-dd948cbff5bc",
   "metadata": {},
   "outputs": [],
   "source": [
    "for i in l :\n",
    "    l1.append(i**2)\n",
    "#     square formula using for loop"
   ]
  },
  {
   "cell_type": "code",
   "execution_count": 4,
   "id": "a801caf9-eedb-4823-afae-d28a67a91a02",
   "metadata": {},
   "outputs": [
    {
     "data": {
      "text/plain": [
       "[1, 4, 9, 16, 25, 36, 49]"
      ]
     },
     "execution_count": 4,
     "metadata": {},
     "output_type": "execute_result"
    }
   ],
   "source": [
    "l1"
   ]
  },
  {
   "cell_type": "code",
   "execution_count": 5,
   "id": "f0a2a7cd-d835-407c-862f-ede2def0737b",
   "metadata": {},
   "outputs": [],
   "source": [
    "#  now how to write code in comprehensive way "
   ]
  },
  {
   "cell_type": "code",
   "execution_count": 6,
   "id": "af6a9af8-3712-4c86-9869-74cb02f8f519",
   "metadata": {},
   "outputs": [
    {
     "data": {
      "text/plain": [
       "[1, 4, 9, 16, 25, 36, 49]"
      ]
     },
     "execution_count": 6,
     "metadata": {},
     "output_type": "execute_result"
    }
   ],
   "source": [
    "[i**2 for i in l]"
   ]
  },
  {
   "cell_type": "code",
   "execution_count": 7,
   "id": "cd382f70-8d71-4ac7-98c7-de48f0863eda",
   "metadata": {},
   "outputs": [],
   "source": [
    "# put out only even number from the list "
   ]
  },
  {
   "cell_type": "code",
   "execution_count": 8,
   "id": "cbfc3e78-8ea6-42d4-ac11-a6c3a9fbad79",
   "metadata": {},
   "outputs": [
    {
     "data": {
      "text/plain": [
       "[2, 4, 6]"
      ]
     },
     "execution_count": 8,
     "metadata": {},
     "output_type": "execute_result"
    }
   ],
   "source": [
    "[i for i in l if i % 2 == 0]"
   ]
  },
  {
   "cell_type": "code",
   "execution_count": 9,
   "id": "f74318c6-6c7d-45eb-bdc9-53f7694058af",
   "metadata": {},
   "outputs": [],
   "source": [
    "l1 = [\"such\", \"data science\", \"abid\", \"asif\", \"keyboard\"]"
   ]
  },
  {
   "cell_type": "code",
   "execution_count": 10,
   "id": "d74e47a4-72f1-4f36-9538-a0e203364dff",
   "metadata": {},
   "outputs": [
    {
     "data": {
      "text/plain": [
       "['SUCH', 'DATA SCIENCE', 'ABID', 'ASIF', 'KEYBOARD']"
      ]
     },
     "execution_count": 10,
     "metadata": {},
     "output_type": "execute_result"
    }
   ],
   "source": [
    "[i.upper() for i in l1 ]"
   ]
  },
  {
   "cell_type": "code",
   "execution_count": 11,
   "id": "c54315b6-3355-4742-bc01-617cf7f01b79",
   "metadata": {},
   "outputs": [
    {
     "data": {
      "text/plain": [
       "[1, 4, 9, 16, 25, 36, 49]"
      ]
     },
     "execution_count": 11,
     "metadata": {},
     "output_type": "execute_result"
    }
   ],
   "source": [
    "list(i**2 for i in l )"
   ]
  },
  {
   "cell_type": "code",
   "execution_count": 15,
   "id": "096df6ee-b317-44ae-88dc-980b41cb7f10",
   "metadata": {},
   "outputs": [],
   "source": [
    "d = {\"key1\" : 1, \"key2\": 2, \"key3\" : 3, \"key4\" : 4}"
   ]
  },
  {
   "cell_type": "code",
   "execution_count": 17,
   "id": "4d36869a-edbd-4c79-b07b-a944e0675308",
   "metadata": {},
   "outputs": [
    {
     "data": {
      "text/plain": [
       "dict_items([('key1', 1), ('key2', 2), ('key3', 3), ('key4', 4)])"
      ]
     },
     "execution_count": 17,
     "metadata": {},
     "output_type": "execute_result"
    }
   ],
   "source": [
    "d.items()"
   ]
  },
  {
   "cell_type": "code",
   "execution_count": 18,
   "id": "f1d5c0d4-5b40-4cde-bbdd-858c95d7b410",
   "metadata": {},
   "outputs": [
    {
     "data": {
      "text/plain": [
       "{'key1': 1, 'key2': 4, 'key3': 9, 'key4': 16}"
      ]
     },
     "execution_count": 18,
     "metadata": {},
     "output_type": "execute_result"
    }
   ],
   "source": [
    "{k:v**2 for k , v in d.items()}"
   ]
  },
  {
   "cell_type": "code",
   "execution_count": 21,
   "id": "39f2c74c-da99-4bb7-b384-dc86d2e196c7",
   "metadata": {},
   "outputs": [
    {
     "data": {
      "text/plain": [
       "{'key2': 2, 'key3': 3, 'key4': 4}"
      ]
     },
     "execution_count": 21,
     "metadata": {},
     "output_type": "execute_result"
    }
   ],
   "source": [
    "{k:v  for k, v in d.items() if v > 1}"
   ]
  },
  {
   "cell_type": "code",
   "execution_count": null,
   "id": "1c0a3d90-c7f5-4e07-bb77-1f0a8ba607a4",
   "metadata": {},
   "outputs": [],
   "source": []
  }
 ],
 "metadata": {
  "kernelspec": {
   "display_name": "Python 3 (ipykernel)",
   "language": "python",
   "name": "python3"
  },
  "language_info": {
   "codemirror_mode": {
    "name": "ipython",
    "version": 3
   },
   "file_extension": ".py",
   "mimetype": "text/x-python",
   "name": "python",
   "nbconvert_exporter": "python",
   "pygments_lexer": "ipython3",
   "version": "3.10.8"
  }
 },
 "nbformat": 4,
 "nbformat_minor": 5
}
