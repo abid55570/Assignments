{
 "cells": [
  {
   "cell_type": "code",
   "execution_count": 1,
   "id": "a85d0f71-6d7c-4922-b36a-25ea7077b302",
   "metadata": {},
   "outputs": [
    {
     "data": {
      "text/plain": [
       "range(0, 10)"
      ]
     },
     "execution_count": 1,
     "metadata": {},
     "output_type": "execute_result"
    }
   ],
   "source": [
    "range(10)"
   ]
  },
  {
   "cell_type": "code",
   "execution_count": 2,
   "id": "b4e3ee72-4933-4327-a72f-9e71c018b805",
   "metadata": {},
   "outputs": [
    {
     "name": "stdout",
     "output_type": "stream",
     "text": [
      "0\n",
      "1\n",
      "2\n",
      "3\n",
      "4\n",
      "5\n",
      "6\n",
      "7\n",
      "8\n",
      "9\n"
     ]
    }
   ],
   "source": [
    "for i in range(10):\n",
    "    print(i)"
   ]
  },
  {
   "cell_type": "code",
   "execution_count": 3,
   "id": "6e959c8b-3d65-4d40-ad38-5ea1a9bbb644",
   "metadata": {},
   "outputs": [],
   "source": [
    "# if we need to reduce the memory the use the generaor function"
   ]
  },
  {
   "cell_type": "code",
   "execution_count": 10,
   "id": "b895bba3-6fd5-4a80-86d2-30650fa73689",
   "metadata": {},
   "outputs": [],
   "source": [
    "def test_fib(n):\n",
    "    a,b = 0,1\n",
    "    for i in range(n):\n",
    "        yield a\n",
    "        a,b = b , a+b\n",
    "# yield use krne se return ki zaroort nhi hai, ye generator fn create krta hai"
   ]
  },
  {
   "cell_type": "code",
   "execution_count": 11,
   "id": "2beba266-542f-43cc-b470-2b04442bb846",
   "metadata": {},
   "outputs": [
    {
     "data": {
      "text/plain": [
       "<generator object test_fib at 0x7f40cc3d2c00>"
      ]
     },
     "execution_count": 11,
     "metadata": {},
     "output_type": "execute_result"
    }
   ],
   "source": [
    "test_fib(10)"
   ]
  },
  {
   "cell_type": "code",
   "execution_count": 13,
   "id": "d7ff71a2-a90b-4400-85b6-9ce5417a8643",
   "metadata": {},
   "outputs": [
    {
     "name": "stdout",
     "output_type": "stream",
     "text": [
      "0\n",
      "1\n",
      "1\n",
      "2\n",
      "3\n"
     ]
    }
   ],
   "source": [
    "for i in test_fib(5):\n",
    "    print(i)"
   ]
  },
  {
   "cell_type": "code",
   "execution_count": 14,
   "id": "57b80d30-2878-443d-8d2d-7a5cc80b498c",
   "metadata": {},
   "outputs": [],
   "source": [
    "def test_fib1():\n",
    "    a,b = 0,1\n",
    "    while True:\n",
    "        yield a\n",
    "        a,b = b , a+b"
   ]
  },
  {
   "cell_type": "code",
   "execution_count": 15,
   "id": "e8e96cd3-3445-4cec-8be9-9a878ddb862c",
   "metadata": {},
   "outputs": [],
   "source": [
    "fib = test_fib1()"
   ]
  },
  {
   "cell_type": "code",
   "execution_count": 16,
   "id": "1df94ca5-5042-42ed-a0fa-678d9914075f",
   "metadata": {},
   "outputs": [
    {
     "name": "stdout",
     "output_type": "stream",
     "text": [
      "0\n",
      "1\n",
      "1\n",
      "2\n",
      "3\n",
      "5\n",
      "8\n",
      "13\n",
      "21\n",
      "34\n"
     ]
    }
   ],
   "source": [
    "for i in range(10):\n",
    "    print(next(fib))\n",
    "# using next.... what is next??"
   ]
  },
  {
   "cell_type": "code",
   "execution_count": 17,
   "id": "dd1d4892-e5f7-442e-8d4f-62e7b82a92f8",
   "metadata": {},
   "outputs": [],
   "source": [
    "a = \"abid\""
   ]
  },
  {
   "cell_type": "code",
   "execution_count": 18,
   "id": "eee59577-2250-4e37-8abf-b305cda4d6ab",
   "metadata": {},
   "outputs": [
    {
     "name": "stdout",
     "output_type": "stream",
     "text": [
      "a\n",
      "b\n",
      "i\n",
      "d\n"
     ]
    }
   ],
   "source": [
    "for i in a :\n",
    "    print(i)\n",
    "#     for loop pehle hi length calculate kr leta hai\n",
    "# but next wala next by next data show krta hai iterator me rakhne ke baad"
   ]
  },
  {
   "cell_type": "code",
   "execution_count": 19,
   "id": "f3097dbb-9d2e-4d94-a755-d561cb830b00",
   "metadata": {},
   "outputs": [],
   "source": [
    "a1 = iter(a)\n",
    "# string iterator nhi hai, isliye iterator fun me dalne ke baad\n",
    "# pehle nhi rhega abhi rhega "
   ]
  },
  {
   "cell_type": "code",
   "execution_count": 20,
   "id": "dced06fe-1eaf-4a15-9a4f-2f766638831c",
   "metadata": {},
   "outputs": [
    {
     "data": {
      "text/plain": [
       "'a'"
      ]
     },
     "execution_count": 20,
     "metadata": {},
     "output_type": "execute_result"
    }
   ],
   "source": [
    "next(a1)"
   ]
  },
  {
   "cell_type": "code",
   "execution_count": 21,
   "id": "519d69a7-9331-4b95-8cb9-b0ea1db5432c",
   "metadata": {},
   "outputs": [
    {
     "data": {
      "text/plain": [
       "'b'"
      ]
     },
     "execution_count": 21,
     "metadata": {},
     "output_type": "execute_result"
    }
   ],
   "source": [
    "next(a1)"
   ]
  },
  {
   "cell_type": "code",
   "execution_count": 22,
   "id": "a94e7789-0673-4bad-a2cc-4419484a4d89",
   "metadata": {},
   "outputs": [
    {
     "data": {
      "text/plain": [
       "'i'"
      ]
     },
     "execution_count": 22,
     "metadata": {},
     "output_type": "execute_result"
    }
   ],
   "source": [
    "next(a1)"
   ]
  },
  {
   "cell_type": "code",
   "execution_count": 23,
   "id": "4b44fc98-97c2-4bd1-8faf-acd7822a1f63",
   "metadata": {},
   "outputs": [
    {
     "data": {
      "text/plain": [
       "'d'"
      ]
     },
     "execution_count": 23,
     "metadata": {},
     "output_type": "execute_result"
    }
   ],
   "source": [
    "next(a1)"
   ]
  },
  {
   "cell_type": "code",
   "execution_count": 24,
   "id": "cc6a3b29-05d2-4c5e-bea3-ba2bae41b512",
   "metadata": {},
   "outputs": [
    {
     "ename": "TypeError",
     "evalue": "'int' object is not an iterator",
     "output_type": "error",
     "traceback": [
      "\u001b[0;31m---------------------------------------------------------------------------\u001b[0m",
      "\u001b[0;31mTypeError\u001b[0m                                 Traceback (most recent call last)",
      "Cell \u001b[0;32mIn[24], line 1\u001b[0m\n\u001b[0;32m----> 1\u001b[0m \u001b[38;5;28;43mnext\u001b[39;49m\u001b[43m(\u001b[49m\u001b[38;5;241;43m45\u001b[39;49m\u001b[43m)\u001b[49m\n",
      "\u001b[0;31mTypeError\u001b[0m: 'int' object is not an iterator"
     ]
    }
   ],
   "source": [
    "next(45)\n",
    "# error jo aaya wo iterator nhi hai \n",
    "# list and string etc ye sab iterator hai , int nhi hai "
   ]
  },
  {
   "cell_type": "code",
   "execution_count": 25,
   "id": "20bbc3ae-9775-4df5-b408-981800c867bf",
   "metadata": {},
   "outputs": [],
   "source": [
    "# iterartor wo hai jisko ham next next next krke jaa sake and nikaal sake\n",
    "# string iterabel hai to , jikso ham iterator me convert kar sake \n",
    "# string iterable hai , int iterable nhi hai "
   ]
  },
  {
   "cell_type": "code",
   "execution_count": 26,
   "id": "c5b1e123-a101-4624-8473-2e5d82ac0651",
   "metadata": {},
   "outputs": [
    {
     "data": {
      "text/plain": [
       "generator"
      ]
     },
     "execution_count": 26,
     "metadata": {},
     "output_type": "execute_result"
    }
   ],
   "source": [
    "type(fib)"
   ]
  },
  {
   "cell_type": "code",
   "execution_count": 35,
   "id": "33bd7dfa-7f99-46f2-9b51-9308d7ab28dc",
   "metadata": {},
   "outputs": [],
   "source": [
    "def count_test(n):\n",
    "    count =1 \n",
    "    while count <n:\n",
    "        yield count\n",
    "        count = count + 1"
   ]
  },
  {
   "cell_type": "code",
   "execution_count": 34,
   "id": "3e1a3b01-c782-47be-8407-bdf2fb65454c",
   "metadata": {},
   "outputs": [],
   "source": [
    "c = count_test(5)"
   ]
  },
  {
   "cell_type": "code",
   "execution_count": 29,
   "id": "273afb06-e381-4c53-bc3b-0bda0e9c8c47",
   "metadata": {},
   "outputs": [
    {
     "name": "stdout",
     "output_type": "stream",
     "text": [
      "1\n",
      "2\n",
      "3\n",
      "4\n"
     ]
    }
   ],
   "source": [
    "for i in c :\n",
    "    print(i)"
   ]
  },
  {
   "cell_type": "code",
   "execution_count": 31,
   "id": "978cd783-af12-4327-b186-8af0787056e8",
   "metadata": {},
   "outputs": [
    {
     "data": {
      "text/plain": [
       "<generator object count_test at 0x7f40cc118900>"
      ]
     },
     "execution_count": 31,
     "metadata": {},
     "output_type": "execute_result"
    }
   ],
   "source": [
    "count_test(4)"
   ]
  },
  {
   "cell_type": "code",
   "execution_count": 36,
   "id": "e93af177-2820-4585-b507-09d5af0926bb",
   "metadata": {},
   "outputs": [],
   "source": [
    "#  lambda function"
   ]
  },
  {
   "cell_type": "code",
   "execution_count": 37,
   "id": "ab5aa496-f1cc-4270-beb3-22f11e38c781",
   "metadata": {},
   "outputs": [],
   "source": [
    "n = 3\n",
    "p = 2"
   ]
  },
  {
   "cell_type": "code",
   "execution_count": 38,
   "id": "614f04f4-fcec-4ad9-9890-dbca39fa78a9",
   "metadata": {},
   "outputs": [],
   "source": [
    "def test(n,p):\n",
    "    return n**p\n",
    "# ** double star means power , n to the power 2"
   ]
  },
  {
   "cell_type": "code",
   "execution_count": 39,
   "id": "57eb11a8-ad15-40c0-b776-4535dadb531c",
   "metadata": {},
   "outputs": [
    {
     "data": {
      "text/plain": [
       "9"
      ]
     },
     "execution_count": 39,
     "metadata": {},
     "output_type": "execute_result"
    }
   ],
   "source": [
    "test(3,2)"
   ]
  },
  {
   "cell_type": "code",
   "execution_count": 40,
   "id": "d252956d-18eb-4bb8-bc47-3dc2760faf41",
   "metadata": {},
   "outputs": [
    {
     "data": {
      "text/plain": [
       "<function __main__.<lambda>(n, p)>"
      ]
     },
     "execution_count": 40,
     "metadata": {},
     "output_type": "execute_result"
    }
   ],
   "source": [
    "lambda n, p :n**p\n",
    "# basically this is lambda fuction created"
   ]
  },
  {
   "cell_type": "code",
   "execution_count": 41,
   "id": "5803fa19-1185-4806-be88-3f122ed6cf14",
   "metadata": {},
   "outputs": [],
   "source": [
    "a = lambda n, p :n**p\n",
    "# assigned to a"
   ]
  },
  {
   "cell_type": "code",
   "execution_count": 45,
   "id": "6046ad72-83d0-464d-a71c-4cc81ac3ad62",
   "metadata": {},
   "outputs": [
    {
     "data": {
      "text/plain": [
       "25"
      ]
     },
     "execution_count": 45,
     "metadata": {},
     "output_type": "execute_result"
    }
   ],
   "source": [
    "a(5,2)"
   ]
  },
  {
   "cell_type": "code",
   "execution_count": 46,
   "id": "27e5fe98-9848-4b3d-b3eb-971bec444607",
   "metadata": {},
   "outputs": [],
   "source": [
    "add = lambda x,y :x+y\n",
    "# basic simple function me lambda fn use krke easily kr skte hai"
   ]
  },
  {
   "cell_type": "code",
   "execution_count": 47,
   "id": "2e19dff3-25c6-4c63-b96a-0ea6b8985822",
   "metadata": {},
   "outputs": [
    {
     "data": {
      "text/plain": [
       "9"
      ]
     },
     "execution_count": 47,
     "metadata": {},
     "output_type": "execute_result"
    }
   ],
   "source": [
    "add(4,5)"
   ]
  },
  {
   "cell_type": "code",
   "execution_count": 48,
   "id": "ff73a4af-7bcf-418d-b4a2-050bdfa316d0",
   "metadata": {},
   "outputs": [],
   "source": [
    "# celcious to forenheight convert krna hai "
   ]
  },
  {
   "cell_type": "code",
   "execution_count": 49,
   "id": "c0b95c2d-83eb-4caa-b974-c8cd69a649c3",
   "metadata": {},
   "outputs": [],
   "source": [
    "c_to_f = lambda c : (9/5)*c +32"
   ]
  },
  {
   "cell_type": "code",
   "execution_count": 50,
   "id": "1193caa5-740f-4d17-b6e7-27f97eeef06d",
   "metadata": {},
   "outputs": [
    {
     "data": {
      "text/plain": [
       "113.0"
      ]
     },
     "execution_count": 50,
     "metadata": {},
     "output_type": "execute_result"
    }
   ],
   "source": [
    "c_to_f(45)"
   ]
  },
  {
   "cell_type": "code",
   "execution_count": 51,
   "id": "3c8e01c0-2879-4389-8c53-1d29beacb4df",
   "metadata": {},
   "outputs": [],
   "source": [
    "#  finding a max number between two number"
   ]
  },
  {
   "cell_type": "code",
   "execution_count": 52,
   "id": "5a87a04b-0a0e-4365-ada3-04db816ce974",
   "metadata": {},
   "outputs": [],
   "source": [
    "finding_max = lambda x,y : x if x>y else y"
   ]
  },
  {
   "cell_type": "code",
   "execution_count": 53,
   "id": "620837f0-35d5-46ed-8131-1074afe9cbd0",
   "metadata": {},
   "outputs": [
    {
     "data": {
      "text/plain": [
       "30"
      ]
     },
     "execution_count": 53,
     "metadata": {},
     "output_type": "execute_result"
    }
   ],
   "source": [
    "finding_max(20,30)"
   ]
  },
  {
   "cell_type": "code",
   "execution_count": 54,
   "id": "aedc8701-ed41-40ee-af18-944843d64b89",
   "metadata": {},
   "outputs": [],
   "source": [
    "s = \"pwskills\"\n",
    "# write a lambda fn jo length of string return kre "
   ]
  },
  {
   "cell_type": "code",
   "execution_count": 55,
   "id": "d615d41b-54c3-45e1-9a04-70b734d894c0",
   "metadata": {},
   "outputs": [],
   "source": [
    "find_len = lambda s: len(s)\n",
    "# this is a fn without a name , lknow as anonymous fn"
   ]
  },
  {
   "cell_type": "code",
   "execution_count": 56,
   "id": "be3be05b-0b43-4869-ab26-26829d66eae0",
   "metadata": {},
   "outputs": [
    {
     "data": {
      "text/plain": [
       "8"
      ]
     },
     "execution_count": 56,
     "metadata": {},
     "output_type": "execute_result"
    }
   ],
   "source": [
    "find_len(s)"
   ]
  },
  {
   "cell_type": "markdown",
   "id": "dfdac177-885f-42bd-a25f-86bc16ba49f2",
   "metadata": {},
   "source": [
    "Map, Reduce and filter function"
   ]
  },
  {
   "cell_type": "code",
   "execution_count": 57,
   "id": "c7a7afa7-e993-44a3-8211-e9ed31799f96",
   "metadata": {},
   "outputs": [],
   "source": [
    "l = [2,3,4,5,6,7]\n",
    "#  normally if we have to do square then normally we writte a fn "
   ]
  },
  {
   "cell_type": "code",
   "execution_count": 59,
   "id": "bcf5f419-e1d5-48d8-9d67-adbc6b492502",
   "metadata": {},
   "outputs": [],
   "source": [
    "def test_sq(l):\n",
    "    l1 = []\n",
    "    for i in l :\n",
    "        l1.append(i**2)\n",
    "    return l1"
   ]
  },
  {
   "cell_type": "code",
   "execution_count": 61,
   "id": "b5db542b-b69b-45de-a3f9-ada29d10b1cf",
   "metadata": {},
   "outputs": [
    {
     "data": {
      "text/plain": [
       "[4, 9, 16, 25, 36, 49]"
      ]
     },
     "execution_count": 61,
     "metadata": {},
     "output_type": "execute_result"
    }
   ],
   "source": [
    "test_sq(l)"
   ]
  },
  {
   "cell_type": "code",
   "execution_count": 62,
   "id": "78dc98c1-60f4-42f2-9d48-82a02bd0f659",
   "metadata": {},
   "outputs": [],
   "source": [
    "# now we write some different type"
   ]
  },
  {
   "cell_type": "code",
   "execution_count": 63,
   "id": "a524852d-6181-48ee-bb0b-f544c36f8054",
   "metadata": {},
   "outputs": [],
   "source": [
    "def sq(x):\n",
    "    return x**2"
   ]
  },
  {
   "cell_type": "code",
   "execution_count": 64,
   "id": "5499e603-5f02-43f5-9316-78e7603c1281",
   "metadata": {},
   "outputs": [
    {
     "data": {
      "text/plain": [
       "<map at 0x7f40ab724160>"
      ]
     },
     "execution_count": 64,
     "metadata": {},
     "output_type": "execute_result"
    }
   ],
   "source": [
    "map(sq, l)\n",
    "# optimized way of writing a code"
   ]
  },
  {
   "cell_type": "code",
   "execution_count": 65,
   "id": "31081dd7-05bd-4136-8702-d7ff313bb51e",
   "metadata": {},
   "outputs": [
    {
     "data": {
      "text/plain": [
       "[4, 9, 16, 25, 36, 49]"
      ]
     },
     "execution_count": 65,
     "metadata": {},
     "output_type": "execute_result"
    }
   ],
   "source": [
    "list(map(sq, l))"
   ]
  },
  {
   "cell_type": "code",
   "execution_count": 66,
   "id": "e67c126e-93e2-4e48-9b6b-ad5a6d5947d0",
   "metadata": {},
   "outputs": [
    {
     "data": {
      "text/plain": [
       "[4, 9, 16, 25, 36, 49]"
      ]
     },
     "execution_count": 66,
     "metadata": {},
     "output_type": "execute_result"
    }
   ],
   "source": [
    "list(map(lambda x : x**2, l))"
   ]
  },
  {
   "cell_type": "code",
   "execution_count": 68,
   "id": "a0801e1a-e80f-49ec-9125-860040b614df",
   "metadata": {},
   "outputs": [
    {
     "data": {
      "text/plain": [
       "[7, 9, 11, 13, 15]"
      ]
     },
     "execution_count": 68,
     "metadata": {},
     "output_type": "execute_result"
    }
   ],
   "source": [
    "l1 = [1,2,3,4,5]\n",
    "l2 = [6,7,8,9,10]\n",
    "# with two list , adding with index wise using map fn\n",
    "\n",
    "list(map(lambda x,y : x+y, l1, l2))"
   ]
  },
  {
   "cell_type": "code",
   "execution_count": 69,
   "id": "5bf3873d-84ff-4d6b-84a0-a50943390c6c",
   "metadata": {},
   "outputs": [],
   "source": [
    "def add(x,y):\n",
    "    return x+y"
   ]
  },
  {
   "cell_type": "code",
   "execution_count": 71,
   "id": "cc5324e2-8574-4229-a213-b4390763d2e2",
   "metadata": {},
   "outputs": [
    {
     "data": {
      "text/plain": [
       "[7, 9, 11, 13, 15]"
      ]
     },
     "execution_count": 71,
     "metadata": {},
     "output_type": "execute_result"
    }
   ],
   "source": [
    "list(map(add, l1, l2))"
   ]
  },
  {
   "cell_type": "code",
   "execution_count": 72,
   "id": "bbbc237c-defc-47b6-af96-c3170f20577d",
   "metadata": {},
   "outputs": [
    {
     "data": {
      "text/plain": [
       "['G', 'A', 'T', 'E', 'W', 'A', 'L', 'L', 'A', 'H']"
      ]
     },
     "execution_count": 72,
     "metadata": {},
     "output_type": "execute_result"
    }
   ],
   "source": [
    "s = \"gatewallah\"\n",
    "list(map(lambda s : s.upper(), s))"
   ]
  },
  {
   "cell_type": "code",
   "execution_count": 74,
   "id": "c7dde87a-b83d-40a7-8c65-90047939fb68",
   "metadata": {},
   "outputs": [],
   "source": [
    "# now reduce fn"
   ]
  },
  {
   "cell_type": "code",
   "execution_count": 75,
   "id": "2547c9d7-e70e-42ab-8998-fdbfb317af61",
   "metadata": {},
   "outputs": [],
   "source": [
    "from functools import reduce"
   ]
  },
  {
   "cell_type": "code",
   "execution_count": 76,
   "id": "c19467d1-5978-4ece-b59e-f705447ef2a2",
   "metadata": {},
   "outputs": [],
   "source": [
    "l = [1,2,3,4,5]"
   ]
  },
  {
   "cell_type": "code",
   "execution_count": 77,
   "id": "5db62e28-c43a-4804-a31d-2dd412774b5e",
   "metadata": {},
   "outputs": [],
   "source": [
    "# need a sumession of all element and provid ema the final result "
   ]
  },
  {
   "cell_type": "code",
   "execution_count": 79,
   "id": "c083ed69-16cc-413c-b74a-676af75959b9",
   "metadata": {},
   "outputs": [
    {
     "data": {
      "text/plain": [
       "15"
      ]
     },
     "execution_count": 79,
     "metadata": {},
     "output_type": "execute_result"
    }
   ],
   "source": [
    "reduce(lambda x, y: x+y, l)"
   ]
  },
  {
   "cell_type": "code",
   "execution_count": 80,
   "id": "fbcd53c7-86f8-4e68-b262-984148dc46c1",
   "metadata": {},
   "outputs": [
    {
     "ename": "TypeError",
     "evalue": "<lambda>() missing 1 required positional argument: 'z'",
     "output_type": "error",
     "traceback": [
      "\u001b[0;31m---------------------------------------------------------------------------\u001b[0m",
      "\u001b[0;31mTypeError\u001b[0m                                 Traceback (most recent call last)",
      "Cell \u001b[0;32mIn[80], line 1\u001b[0m\n\u001b[0;32m----> 1\u001b[0m \u001b[43mreduce\u001b[49m\u001b[43m(\u001b[49m\u001b[38;5;28;43;01mlambda\u001b[39;49;00m\u001b[43m \u001b[49m\u001b[43mx\u001b[49m\u001b[43m,\u001b[49m\u001b[43m \u001b[49m\u001b[43my\u001b[49m\u001b[43m,\u001b[49m\u001b[43mz\u001b[49m\u001b[43m:\u001b[49m\u001b[43m \u001b[49m\u001b[43mx\u001b[49m\u001b[38;5;241;43m+\u001b[39;49m\u001b[43my\u001b[49m\u001b[38;5;241;43m+\u001b[39;49m\u001b[43mz\u001b[49m\u001b[43m,\u001b[49m\u001b[43m \u001b[49m\u001b[43ml\u001b[49m\u001b[43m)\u001b[49m\n",
      "\u001b[0;31mTypeError\u001b[0m: <lambda>() missing 1 required positional argument: 'z'"
     ]
    }
   ],
   "source": [
    "reduce(lambda x, y,z: x+y+z, l)\n",
    "# read error\n",
    "# reduce fn me 2 se zyada varisable nhi hona chahiye"
   ]
  },
  {
   "cell_type": "code",
   "execution_count": 82,
   "id": "cce9bcea-879b-4671-adf3-42b72fa8e3ff",
   "metadata": {},
   "outputs": [
    {
     "data": {
      "text/plain": [
       "120"
      ]
     },
     "execution_count": 82,
     "metadata": {},
     "output_type": "execute_result"
    }
   ],
   "source": [
    "reduce(lambda x,y :x*y,l)"
   ]
  },
  {
   "cell_type": "code",
   "execution_count": 83,
   "id": "2c90ad78-d10c-4915-b16d-66d54facec11",
   "metadata": {},
   "outputs": [
    {
     "data": {
      "text/plain": [
       "5"
      ]
     },
     "execution_count": 83,
     "metadata": {},
     "output_type": "execute_result"
    }
   ],
   "source": [
    "reduce(lambda x,y : x if x>y else y, l)"
   ]
  },
  {
   "cell_type": "code",
   "execution_count": 84,
   "id": "47d3240d-09be-4a0b-ac8b-a7eb04907097",
   "metadata": {},
   "outputs": [],
   "source": [
    "# mapper sirf mapping krta hai \n",
    "# reduce collab krta hai \n",
    "# now filter"
   ]
  },
  {
   "cell_type": "code",
   "execution_count": 85,
   "id": "cdf23247-4463-40d9-98e0-76b631afbed5",
   "metadata": {},
   "outputs": [
    {
     "data": {
      "text/plain": [
       "[1, 2, 3, 4, 5]"
      ]
     },
     "execution_count": 85,
     "metadata": {},
     "output_type": "execute_result"
    }
   ],
   "source": [
    "l"
   ]
  },
  {
   "cell_type": "code",
   "execution_count": 86,
   "id": "eb0718bf-14f3-4d27-a041-b4ead335a98a",
   "metadata": {},
   "outputs": [],
   "source": [
    "# how to use filter fn"
   ]
  },
  {
   "cell_type": "code",
   "execution_count": 87,
   "id": "382b2b79-0252-4cfb-b7eb-5df1c963b356",
   "metadata": {},
   "outputs": [
    {
     "data": {
      "text/plain": [
       "[2, 4]"
      ]
     },
     "execution_count": 87,
     "metadata": {},
     "output_type": "execute_result"
    }
   ],
   "source": [
    "list(filter(lambda x : x%2 == 0, l))"
   ]
  },
  {
   "cell_type": "code",
   "execution_count": 88,
   "id": "601f54bf-08c2-41ab-a99d-c6b894cc3792",
   "metadata": {},
   "outputs": [
    {
     "data": {
      "text/plain": [
       "[1, 3, 5]"
      ]
     },
     "execution_count": 88,
     "metadata": {},
     "output_type": "execute_result"
    }
   ],
   "source": [
    "list(filter(lambda x : x%2 != 0, l))\n",
    "# != use for not equal to zero"
   ]
  },
  {
   "cell_type": "code",
   "execution_count": 89,
   "id": "88356043-70fa-4bc2-9981-efb469096bae",
   "metadata": {},
   "outputs": [],
   "source": [
    "l1 = [-3,-4,-1,3,5,7,3,-2,-7]"
   ]
  },
  {
   "cell_type": "code",
   "execution_count": 92,
   "id": "db12303d-516c-4bf4-8536-346ab41bc654",
   "metadata": {},
   "outputs": [
    {
     "data": {
      "text/plain": [
       "[-3, -4, -1, -2, -7]"
      ]
     },
     "execution_count": 92,
     "metadata": {},
     "output_type": "execute_result"
    }
   ],
   "source": [
    "list(filter(lambda x : x<0, l1))"
   ]
  },
  {
   "cell_type": "code",
   "execution_count": 93,
   "id": "dd6c0b45-ae62-4760-b5db-ee74bc312d04",
   "metadata": {},
   "outputs": [],
   "source": [
    "l2 = [\"pwskills\", \"gatewallaj\", \"delhi\", \"uttarpradesh\"]"
   ]
  },
  {
   "cell_type": "code",
   "execution_count": 94,
   "id": "9e19917b-9100-4df0-ba22-ae9f744fccc1",
   "metadata": {},
   "outputs": [
    {
     "data": {
      "text/plain": [
       "['delhi']"
      ]
     },
     "execution_count": 94,
     "metadata": {},
     "output_type": "execute_result"
    }
   ],
   "source": [
    "list(filter(lambda x : len(x)<6, l2))"
   ]
  },
  {
   "cell_type": "code",
   "execution_count": 99,
   "id": "9c63274f-6ab0-4de4-b3a4-83b7afa67913",
   "metadata": {},
   "outputs": [
    {
     "data": {
      "text/plain": [
       "'pwskills'"
      ]
     },
     "execution_count": 99,
     "metadata": {},
     "output_type": "execute_result"
    }
   ],
   "source": [
    "string = \"pwskills\"\n",
    "\n",
    "(string.replace(\"\",\"\"))"
   ]
  },
  {
   "cell_type": "code",
   "execution_count": 100,
   "id": "03a5eda1-84bb-4725-9e4d-501854f9c910",
   "metadata": {},
   "outputs": [
    {
     "data": {
      "text/plain": [
       "True"
      ]
     },
     "execution_count": 100,
     "metadata": {},
     "output_type": "execute_result"
    }
   ],
   "source": [
    "\"pwskills\"[::-1].upper().replace(\"SLLIKSWP\", \"pwskills\").islower()"
   ]
  },
  {
   "cell_type": "code",
   "execution_count": 101,
   "id": "908bcd62-5f82-47c5-be8b-4d1624a8157b",
   "metadata": {},
   "outputs": [
    {
     "name": "stdout",
     "output_type": "stream",
     "text": [
      "I\n",
      "Want\n",
      "To\n",
      "Become\n",
      "A\n",
      "Data\n",
      "Scientist\n"
     ]
    }
   ],
   "source": [
    "s = \"I want to become a data scientist\"\n",
    "\n",
    "for i in s.split():\n",
    "\n",
    "    i.capitalize()\n",
    "\n",
    "    print(i.title())"
   ]
  },
  {
   "cell_type": "code",
   "execution_count": 102,
   "id": "f876d42e-3a38-4c0c-aa90-0ae87b63d81e",
   "metadata": {},
   "outputs": [
    {
     "ename": "TypeError",
     "evalue": "'str' object does not support item assignment",
     "output_type": "error",
     "traceback": [
      "\u001b[0;31m---------------------------------------------------------------------------\u001b[0m",
      "\u001b[0;31mTypeError\u001b[0m                                 Traceback (most recent call last)",
      "Cell \u001b[0;32mIn[102], line 1\u001b[0m\n\u001b[0;32m----> 1\u001b[0m \u001b[38;5;124;43m'\u001b[39;49m\u001b[38;5;124;43mpwskills\u001b[39;49m\u001b[38;5;124;43m'\u001b[39;49m\u001b[43m[\u001b[49m\u001b[38;5;241;43m0\u001b[39;49m\u001b[43m]\u001b[49m \u001b[38;5;241m=\u001b[39m \u001b[38;5;124m'\u001b[39m\u001b[38;5;124mp\u001b[39m\u001b[38;5;124m'\u001b[39m\n",
      "\u001b[0;31mTypeError\u001b[0m: 'str' object does not support item assignment"
     ]
    }
   ],
   "source": [
    "'pwskills'[0] = 'p'"
   ]
  },
  {
   "cell_type": "code",
   "execution_count": 103,
   "id": "36aaef41-f87c-4098-8951-50819c8f86a5",
   "metadata": {},
   "outputs": [
    {
     "name": "stdout",
     "output_type": "stream",
     "text": [
      "PwSkills PwSkills "
     ]
    }
   ],
   "source": [
    "for course in ['Data Science Masters', 'ML', 'data science masters', 'DL']:\n",
    "\n",
    "    if len(course)!= 2:\n",
    "\n",
    "        print('PwSkills' , end=' ')"
   ]
  },
  {
   "cell_type": "code",
   "execution_count": 104,
   "id": "f767fb17-1a9e-4441-8db6-20c2cf8dcf9f",
   "metadata": {},
   "outputs": [
    {
     "name": "stdout",
     "output_type": "stream",
     "text": [
      "105\n"
     ]
    }
   ],
   "source": [
    "sum = 0\n",
    "\n",
    "for i in range(1,100):\n",
    "\n",
    "    sum += i\n",
    "\n",
    "    if sum > 100:\n",
    "\n",
    "        break\n",
    "\n",
    "print(sum)"
   ]
  },
  {
   "cell_type": "code",
   "execution_count": 106,
   "id": "123bb6f1-6ff8-4c49-97d1-4d2946e7c252",
   "metadata": {},
   "outputs": [],
   "source": [
    "i=0\n",
    "\n",
    "while i< 1:\n",
    "\n",
    "    print('pwskills'),\n",
    "# infinite loop "
   ]
  },
  {
   "cell_type": "code",
   "execution_count": 111,
   "id": "3650e235-9df5-4476-8551-127198a232b7",
   "metadata": {},
   "outputs": [
    {
     "name": "stdout",
     "output_type": "stream",
     "text": [
      "110\n"
     ]
    }
   ],
   "source": [
    "num = 2\n",
    "\n",
    "sum = 0\n",
    "\n",
    "while num <=20:\n",
    "\n",
    "    sum = sum + num\n",
    "\n",
    "    num = num + 2\n",
    "  \n",
    "    count +=1\n",
    "\n",
    "print(sum)"
   ]
  },
  {
   "cell_type": "code",
   "execution_count": 112,
   "id": "015f3c4f-36b6-47b0-98da-fd78da5a7baa",
   "metadata": {},
   "outputs": [
    {
     "name": "stdout",
     "output_type": "stream",
     "text": [
      "True\n"
     ]
    }
   ],
   "source": [
    "for i in 'Pwskills':\n",
    "\n",
    "    if i.lower() in ['a', 'e', 'i', 'o', 'u']:\n",
    "\n",
    "        print(True)"
   ]
  },
  {
   "cell_type": "code",
   "execution_count": null,
   "id": "9a1aad99-4dc9-4636-980f-2a161f18ad96",
   "metadata": {},
   "outputs": [],
   "source": []
  }
 ],
 "metadata": {
  "kernelspec": {
   "display_name": "Python 3 (ipykernel)",
   "language": "python",
   "name": "python3"
  },
  "language_info": {
   "codemirror_mode": {
    "name": "ipython",
    "version": 3
   },
   "file_extension": ".py",
   "mimetype": "text/x-python",
   "name": "python",
   "nbconvert_exporter": "python",
   "pygments_lexer": "ipython3",
   "version": "3.10.8"
  }
 },
 "nbformat": 4,
 "nbformat_minor": 5
}
