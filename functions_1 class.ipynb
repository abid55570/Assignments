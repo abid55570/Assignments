{
 "cells": [
  {
   "cell_type": "markdown",
   "id": "dc819382-5c2a-4c94-af3d-2bdd79c66ae3",
   "metadata": {},
   "source": [
    "today we ll learn functions"
   ]
  },
  {
   "cell_type": "code",
   "execution_count": 2,
   "id": "83c53f6d-04d1-451e-aa07-ddc93790997f",
   "metadata": {},
   "outputs": [],
   "source": [
    "# there is many inbuilt functions \n",
    "# such as print , len, type, append, type etc"
   ]
  },
  {
   "cell_type": "code",
   "execution_count": 3,
   "id": "1b352bc5-34e5-40cd-95aa-e3054c94b361",
   "metadata": {},
   "outputs": [],
   "source": [
    "def test():\n",
    "    print(\"this is my first function\")"
   ]
  },
  {
   "cell_type": "code",
   "execution_count": 4,
   "id": "2e7f258f-eb50-4a3b-8cb9-5956905d3e31",
   "metadata": {},
   "outputs": [
    {
     "name": "stdout",
     "output_type": "stream",
     "text": [
      "this is my first function\n"
     ]
    }
   ],
   "source": [
    "test()"
   ]
  },
  {
   "cell_type": "code",
   "execution_count": 5,
   "id": "a41b0af5-7296-4ef8-a5cd-40bcd7edd2e4",
   "metadata": {},
   "outputs": [],
   "source": [
    "def test1():\n",
    "    return \"this is my return test\""
   ]
  },
  {
   "cell_type": "code",
   "execution_count": 7,
   "id": "ea759766-c237-410a-8be5-4d25acf99371",
   "metadata": {},
   "outputs": [
    {
     "data": {
      "text/plain": [
       "'this is my return test'"
      ]
     },
     "execution_count": 7,
     "metadata": {},
     "output_type": "execute_result"
    }
   ],
   "source": [
    "test1()"
   ]
  },
  {
   "cell_type": "code",
   "execution_count": 9,
   "id": "f3614b11-d0e5-4822-a3ca-c1725fc839bb",
   "metadata": {},
   "outputs": [
    {
     "data": {
      "text/plain": [
       "'this is my return test abid'"
      ]
     },
     "execution_count": 9,
     "metadata": {},
     "output_type": "execute_result"
    }
   ],
   "source": [
    "test1() + \" abid\""
   ]
  },
  {
   "cell_type": "code",
   "execution_count": 10,
   "id": "4fa19569-e318-47bf-add7-f9bc849a10f3",
   "metadata": {},
   "outputs": [],
   "source": [
    "def test2():\n",
    "    \n",
    "    return \"abid\", 23, 345.234, [2,3,4]"
   ]
  },
  {
   "cell_type": "code",
   "execution_count": 11,
   "id": "b12a8c30-c4c9-4c10-a02b-f107bcb1d23b",
   "metadata": {},
   "outputs": [
    {
     "data": {
      "text/plain": [
       "('abid', 23, 345.234, [2, 3, 4])"
      ]
     },
     "execution_count": 11,
     "metadata": {},
     "output_type": "execute_result"
    }
   ],
   "source": [
    "test2()\n",
    "# multiple data type can call by  RETURN word using"
   ]
  },
  {
   "cell_type": "code",
   "execution_count": 12,
   "id": "6ab6f2ed-897b-49fa-a48e-bf3928517655",
   "metadata": {},
   "outputs": [],
   "source": [
    "a,b,c,d = test2()\n",
    "# for each data type variable can be declare "
   ]
  },
  {
   "cell_type": "code",
   "execution_count": 13,
   "id": "79f09849-042b-41c5-a597-517aefce344f",
   "metadata": {},
   "outputs": [
    {
     "data": {
      "text/plain": [
       "'abid'"
      ]
     },
     "execution_count": 13,
     "metadata": {},
     "output_type": "execute_result"
    }
   ],
   "source": [
    "a"
   ]
  },
  {
   "cell_type": "code",
   "execution_count": 14,
   "id": "c57ba5a5-225b-4771-bb52-ac7fe28baa9f",
   "metadata": {},
   "outputs": [
    {
     "data": {
      "text/plain": [
       "23"
      ]
     },
     "execution_count": 14,
     "metadata": {},
     "output_type": "execute_result"
    }
   ],
   "source": [
    "b"
   ]
  },
  {
   "cell_type": "code",
   "execution_count": 15,
   "id": "ef721fb3-939a-494f-9d32-b5e4efac7031",
   "metadata": {},
   "outputs": [
    {
     "data": {
      "text/plain": [
       "345.234"
      ]
     },
     "execution_count": 15,
     "metadata": {},
     "output_type": "execute_result"
    }
   ],
   "source": [
    "c"
   ]
  },
  {
   "cell_type": "code",
   "execution_count": 16,
   "id": "86827254-2f22-4925-8596-c64bf8974f5c",
   "metadata": {},
   "outputs": [
    {
     "data": {
      "text/plain": [
       "[2, 3, 4]"
      ]
     },
     "execution_count": 16,
     "metadata": {},
     "output_type": "execute_result"
    }
   ],
   "source": [
    "d"
   ]
  },
  {
   "cell_type": "code",
   "execution_count": 18,
   "id": "3d37a286-1d41-46c9-b7d1-fd399b4ab552",
   "metadata": {},
   "outputs": [],
   "source": [
    "a = 1 \n",
    "b = 2\n",
    "# same as\n",
    "a ,b = 1,2"
   ]
  },
  {
   "cell_type": "code",
   "execution_count": 21,
   "id": "b930e07c-f65f-43cd-82a0-f7e4a669f32f",
   "metadata": {},
   "outputs": [],
   "source": [
    "def test4():\n",
    "    a = 5+6/7\n",
    "    return a"
   ]
  },
  {
   "cell_type": "code",
   "execution_count": 22,
   "id": "6614204d-dde9-4572-892f-0a767531e3ab",
   "metadata": {},
   "outputs": [
    {
     "data": {
      "text/plain": [
       "5.857142857142857"
      ]
     },
     "execution_count": 22,
     "metadata": {},
     "output_type": "execute_result"
    }
   ],
   "source": [
    "test4()"
   ]
  },
  {
   "cell_type": "code",
   "execution_count": 23,
   "id": "ab09190a-2961-4a27-aa6b-e2b1d6d6da4a",
   "metadata": {},
   "outputs": [],
   "source": [
    "def test5(a,b,c):\n",
    "    d = a-b/c\n",
    "    return d"
   ]
  },
  {
   "cell_type": "code",
   "execution_count": 24,
   "id": "0d8b5d15-8e85-439c-9680-dff5356598ab",
   "metadata": {},
   "outputs": [
    {
     "ename": "TypeError",
     "evalue": "test5() missing 3 required positional arguments: 'a', 'b', and 'c'",
     "output_type": "error",
     "traceback": [
      "\u001b[0;31m---------------------------------------------------------------------------\u001b[0m",
      "\u001b[0;31mTypeError\u001b[0m                                 Traceback (most recent call last)",
      "Cell \u001b[0;32mIn[24], line 1\u001b[0m\n\u001b[0;32m----> 1\u001b[0m \u001b[43mtest5\u001b[49m\u001b[43m(\u001b[49m\u001b[43m)\u001b[49m\n",
      "\u001b[0;31mTypeError\u001b[0m: test5() missing 3 required positional arguments: 'a', 'b', and 'c'"
     ]
    }
   ],
   "source": [
    "test5()"
   ]
  },
  {
   "cell_type": "code",
   "execution_count": 25,
   "id": "33c8beea-8208-4644-833d-de34cf3f4f2e",
   "metadata": {},
   "outputs": [
    {
     "data": {
      "text/plain": [
       "1.3333333333333335"
      ]
     },
     "execution_count": 25,
     "metadata": {},
     "output_type": "execute_result"
    }
   ],
   "source": [
    "test5(2,4,6)"
   ]
  },
  {
   "cell_type": "code",
   "execution_count": 31,
   "id": "fa46761b-d018-44f2-8155-8c1dd35b0f61",
   "metadata": {},
   "outputs": [],
   "source": [
    "def test6(a,b):\n",
    "    return a+b"
   ]
  },
  {
   "cell_type": "code",
   "execution_count": 32,
   "id": "938f354f-c0a6-4d7b-b63c-80c16041d2c3",
   "metadata": {},
   "outputs": [
    {
     "data": {
      "text/plain": [
       "9"
      ]
     },
     "execution_count": 32,
     "metadata": {},
     "output_type": "execute_result"
    }
   ],
   "source": [
    "test6(4,5)"
   ]
  },
  {
   "cell_type": "code",
   "execution_count": 33,
   "id": "d0651eda-7ffa-4ed5-b698-0a4dc4f333e1",
   "metadata": {},
   "outputs": [
    {
     "data": {
      "text/plain": [
       "8"
      ]
     },
     "execution_count": 33,
     "metadata": {},
     "output_type": "execute_result"
    }
   ],
   "source": [
    "test6(5,3)"
   ]
  },
  {
   "cell_type": "code",
   "execution_count": 34,
   "id": "8364bd5a-a70a-4f04-80f6-6715a75feab4",
   "metadata": {},
   "outputs": [
    {
     "data": {
      "text/plain": [
       "'abidabcd'"
      ]
     },
     "execution_count": 34,
     "metadata": {},
     "output_type": "execute_result"
    }
   ],
   "source": [
    "test6(\"abid\",\"abcd\")"
   ]
  },
  {
   "cell_type": "code",
   "execution_count": 35,
   "id": "85f7b799-9891-4590-8f82-12dbc62ab1e7",
   "metadata": {},
   "outputs": [
    {
     "data": {
      "text/plain": [
       "[1, 2, 3, 4, 2, 4, 3, 6, 7, 8]"
      ]
     },
     "execution_count": 35,
     "metadata": {},
     "output_type": "execute_result"
    }
   ],
   "source": [
    "test6([1,2,3,4],[2,4,3,6,7,8])"
   ]
  },
  {
   "cell_type": "code",
   "execution_count": 36,
   "id": "3e6e3cf2-ba4e-4719-a242-38289528e82d",
   "metadata": {},
   "outputs": [],
   "source": [
    "l = [1,2,3,4, \"abid\", \"kumar\", [1,2,3,4,5,6]]"
   ]
  },
  {
   "cell_type": "code",
   "execution_count": 37,
   "id": "988f2cef-07d4-4930-a9ac-b2bd4bcff4b6",
   "metadata": {},
   "outputs": [],
   "source": [
    "l1 = []\n",
    "for i in l :\n",
    "    if type(i) == int or type(i) == float:\n",
    "        l1.append(i)"
   ]
  },
  {
   "cell_type": "code",
   "execution_count": 38,
   "id": "a5db3bdd-211f-489d-a021-2ed72288c994",
   "metadata": {},
   "outputs": [
    {
     "data": {
      "text/plain": [
       "[1, 2, 3, 4]"
      ]
     },
     "execution_count": 38,
     "metadata": {},
     "output_type": "execute_result"
    }
   ],
   "source": [
    "l1"
   ]
  },
  {
   "cell_type": "code",
   "execution_count": 43,
   "id": "da3e967e-1739-4e6b-9532-5a4247571ab6",
   "metadata": {},
   "outputs": [],
   "source": [
    "def test7(l):\n",
    "    l1 = []\n",
    "    for i in l :\n",
    "        if type(i) == int or type(i) == float:\n",
    "            l1.append(i)\n",
    "    return l1"
   ]
  },
  {
   "cell_type": "code",
   "execution_count": 44,
   "id": "78b4c390-18f1-45da-9dbd-13ab6178f036",
   "metadata": {},
   "outputs": [
    {
     "data": {
      "text/plain": [
       "[1, 2, 3, 4]"
      ]
     },
     "execution_count": 44,
     "metadata": {},
     "output_type": "execute_result"
    }
   ],
   "source": [
    "test7(l)"
   ]
  },
  {
   "cell_type": "code",
   "execution_count": 45,
   "id": "6c2c26ee-8a68-48ec-b46a-95e3150fd4af",
   "metadata": {},
   "outputs": [],
   "source": [
    "def test8(a):\n",
    "    l = []\n",
    "    for i in a :\n",
    "        if type(i) == list:\n",
    "            for j in i :\n",
    "                l.append(j)\n",
    "        else :\n",
    "            if type(i) == int or type(i) == float :\n",
    "                l.append(i)\n",
    "    return l "
   ]
  },
  {
   "cell_type": "code",
   "execution_count": 46,
   "id": "5139afe6-7e15-4f4d-a600-4d2c7e77a270",
   "metadata": {},
   "outputs": [
    {
     "data": {
      "text/plain": [
       "[1, 2, 3, 4, 1, 2, 3, 4, 5, 6]"
      ]
     },
     "execution_count": 46,
     "metadata": {},
     "output_type": "execute_result"
    }
   ],
   "source": [
    "test8(l)"
   ]
  },
  {
   "cell_type": "code",
   "execution_count": 47,
   "id": "2f224f6a-ab9c-4737-a614-500df51a1213",
   "metadata": {},
   "outputs": [],
   "source": [
    "def test9(a):\n",
    "     '''this is my fuction to extract numeric data from list'''\n",
    "    l = []\n",
    "    for i in a :\n",
    "        if type(i) == list:\n",
    "            for j in i :\n",
    "                l.append(j)\n",
    "        else :\n",
    "            if type(i) == int or type(i) == float :\n",
    "                l.append(i)\n",
    "    return l "
   ]
  },
  {
   "cell_type": "code",
   "execution_count": 49,
   "id": "b4934d84-c260-46ec-91e8-57edebbcfe0b",
   "metadata": {},
   "outputs": [
    {
     "data": {
      "text/plain": [
       "[1, 2, 3, 4, 1, 2, 3, 4, 5, 6]"
      ]
     },
     "execution_count": 49,
     "metadata": {},
     "output_type": "execute_result"
    }
   ],
   "source": [
    "test9(l)"
   ]
  },
  {
   "cell_type": "code",
   "execution_count": 50,
   "id": "9ab0fc9c-4d9b-4056-a5db-3cfa570f2894",
   "metadata": {},
   "outputs": [],
   "source": [
    "def test10(a,b):\n",
    "    return a+b\n",
    "\n",
    "# to dynamic the data from use whatever user want to enter"
   ]
  },
  {
   "cell_type": "code",
   "execution_count": 56,
   "id": "cedf741c-af40-492f-8a8a-1ef59abc4c15",
   "metadata": {},
   "outputs": [],
   "source": [
    "def test11(*args):\n",
    "    return args\n",
    "# it means whaterve we want to pass it as a tuple\n",
    "# args is not a keywords, we can use any keyword\n",
    "# jo main kaam kr rha hai wo hai star (*) , ye laga kr kuch bhi likh do "
   ]
  },
  {
   "cell_type": "code",
   "execution_count": 57,
   "id": "481a4dbf-203f-48b5-8fcb-f026da06a136",
   "metadata": {},
   "outputs": [
    {
     "data": {
      "text/plain": [
       "tuple"
      ]
     },
     "execution_count": 57,
     "metadata": {},
     "output_type": "execute_result"
    }
   ],
   "source": [
    "type(test11())"
   ]
  },
  {
   "cell_type": "code",
   "execution_count": 58,
   "id": "a9d3cd5f-7d0e-4800-b7fe-a87f7aaaea1c",
   "metadata": {},
   "outputs": [
    {
     "data": {
      "text/plain": [
       "(1, 2, 3)"
      ]
     },
     "execution_count": 58,
     "metadata": {},
     "output_type": "execute_result"
    }
   ],
   "source": [
    "test11(1,2,3)"
   ]
  },
  {
   "cell_type": "code",
   "execution_count": 59,
   "id": "e6085685-6bee-4b34-a5d8-f844ed9fbd10",
   "metadata": {},
   "outputs": [
    {
     "data": {
      "text/plain": [
       "(1, 2, 3, 'such', 'abcd', [1, 2, 3, 4])"
      ]
     },
     "execution_count": 59,
     "metadata": {},
     "output_type": "execute_result"
    }
   ],
   "source": [
    "test11(1,2,3,\"such\",\"abcd\",[1,2,3,4])"
   ]
  },
  {
   "cell_type": "code",
   "execution_count": 1,
   "id": "2bbe5a0e-c69f-4d23-b57f-055cacc89f09",
   "metadata": {},
   "outputs": [],
   "source": [
    "def test13(*args, a):\n",
    "    return args, a\n",
    "# * (star) can be use to pass the data in the function"
   ]
  },
  {
   "cell_type": "code",
   "execution_count": 2,
   "id": "ff5ffe3e-fa19-4a92-b380-1d72c27c141d",
   "metadata": {},
   "outputs": [
    {
     "data": {
      "text/plain": [
       "((1, 2, 3, 4), 23)"
      ]
     },
     "execution_count": 2,
     "metadata": {},
     "output_type": "execute_result"
    }
   ],
   "source": [
    "test13(1,2,3,4, a=23)"
   ]
  },
  {
   "cell_type": "code",
   "execution_count": 1,
   "id": "1c731e7d-7bf8-4dd2-ac89-d000cf4e6b91",
   "metadata": {},
   "outputs": [],
   "source": [
    "def test14(c,d,a=2,b=4):\n",
    "    return a,b,c,d"
   ]
  },
  {
   "cell_type": "code",
   "execution_count": 2,
   "id": "30149960-27a5-46af-8b39-039fb79196b3",
   "metadata": {},
   "outputs": [
    {
     "data": {
      "text/plain": [
       "(2, 4, 1, 3)"
      ]
     },
     "execution_count": 2,
     "metadata": {},
     "output_type": "execute_result"
    }
   ],
   "source": [
    "test14(1,3)"
   ]
  },
  {
   "cell_type": "code",
   "execution_count": 4,
   "id": "49c2d28e-00b3-4a27-8a18-0bfc51dc52f5",
   "metadata": {},
   "outputs": [
    {
     "data": {
      "text/plain": [
       "(7, 8, 3, 4)"
      ]
     },
     "execution_count": 4,
     "metadata": {},
     "output_type": "execute_result"
    }
   ],
   "source": [
    "test14(3,4,a=7,b=8)\n",
    "# given value can be over write \n",
    "# otherwise it ll give defined terms"
   ]
  },
  {
   "cell_type": "code",
   "execution_count": 5,
   "id": "2547c387-bf14-4cf0-a02b-98d885fc6766",
   "metadata": {},
   "outputs": [],
   "source": [
    "def test15(**kwargs):\n",
    "    return kwargs\n",
    "# ** returns in the dictionary form in which any data can be stored"
   ]
  },
  {
   "cell_type": "code",
   "execution_count": 6,
   "id": "2ec618b1-c0ce-4ce6-a6c7-c529252a9fa4",
   "metadata": {},
   "outputs": [
    {
     "data": {
      "text/plain": [
       "{}"
      ]
     },
     "execution_count": 6,
     "metadata": {},
     "output_type": "execute_result"
    }
   ],
   "source": [
    "test15()"
   ]
  },
  {
   "cell_type": "code",
   "execution_count": 7,
   "id": "089db3e7-b83c-4955-b2b5-7f1d69991276",
   "metadata": {},
   "outputs": [
    {
     "data": {
      "text/plain": [
       "{'a': [1, 2, 3], 'b': 'abcd', 'c': 23.44}"
      ]
     },
     "execution_count": 7,
     "metadata": {},
     "output_type": "execute_result"
    }
   ],
   "source": [
    "test15(a=[1,2,3], b= \"abcd\", c = 23.44)"
   ]
  },
  {
   "cell_type": "code",
   "execution_count": null,
   "id": "b3498223-21a2-41ba-9579-9bb8456b367c",
   "metadata": {},
   "outputs": [],
   "source": []
  }
 ],
 "metadata": {
  "kernelspec": {
   "display_name": "Python 3 (ipykernel)",
   "language": "python",
   "name": "python3"
  },
  "language_info": {
   "codemirror_mode": {
    "name": "ipython",
    "version": 3
   },
   "file_extension": ".py",
   "mimetype": "text/x-python",
   "name": "python",
   "nbconvert_exporter": "python",
   "pygments_lexer": "ipython3",
   "version": "3.10.8"
  }
 },
 "nbformat": 4,
 "nbformat_minor": 5
}
