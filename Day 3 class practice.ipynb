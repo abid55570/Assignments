{
 "cells": [
  {
   "cell_type": "code",
   "execution_count": 1,
   "id": "1bdb8612-9023-4d60-97d7-ea3467bda21e",
   "metadata": {},
   "outputs": [],
   "source": [
    "#yesterday we learned premetive data type"
   ]
  },
  {
   "cell_type": "code",
   "execution_count": 2,
   "id": "f23d6f49-1773-411d-a0bd-430f45d50d3c",
   "metadata": {},
   "outputs": [],
   "source": [
    "#today we ll learn list varialble, tuple & set"
   ]
  },
  {
   "cell_type": "code",
   "execution_count": 3,
   "id": "b6601ac8-393c-48f5-9f1d-0bcc92033d7d",
   "metadata": {},
   "outputs": [],
   "source": [
    "z = [1,345,65,\"abid\",True,8+9j,247.846]"
   ]
  },
  {
   "cell_type": "code",
   "execution_count": 4,
   "id": "50526ed7-81e2-40a8-9d30-4f4ff30df5bd",
   "metadata": {},
   "outputs": [
    {
     "data": {
      "text/plain": [
       "list"
      ]
     },
     "execution_count": 4,
     "metadata": {},
     "output_type": "execute_result"
    }
   ],
   "source": [
    "type(z)"
   ]
  },
  {
   "cell_type": "code",
   "execution_count": 5,
   "id": "4d9d81bf-6a43-4d8e-a431-56c6695347da",
   "metadata": {},
   "outputs": [
    {
     "data": {
      "text/plain": [
       "1"
      ]
     },
     "execution_count": 5,
     "metadata": {},
     "output_type": "execute_result"
    }
   ],
   "source": [
    "z[0]"
   ]
  },
  {
   "cell_type": "code",
   "execution_count": 6,
   "id": "67b3dd92-0ffb-4bbb-a234-553264f87618",
   "metadata": {},
   "outputs": [
    {
     "data": {
      "text/plain": [
       "(8+9j)"
      ]
     },
     "execution_count": 6,
     "metadata": {},
     "output_type": "execute_result"
    }
   ],
   "source": [
    "z[5]"
   ]
  },
  {
   "cell_type": "code",
   "execution_count": 7,
   "id": "1f2e3523-078d-41d6-9b0c-3737c3ef3897",
   "metadata": {},
   "outputs": [
    {
     "data": {
      "text/plain": [
       "247.846"
      ]
     },
     "execution_count": 7,
     "metadata": {},
     "output_type": "execute_result"
    }
   ],
   "source": [
    "z[6]"
   ]
  },
  {
   "cell_type": "code",
   "execution_count": 8,
   "id": "ac389546-bcfe-410a-94a9-da4a03e1b960",
   "metadata": {},
   "outputs": [
    {
     "data": {
      "text/plain": [
       "'abid'"
      ]
     },
     "execution_count": 8,
     "metadata": {},
     "output_type": "execute_result"
    }
   ],
   "source": [
    "z[3]"
   ]
  },
  {
   "cell_type": "code",
   "execution_count": 9,
   "id": "ee1d743a-1be6-4ab2-a240-75f3fcafafd8",
   "metadata": {},
   "outputs": [
    {
     "data": {
      "text/plain": [
       "[1, 345, 65, 'abid', True, (8+9j), 247.846]"
      ]
     },
     "execution_count": 9,
     "metadata": {},
     "output_type": "execute_result"
    }
   ],
   "source": [
    "z"
   ]
  },
  {
   "cell_type": "code",
   "execution_count": 10,
   "id": "4ac71055-8d78-4f13-bad5-8d0eae72c872",
   "metadata": {},
   "outputs": [
    {
     "ename": "IndexError",
     "evalue": "list index out of range",
     "output_type": "error",
     "traceback": [
      "\u001b[0;31m---------------------------------------------------------------------------\u001b[0m",
      "\u001b[0;31mIndexError\u001b[0m                                Traceback (most recent call last)",
      "Cell \u001b[0;32mIn[10], line 1\u001b[0m\n\u001b[0;32m----> 1\u001b[0m \u001b[43mz\u001b[49m\u001b[43m[\u001b[49m\u001b[38;5;241;43m90\u001b[39;49m\u001b[43m]\u001b[49m\n",
      "\u001b[0;31mIndexError\u001b[0m: list index out of range"
     ]
    }
   ],
   "source": [
    "z[90]"
   ]
  },
  {
   "cell_type": "code",
   "execution_count": 11,
   "id": "499b4f59-ee3e-496b-b0b8-b2519a4c4098",
   "metadata": {},
   "outputs": [],
   "source": [
    "#in the all data can be stored premitive data and non prmitive data \n",
    "# all types of data can be stored in list"
   ]
  },
  {
   "cell_type": "code",
   "execution_count": 12,
   "id": "fa83f7f0-1c7d-4306-bb78-5be5b19250c1",
   "metadata": {},
   "outputs": [
    {
     "data": {
      "text/plain": [
       "[1, 'abid', 247.846]"
      ]
     },
     "execution_count": 12,
     "metadata": {},
     "output_type": "execute_result"
    }
   ],
   "source": [
    "z[0::3]"
   ]
  },
  {
   "cell_type": "code",
   "execution_count": 13,
   "id": "d57dbb5b-5115-4b27-b8fd-e2b41bdd9543",
   "metadata": {},
   "outputs": [
    {
     "data": {
      "text/plain": [
       "[1, 345, 65]"
      ]
     },
     "execution_count": 13,
     "metadata": {},
     "output_type": "execute_result"
    }
   ],
   "source": [
    "z[0:3]"
   ]
  },
  {
   "cell_type": "code",
   "execution_count": 14,
   "id": "2b91127b-08c2-4427-af02-6e2a091a1deb",
   "metadata": {},
   "outputs": [
    {
     "data": {
      "text/plain": [
       "247.846"
      ]
     },
     "execution_count": 14,
     "metadata": {},
     "output_type": "execute_result"
    }
   ],
   "source": [
    "z[-1]"
   ]
  },
  {
   "cell_type": "code",
   "execution_count": 15,
   "id": "8efc249a-dd85-49f2-b868-eeae9350d68f",
   "metadata": {},
   "outputs": [
    {
     "data": {
      "text/plain": [
       "[1, 345, 65, 'abid', True, (8+9j), 247.846]"
      ]
     },
     "execution_count": 15,
     "metadata": {},
     "output_type": "execute_result"
    }
   ],
   "source": [
    "z"
   ]
  },
  {
   "cell_type": "code",
   "execution_count": 17,
   "id": "d3c38937-c9a7-49ab-81a6-b19a4431b939",
   "metadata": {},
   "outputs": [
    {
     "data": {
      "text/plain": [
       "[247.846, (8+9j), True, 'abid', 65, 345, 1]"
      ]
     },
     "execution_count": 17,
     "metadata": {},
     "output_type": "execute_result"
    }
   ],
   "source": [
    "z[::-1]"
   ]
  },
  {
   "cell_type": "code",
   "execution_count": 18,
   "id": "cac7379a-c7f0-4028-8223-416e3fb3a6e1",
   "metadata": {},
   "outputs": [
    {
     "data": {
      "text/plain": [
       "[1, 65, True, 247.846]"
      ]
     },
     "execution_count": 18,
     "metadata": {},
     "output_type": "execute_result"
    }
   ],
   "source": [
    "z[::2]"
   ]
  },
  {
   "cell_type": "code",
   "execution_count": 19,
   "id": "ce444096-7fc4-49bf-bcb6-da8ebe37a875",
   "metadata": {},
   "outputs": [],
   "source": [
    "s = \"pwskills\""
   ]
  },
  {
   "cell_type": "code",
   "execution_count": 23,
   "id": "7347ab2e-21d1-41b6-b540-4b862ef2ad96",
   "metadata": {},
   "outputs": [
    {
     "ename": "TypeError",
     "evalue": "can only concatenate list (not \"str\") to list",
     "output_type": "error",
     "traceback": [
      "\u001b[0;31m---------------------------------------------------------------------------\u001b[0m",
      "\u001b[0;31mTypeError\u001b[0m                                 Traceback (most recent call last)",
      "Cell \u001b[0;32mIn[23], line 1\u001b[0m\n\u001b[0;32m----> 1\u001b[0m \u001b[43mz\u001b[49m\u001b[43m \u001b[49m\u001b[38;5;241;43m+\u001b[39;49m\u001b[43m \u001b[49m\u001b[38;5;124;43m'\u001b[39;49m\u001b[38;5;124;43ms\u001b[39;49m\u001b[38;5;124;43m'\u001b[39;49m\n",
      "\u001b[0;31mTypeError\u001b[0m: can only concatenate list (not \"str\") to list"
     ]
    }
   ],
   "source": [
    "z + 's'"
   ]
  },
  {
   "cell_type": "code",
   "execution_count": 24,
   "id": "230b5b8e-3d75-4c5c-839a-cf091ae35696",
   "metadata": {},
   "outputs": [],
   "source": [
    "# its not done because list cannt concatinate with string"
   ]
  },
  {
   "cell_type": "code",
   "execution_count": 25,
   "id": "c060e8c8-3f4e-4a28-8adc-8f3c78255a56",
   "metadata": {},
   "outputs": [
    {
     "data": {
      "text/plain": [
       "['p', 'w', 's', 'k', 'i', 'l', 'l', 's']"
      ]
     },
     "execution_count": 25,
     "metadata": {},
     "output_type": "execute_result"
    }
   ],
   "source": [
    "list(s)"
   ]
  },
  {
   "cell_type": "code",
   "execution_count": 26,
   "id": "10ff6ab0-5b44-4650-bbb0-291766212ba4",
   "metadata": {},
   "outputs": [
    {
     "ename": "TypeError",
     "evalue": "can only concatenate list (not \"str\") to list",
     "output_type": "error",
     "traceback": [
      "\u001b[0;31m---------------------------------------------------------------------------\u001b[0m",
      "\u001b[0;31mTypeError\u001b[0m                                 Traceback (most recent call last)",
      "Cell \u001b[0;32mIn[26], line 1\u001b[0m\n\u001b[0;32m----> 1\u001b[0m \u001b[38;5;28;43mlist\u001b[39;49m\u001b[43m(\u001b[49m\u001b[43ms\u001b[49m\u001b[43m)\u001b[49m\u001b[43m \u001b[49m\u001b[38;5;241;43m+\u001b[39;49m\u001b[43m \u001b[49m\u001b[43ms\u001b[49m\n",
      "\u001b[0;31mTypeError\u001b[0m: can only concatenate list (not \"str\") to list"
     ]
    }
   ],
   "source": [
    "list(s) + s"
   ]
  },
  {
   "cell_type": "code",
   "execution_count": 27,
   "id": "332cfac1-72ce-4af3-aa42-cec44878a221",
   "metadata": {},
   "outputs": [
    {
     "data": {
      "text/plain": [
       "'abid'"
      ]
     },
     "execution_count": 27,
     "metadata": {},
     "output_type": "execute_result"
    }
   ],
   "source": [
    "z[3]"
   ]
  },
  {
   "cell_type": "code",
   "execution_count": 28,
   "id": "35225e48-1ea7-4208-b5db-a13605d2cd88",
   "metadata": {},
   "outputs": [
    {
     "data": {
      "text/plain": [
       "str"
      ]
     },
     "execution_count": 28,
     "metadata": {},
     "output_type": "execute_result"
    }
   ],
   "source": [
    "type(z[3])"
   ]
  },
  {
   "cell_type": "code",
   "execution_count": 29,
   "id": "e245c7f2-80d0-4786-aa6f-1aede7bfc5f9",
   "metadata": {},
   "outputs": [
    {
     "data": {
      "text/plain": [
       "'ab'"
      ]
     },
     "execution_count": 29,
     "metadata": {},
     "output_type": "execute_result"
    }
   ],
   "source": [
    "z[3][0:2]"
   ]
  },
  {
   "cell_type": "code",
   "execution_count": 30,
   "id": "b296090c-0e8f-43f8-92f8-e9910c562260",
   "metadata": {},
   "outputs": [
    {
     "data": {
      "text/plain": [
       "True"
      ]
     },
     "execution_count": 30,
     "metadata": {},
     "output_type": "execute_result"
    }
   ],
   "source": [
    "z[4]"
   ]
  },
  {
   "cell_type": "code",
   "execution_count": 32,
   "id": "5dccdb99-c7f2-4b7f-8778-255a53abf605",
   "metadata": {},
   "outputs": [
    {
     "data": {
      "text/plain": [
       "'Tr'"
      ]
     },
     "execution_count": 32,
     "metadata": {},
     "output_type": "execute_result"
    }
   ],
   "source": [
    "str(z[4])[0:2]"
   ]
  },
  {
   "cell_type": "code",
   "execution_count": 33,
   "id": "33b5f2ac-ecab-4610-9d6d-7f24f975a174",
   "metadata": {},
   "outputs": [
    {
     "data": {
      "text/plain": [
       "[1, 345, 65, 'abid', True, (8+9j), 247.846]"
      ]
     },
     "execution_count": 33,
     "metadata": {},
     "output_type": "execute_result"
    }
   ],
   "source": [
    "z"
   ]
  },
  {
   "cell_type": "code",
   "execution_count": 34,
   "id": "9a698fe2-e933-4869-9ac1-7ac7686e8625",
   "metadata": {},
   "outputs": [
    {
     "ename": "TypeError",
     "evalue": "can only concatenate list (not \"int\") to list",
     "output_type": "error",
     "traceback": [
      "\u001b[0;31m---------------------------------------------------------------------------\u001b[0m",
      "\u001b[0;31mTypeError\u001b[0m                                 Traceback (most recent call last)",
      "Cell \u001b[0;32mIn[34], line 1\u001b[0m\n\u001b[0;32m----> 1\u001b[0m \u001b[43mz\u001b[49m\u001b[43m \u001b[49m\u001b[38;5;241;43m+\u001b[39;49m\u001b[43m \u001b[49m\u001b[38;5;241;43m5\u001b[39;49m\n",
      "\u001b[0;31mTypeError\u001b[0m: can only concatenate list (not \"int\") to list"
     ]
    }
   ],
   "source": [
    "z + 5"
   ]
  },
  {
   "cell_type": "code",
   "execution_count": 35,
   "id": "cd239d1a-2de8-44e3-b2fe-9903dfb69842",
   "metadata": {},
   "outputs": [],
   "source": [
    "# list with int cant continate"
   ]
  },
  {
   "cell_type": "code",
   "execution_count": 36,
   "id": "7918cda6-b599-4e58-890d-edbe39885864",
   "metadata": {},
   "outputs": [],
   "source": [
    "z1 = [3,4,8]"
   ]
  },
  {
   "cell_type": "code",
   "execution_count": 40,
   "id": "e0f5844e-57f6-4576-8ba9-a48ac2fa6625",
   "metadata": {},
   "outputs": [
    {
     "data": {
      "text/plain": [
       "[1, 345, 65, 'abid', True, (8+9j), 247.846, 3, 4, 8]"
      ]
     },
     "execution_count": 40,
     "metadata": {},
     "output_type": "execute_result"
    }
   ],
   "source": [
    "z + z1\n",
    "# list with list can concatinate "
   ]
  },
  {
   "cell_type": "code",
   "execution_count": 38,
   "id": "bda2dc01-1ca8-43b1-a5bf-29961a740b47",
   "metadata": {},
   "outputs": [
    {
     "data": {
      "text/plain": [
       "[3, 4, 8, 3, 4, 8, 3, 4, 8]"
      ]
     },
     "execution_count": 38,
     "metadata": {},
     "output_type": "execute_result"
    }
   ],
   "source": [
    "z1 * 3"
   ]
  },
  {
   "cell_type": "code",
   "execution_count": 42,
   "id": "7d9ead66-68ed-46f6-8635-90506cf0e178",
   "metadata": {},
   "outputs": [
    {
     "data": {
      "text/plain": [
       "7"
      ]
     },
     "execution_count": 42,
     "metadata": {},
     "output_type": "execute_result"
    }
   ],
   "source": [
    "len(z)"
   ]
  },
  {
   "cell_type": "code",
   "execution_count": 43,
   "id": "e3530b1c-8659-45d2-8f80-dc1d2378ed72",
   "metadata": {},
   "outputs": [
    {
     "data": {
      "text/plain": [
       "3"
      ]
     },
     "execution_count": 43,
     "metadata": {},
     "output_type": "execute_result"
    }
   ],
   "source": [
    "len(z1)"
   ]
  },
  {
   "cell_type": "code",
   "execution_count": 44,
   "id": "1fbedd8a-f9ca-45eb-8e46-c90bae989ab7",
   "metadata": {},
   "outputs": [],
   "source": [
    "z.append(5)"
   ]
  },
  {
   "cell_type": "code",
   "execution_count": 45,
   "id": "bcb5a3ca-2842-4ec4-b07c-21c3fbe81128",
   "metadata": {},
   "outputs": [
    {
     "data": {
      "text/plain": [
       "[1, 345, 65, 'abid', True, (8+9j), 247.846, 5]"
      ]
     },
     "execution_count": 45,
     "metadata": {},
     "output_type": "execute_result"
    }
   ],
   "source": [
    "z"
   ]
  },
  {
   "cell_type": "code",
   "execution_count": 48,
   "id": "67d94d96-6467-4712-9cd3-1dd6e577fbae",
   "metadata": {},
   "outputs": [],
   "source": [
    "z.append(z1)\n",
    "# append fuction used to add another list or interger or any value in the list "
   ]
  },
  {
   "cell_type": "code",
   "execution_count": 47,
   "id": "bdfe8ff9-1c69-4fbf-869b-17d5ca9b9742",
   "metadata": {},
   "outputs": [
    {
     "data": {
      "text/plain": [
       "[1, 345, 65, 'abid', True, (8+9j), 247.846, 5, [3, 4, 8]]"
      ]
     },
     "execution_count": 47,
     "metadata": {},
     "output_type": "execute_result"
    }
   ],
   "source": [
    "z"
   ]
  },
  {
   "cell_type": "code",
   "execution_count": 49,
   "id": "44fc3570-b814-494b-9050-20a764ba596b",
   "metadata": {},
   "outputs": [
    {
     "data": {
      "text/plain": [
       "'pwskills'"
      ]
     },
     "execution_count": 49,
     "metadata": {},
     "output_type": "execute_result"
    }
   ],
   "source": [
    "s"
   ]
  },
  {
   "cell_type": "code",
   "execution_count": 50,
   "id": "41b98bc4-c7a1-47a6-8386-c31cae6438db",
   "metadata": {},
   "outputs": [],
   "source": [
    "# one more example to appeend/add \n",
    "z.append(s)"
   ]
  },
  {
   "cell_type": "code",
   "execution_count": 52,
   "id": "25f96de9-9355-475e-9255-0bbf9d74a1ca",
   "metadata": {},
   "outputs": [
    {
     "data": {
      "text/plain": [
       "[1,\n",
       " 345,\n",
       " 65,\n",
       " 'abid',\n",
       " True,\n",
       " (8+9j),\n",
       " 247.846,\n",
       " 5,\n",
       " [3, 4, 8],\n",
       " [3, 4, 8],\n",
       " 'pwskills']"
      ]
     },
     "execution_count": 52,
     "metadata": {},
     "output_type": "execute_result"
    }
   ],
   "source": [
    "z"
   ]
  },
  {
   "cell_type": "code",
   "execution_count": 55,
   "id": "6994f8a2-b432-4f76-834a-c6e14bfa30ad",
   "metadata": {},
   "outputs": [
    {
     "data": {
      "text/plain": [
       "4"
      ]
     },
     "execution_count": 55,
     "metadata": {},
     "output_type": "execute_result"
    }
   ],
   "source": [
    "z[-2][-2]"
   ]
  },
  {
   "cell_type": "code",
   "execution_count": 56,
   "id": "8e6d9b12-dad4-449d-825a-edcac4d90ecf",
   "metadata": {},
   "outputs": [
    {
     "data": {
      "text/plain": [
       "'psil'"
      ]
     },
     "execution_count": 57,
     "metadata": {},
     "output_type": "execute_result"
    }
   ],
   "source": [
    "z[-1][::2]"
   ]
  },
  {
   "cell_type": "code",
   "execution_count": 58,
   "id": "de82ba92-3be0-4e11-97d4-506e8e12551b",
   "metadata": {},
   "outputs": [
    {
     "data": {
      "text/plain": [
       "[1,\n",
       " 345,\n",
       " 65,\n",
       " 'abid',\n",
       " True,\n",
       " (8+9j),\n",
       " 247.846,\n",
       " 5,\n",
       " [3, 4, 8],\n",
       " [3, 4, 8],\n",
       " 'pwskills']"
      ]
     },
     "execution_count": 58,
     "metadata": {},
     "output_type": "execute_result"
    }
   ],
   "source": [
    "z"
   ]
  },
  {
   "cell_type": "code",
   "execution_count": 60,
   "id": "7a79fda3-3d0b-4b8a-a9d2-77d1c6f13b13",
   "metadata": {},
   "outputs": [
    {
     "ename": "TypeError",
     "evalue": "'int' object is not iterable",
     "output_type": "error",
     "traceback": [
      "\u001b[0;31m---------------------------------------------------------------------------\u001b[0m",
      "\u001b[0;31mTypeError\u001b[0m                                 Traceback (most recent call last)",
      "Cell \u001b[0;32mIn[60], line 1\u001b[0m\n\u001b[0;32m----> 1\u001b[0m \u001b[43mz\u001b[49m\u001b[38;5;241;43m.\u001b[39;49m\u001b[43mextend\u001b[49m\u001b[43m(\u001b[49m\u001b[38;5;241;43m4\u001b[39;49m\u001b[43m)\u001b[49m\n\u001b[1;32m      2\u001b[0m \u001b[38;5;66;03m# int object cant extend\u001b[39;00m\n",
      "\u001b[0;31mTypeError\u001b[0m: 'int' object is not iterable"
     ]
    }
   ],
   "source": [
    "z.extend(4)\n",
    "# int object cant extend"
   ]
  },
  {
   "cell_type": "code",
   "execution_count": 63,
   "id": "0163d679-d0aa-4a1e-aee0-070f9d5460b5",
   "metadata": {},
   "outputs": [],
   "source": [
    "z.extend(\"abid\")\n",
    "# string can be extend in list, but int cant\n",
    "# when string extend in list it ll break it and add it"
   ]
  },
  {
   "cell_type": "code",
   "execution_count": 62,
   "id": "3a86aba7-faf1-487e-ba40-5005639caca0",
   "metadata": {},
   "outputs": [
    {
     "data": {
      "text/plain": [
       "[1,\n",
       " 345,\n",
       " 65,\n",
       " 'abid',\n",
       " True,\n",
       " (8+9j),\n",
       " 247.846,\n",
       " 5,\n",
       " [3, 4, 8],\n",
       " [3, 4, 8],\n",
       " 'pwskills',\n",
       " 'a',\n",
       " 'b',\n",
       " 'i',\n",
       " 'd']"
      ]
     },
     "execution_count": 62,
     "metadata": {},
     "output_type": "execute_result"
    }
   ],
   "source": [
    "z"
   ]
  },
  {
   "cell_type": "code",
   "execution_count": 73,
   "id": "583a6674-2ba8-4b5c-bb7b-c35dd2d23cde",
   "metadata": {},
   "outputs": [],
   "source": [
    "# jab APPEND kiye the to as it is data add ho gya tha list ne (last position me insert higa\n",
    "# but ENTEND me unwrap the data first and add it in the list (last me add hoga)"
   ]
  },
  {
   "cell_type": "code",
   "execution_count": 67,
   "id": "b7ae81b6-9f2c-4219-ac5f-863d3e14237b",
   "metadata": {},
   "outputs": [
    {
     "data": {
      "text/plain": [
       "[3, 4, 8]"
      ]
     },
     "execution_count": 67,
     "metadata": {},
     "output_type": "execute_result"
    }
   ],
   "source": [
    "z1"
   ]
  },
  {
   "cell_type": "code",
   "execution_count": 71,
   "id": "be0ae583-1d14-4791-bb85-c9f9c00a820e",
   "metadata": {},
   "outputs": [],
   "source": [
    "z1.insert(1,\"abid\")\n",
    "# jaha ham data insert krna chahte hai specific position pr "
   ]
  },
  {
   "cell_type": "code",
   "execution_count": 72,
   "id": "329ad532-532a-4dad-b514-65fa84ec31b9",
   "metadata": {},
   "outputs": [
    {
     "data": {
      "text/plain": [
       "[3, 'abid', 'sudh', 4, 8]"
      ]
     },
     "execution_count": 72,
     "metadata": {},
     "output_type": "execute_result"
    }
   ],
   "source": [
    "z1"
   ]
  },
  {
   "cell_type": "code",
   "execution_count": 74,
   "id": "486ad928-36b4-4e0a-a4f0-90b092e2f38a",
   "metadata": {},
   "outputs": [],
   "source": [
    "z1.insert(0,20)"
   ]
  },
  {
   "cell_type": "code",
   "execution_count": 75,
   "id": "6ce84098-5f66-4d29-bd0f-29d5d00a25e3",
   "metadata": {},
   "outputs": [
    {
     "data": {
      "text/plain": [
       "[20, 3, 'abid', 'sudh', 4, 8]"
      ]
     },
     "execution_count": 75,
     "metadata": {},
     "output_type": "execute_result"
    }
   ],
   "source": [
    "z1"
   ]
  },
  {
   "cell_type": "code",
   "execution_count": 76,
   "id": "a85d4281-ac4c-4d87-b343-2b3d2f852efe",
   "metadata": {},
   "outputs": [],
   "source": [
    "z1.insert(0,\"you\")"
   ]
  },
  {
   "cell_type": "code",
   "execution_count": 77,
   "id": "17098938-7201-43cf-be03-76de6a3fee6b",
   "metadata": {},
   "outputs": [
    {
     "data": {
      "text/plain": [
       "['you', 20, 3, 'abid', 'sudh', 4, 8]"
      ]
     },
     "execution_count": 77,
     "metadata": {},
     "output_type": "execute_result"
    }
   ],
   "source": [
    "z1"
   ]
  },
  {
   "cell_type": "code",
   "execution_count": 80,
   "id": "f487bcee-0bfe-49d1-97d1-7a50496a1c86",
   "metadata": {},
   "outputs": [],
   "source": [
    "z1.insert(-1,\"PW\")\n",
    "# it ll be add from last 2nd because index number given "
   ]
  },
  {
   "cell_type": "code",
   "execution_count": 81,
   "id": "a99db593-59f3-4cb9-b474-49e802e6a1cb",
   "metadata": {},
   "outputs": [
    {
     "data": {
      "text/plain": [
       "['you', 20, 3, 'abid', 'sudh', 4, 'PW', 'PW', 8]"
      ]
     },
     "execution_count": 81,
     "metadata": {},
     "output_type": "execute_result"
    }
   ],
   "source": [
    "z1"
   ]
  },
  {
   "cell_type": "code",
   "execution_count": 84,
   "id": "7b5506fb-bc77-43a7-9e7b-02053092ae1b",
   "metadata": {},
   "outputs": [
    {
     "data": {
      "text/plain": [
       "'PW'"
      ]
     },
     "execution_count": 84,
     "metadata": {},
     "output_type": "execute_result"
    }
   ],
   "source": [
    "z1.pop()\n",
    "# removing the data from the list \n",
    "# by default it removes from -1th position or from last position"
   ]
  },
  {
   "cell_type": "code",
   "execution_count": 85,
   "id": "dac4abed-c256-464e-b0e5-d065ad3ce2c5",
   "metadata": {},
   "outputs": [
    {
     "data": {
      "text/plain": [
       "['you', 20, 3, 'abid', 'sudh', 4, 'PW']"
      ]
     },
     "execution_count": 85,
     "metadata": {},
     "output_type": "execute_result"
    }
   ],
   "source": [
    "z1"
   ]
  },
  {
   "cell_type": "code",
   "execution_count": 86,
   "id": "3ca4049a-56ac-44e2-aef2-c2bde61157bf",
   "metadata": {},
   "outputs": [],
   "source": [
    "z1.insert(4,\"remove\")"
   ]
  },
  {
   "cell_type": "code",
   "execution_count": 87,
   "id": "8767e020-164d-4ee3-885a-4e9bb28a198f",
   "metadata": {},
   "outputs": [
    {
     "data": {
      "text/plain": [
       "['you', 20, 3, 'abid', 'remove', 'sudh', 4, 'PW']"
      ]
     },
     "execution_count": 87,
     "metadata": {},
     "output_type": "execute_result"
    }
   ],
   "source": [
    "z1"
   ]
  },
  {
   "cell_type": "code",
   "execution_count": 88,
   "id": "afbb34f9-3569-417c-ad84-576078a50def",
   "metadata": {},
   "outputs": [
    {
     "data": {
      "text/plain": [
       "'PW'"
      ]
     },
     "execution_count": 88,
     "metadata": {},
     "output_type": "execute_result"
    }
   ],
   "source": [
    "z1.pop()\n",
    "# it use for remove data from list from teh last one"
   ]
  },
  {
   "cell_type": "code",
   "execution_count": 89,
   "id": "3007a532-fd1b-4bb6-a565-a3ce36268122",
   "metadata": {},
   "outputs": [
    {
     "data": {
      "text/plain": [
       "['you', 20, 3, 'abid', 'remove', 'sudh', 4]"
      ]
     },
     "execution_count": 89,
     "metadata": {},
     "output_type": "execute_result"
    }
   ],
   "source": [
    "z1"
   ]
  },
  {
   "cell_type": "code",
   "execution_count": 90,
   "id": "02f19ec3-ae70-4083-b370-d7cce874b6fc",
   "metadata": {},
   "outputs": [
    {
     "data": {
      "text/plain": [
       "'remove'"
      ]
     },
     "execution_count": 90,
     "metadata": {},
     "output_type": "execute_result"
    }
   ],
   "source": [
    "z1.pop(-3)"
   ]
  },
  {
   "cell_type": "code",
   "execution_count": 91,
   "id": "76d08ec9-d959-4096-8287-16be1771a1b1",
   "metadata": {},
   "outputs": [
    {
     "data": {
      "text/plain": [
       "['you', 20, 3, 'abid', 'sudh', 4]"
      ]
     },
     "execution_count": 91,
     "metadata": {},
     "output_type": "execute_result"
    }
   ],
   "source": [
    "z1"
   ]
  },
  {
   "cell_type": "code",
   "execution_count": 92,
   "id": "1113ed28-26a9-4bce-9fb2-ebc68326c8c0",
   "metadata": {},
   "outputs": [
    {
     "data": {
      "text/plain": [
       "'sudh'"
      ]
     },
     "execution_count": 92,
     "metadata": {},
     "output_type": "execute_result"
    }
   ],
   "source": [
    "z1.pop(4)"
   ]
  },
  {
   "cell_type": "code",
   "execution_count": 93,
   "id": "e7dfcf6f-94c4-4ecc-82a7-840a8ba72288",
   "metadata": {},
   "outputs": [
    {
     "data": {
      "text/plain": [
       "['you', 20, 3, 'abid', 4]"
      ]
     },
     "execution_count": 93,
     "metadata": {},
     "output_type": "execute_result"
    }
   ],
   "source": [
    "z1"
   ]
  },
  {
   "cell_type": "code",
   "execution_count": 94,
   "id": "6cae4d18-e5f0-4604-ac34-5f3a3a56a7b2",
   "metadata": {},
   "outputs": [
    {
     "ename": "ValueError",
     "evalue": "list.remove(x): x not in list",
     "output_type": "error",
     "traceback": [
      "\u001b[0;31m---------------------------------------------------------------------------\u001b[0m",
      "\u001b[0;31mValueError\u001b[0m                                Traceback (most recent call last)",
      "Cell \u001b[0;32mIn[96], line 1\u001b[0m\n\u001b[0;32m----> 1\u001b[0m \u001b[43mz1\u001b[49m\u001b[38;5;241;43m.\u001b[39;49m\u001b[43mremove\u001b[49m\u001b[43m(\u001b[49m\u001b[38;5;124;43m\"\u001b[39;49m\u001b[38;5;124;43myou\u001b[39;49m\u001b[38;5;124;43m\"\u001b[39;49m\u001b[43m)\u001b[49m\n\u001b[1;32m      2\u001b[0m \u001b[38;5;66;03m# it indicated that remove fn is remove the data provided in data\u001b[39;00m\n",
      "\u001b[0;31mValueError\u001b[0m: list.remove(x): x not in list"
     ]
    }
   ],
   "source": [
    "z1.remove(\"you\")\n",
    "# it indicated that remove fn is remove the data from list\n",
    "# while pop is removving the data from list with given index no. "
   ]
  },
  {
   "cell_type": "code",
   "execution_count": 97,
   "id": "606860aa-4ed4-43b5-a7b6-1f07af87724e",
   "metadata": {},
   "outputs": [
    {
     "data": {
      "text/plain": [
       "[20, 3, 'abid', 4]"
      ]
     },
     "execution_count": 97,
     "metadata": {},
     "output_type": "execute_result"
    }
   ],
   "source": [
    "z1"
   ]
  },
  {
   "cell_type": "code",
   "execution_count": 98,
   "id": "223e0e4f-d802-435c-874c-0fd0eba7d470",
   "metadata": {},
   "outputs": [],
   "source": [
    "z1.remove(4)\n",
    "# only available data in the list can be removed"
   ]
  },
  {
   "cell_type": "code",
   "execution_count": 99,
   "id": "3ea7edc6-a3b2-4afd-badb-7c50734c7c44",
   "metadata": {},
   "outputs": [
    {
     "data": {
      "text/plain": [
       "[20, 3, 'abid']"
      ]
     },
     "execution_count": 99,
     "metadata": {},
     "output_type": "execute_result"
    }
   ],
   "source": [
    "z1"
   ]
  },
  {
   "cell_type": "code",
   "execution_count": 100,
   "id": "60ae9489-7322-44fd-8051-66647f059eff",
   "metadata": {},
   "outputs": [],
   "source": [
    "z2 = [4,5,6]"
   ]
  },
  {
   "cell_type": "code",
   "execution_count": 101,
   "id": "02db5e95-021f-41bd-9f53-97d2d50a05fa",
   "metadata": {},
   "outputs": [
    {
     "data": {
      "text/plain": [
       "[20, 3, 'abid', 4, 5, 6]"
      ]
     },
     "execution_count": 101,
     "metadata": {},
     "output_type": "execute_result"
    }
   ],
   "source": [
    "z1 + z2"
   ]
  },
  {
   "cell_type": "code",
   "execution_count": 102,
   "id": "91e221f7-1114-43e5-b407-85ba7fcb7d90",
   "metadata": {},
   "outputs": [],
   "source": [
    "z1.append(z2)"
   ]
  },
  {
   "cell_type": "code",
   "execution_count": 103,
   "id": "61a07dcf-7aa6-4f7c-b56c-f949e19e6869",
   "metadata": {},
   "outputs": [
    {
     "data": {
      "text/plain": [
       "[20, 3, 'abid', [4, 5, 6]]"
      ]
     },
     "execution_count": 103,
     "metadata": {},
     "output_type": "execute_result"
    }
   ],
   "source": [
    "z1"
   ]
  },
  {
   "cell_type": "code",
   "execution_count": 104,
   "id": "3de6e48d-9e5e-445d-a95c-77cd83598090",
   "metadata": {},
   "outputs": [],
   "source": [
    "z1[3].remove(5)\n",
    "# to remove data from list in the list "
   ]
  },
  {
   "cell_type": "code",
   "execution_count": 105,
   "id": "b4247e18-1eaf-429a-a13b-25cdcba32eb9",
   "metadata": {},
   "outputs": [
    {
     "data": {
      "text/plain": [
       "[20, 3, 'abid', [4, 6]]"
      ]
     },
     "execution_count": 105,
     "metadata": {},
     "output_type": "execute_result"
    }
   ],
   "source": [
    "z1"
   ]
  },
  {
   "cell_type": "code",
   "execution_count": 107,
   "id": "501df7ec-b21b-48c4-b3eb-81977e9fc4bb",
   "metadata": {},
   "outputs": [
    {
     "ename": "AttributeError",
     "evalue": "'str' object has no attribute 'remove'",
     "output_type": "error",
     "traceback": [
      "\u001b[0;31m---------------------------------------------------------------------------\u001b[0m",
      "\u001b[0;31mAttributeError\u001b[0m                            Traceback (most recent call last)",
      "Cell \u001b[0;32mIn[107], line 1\u001b[0m\n\u001b[0;32m----> 1\u001b[0m \u001b[43mz1\u001b[49m\u001b[43m[\u001b[49m\u001b[38;5;241;43m2\u001b[39;49m\u001b[43m]\u001b[49m\u001b[38;5;241;43m.\u001b[39;49m\u001b[43mremove\u001b[49m(\u001b[38;5;28mid\u001b[39m)\n",
      "\u001b[0;31mAttributeError\u001b[0m: 'str' object has no attribute 'remove'"
     ]
    }
   ],
   "source": [
    "z1[2].remove(id)\n",
    "# string remove nhi hoga. \n",
    "# agar list me hai to pura string remove hoga"
   ]
  },
  {
   "cell_type": "code",
   "execution_count": 108,
   "id": "dab38b69-92d8-407e-b19b-438682ea50b6",
   "metadata": {},
   "outputs": [
    {
     "ename": "AttributeError",
     "evalue": "'str' object has no attribute 'remove'",
     "output_type": "error",
     "traceback": [
      "\u001b[0;31m---------------------------------------------------------------------------\u001b[0m",
      "\u001b[0;31mAttributeError\u001b[0m                            Traceback (most recent call last)",
      "Cell \u001b[0;32mIn[108], line 1\u001b[0m\n\u001b[0;32m----> 1\u001b[0m \u001b[43mz1\u001b[49m\u001b[43m[\u001b[49m\u001b[38;5;241;43m2\u001b[39;49m\u001b[43m]\u001b[49m\u001b[38;5;241;43m.\u001b[39;49m\u001b[43mremove\u001b[49m(\u001b[38;5;124m\"\u001b[39m\u001b[38;5;124mabid\u001b[39m\u001b[38;5;124m\"\u001b[39m)\n",
      "\u001b[0;31mAttributeError\u001b[0m: 'str' object has no attribute 'remove'"
     ]
    }
   ],
   "source": [
    "z1[2].remove(\"abid\")"
   ]
  },
  {
   "cell_type": "code",
   "execution_count": 112,
   "id": "7fc842f9-6a8a-4315-8de2-41a4c6e0f392",
   "metadata": {},
   "outputs": [],
   "source": [
    "z1.append(4)"
   ]
  },
  {
   "cell_type": "code",
   "execution_count": 113,
   "id": "019210f6-78d0-46de-a417-fdf7618ff1e1",
   "metadata": {},
   "outputs": [
    {
     "data": {
      "text/plain": [
       "[20, 3, 'abid', [4, 6], 4, 4]"
      ]
     },
     "execution_count": 113,
     "metadata": {},
     "output_type": "execute_result"
    }
   ],
   "source": [
    "z1"
   ]
  },
  {
   "cell_type": "code",
   "execution_count": 114,
   "id": "42cae98a-0b7c-4033-bb42-d4bacd23cebe",
   "metadata": {},
   "outputs": [],
   "source": [
    "z1.remove(4)"
   ]
  },
  {
   "cell_type": "code",
   "execution_count": 115,
   "id": "a88fcf06-edcb-4080-9ce5-5e3f9c81892e",
   "metadata": {},
   "outputs": [
    {
     "data": {
      "text/plain": [
       "[20, 3, 'abid', [4, 6], 4]"
      ]
     },
     "execution_count": 115,
     "metadata": {},
     "output_type": "execute_result"
    }
   ],
   "source": [
    "z1"
   ]
  },
  {
   "cell_type": "code",
   "execution_count": 116,
   "id": "211392ec-7cc0-4a46-878c-adaab1a3895b",
   "metadata": {},
   "outputs": [],
   "source": [
    "z1.reverse()\n",
    "# permanenet reverse ho jaata hai \n",
    "# reverse fn also donw the same which we done as reverse indexing"
   ]
  },
  {
   "cell_type": "code",
   "execution_count": 117,
   "id": "754addcd-5150-4c11-8668-82df2b089882",
   "metadata": {},
   "outputs": [
    {
     "data": {
      "text/plain": [
       "[4, [4, 6], 'abid', 3, 20]"
      ]
     },
     "execution_count": 117,
     "metadata": {},
     "output_type": "execute_result"
    }
   ],
   "source": [
    "z1"
   ]
  },
  {
   "cell_type": "code",
   "execution_count": 118,
   "id": "58bd9d04-1ec3-40f5-ba2c-f8839fd4466c",
   "metadata": {},
   "outputs": [
    {
     "data": {
      "text/plain": [
       "[20, 3, 'abid', [4, 6], 4]"
      ]
     },
     "execution_count": 118,
     "metadata": {},
     "output_type": "execute_result"
    }
   ],
   "source": [
    "z1[::-1]\n",
    "# permanenent reverse nhi hota hai "
   ]
  },
  {
   "cell_type": "code",
   "execution_count": 119,
   "id": "81b8b5bb-ebaa-44eb-91c5-1a7464baeb83",
   "metadata": {},
   "outputs": [],
   "source": [
    "z1 = z1[::-1]"
   ]
  },
  {
   "cell_type": "code",
   "execution_count": 120,
   "id": "a0379eba-27b2-4887-a7fa-17a4e0036dfd",
   "metadata": {},
   "outputs": [
    {
     "data": {
      "text/plain": [
       "[20, 3, 'abid', [4, 6], 4]"
      ]
     },
     "execution_count": 120,
     "metadata": {},
     "output_type": "execute_result"
    }
   ],
   "source": [
    "z1"
   ]
  },
  {
   "cell_type": "code",
   "execution_count": 121,
   "id": "bb12b031-8ef5-4eff-bc56-8c7c84442b7a",
   "metadata": {},
   "outputs": [],
   "source": [
    "z1.reverse()"
   ]
  },
  {
   "cell_type": "code",
   "execution_count": 122,
   "id": "55bde6c6-595b-4be9-8078-108c347c3de7",
   "metadata": {},
   "outputs": [
    {
     "data": {
      "text/plain": [
       "[4, [4, 6], 'abid', 3, 20]"
      ]
     },
     "execution_count": 122,
     "metadata": {},
     "output_type": "execute_result"
    }
   ],
   "source": [
    "z1"
   ]
  },
  {
   "cell_type": "code",
   "execution_count": 123,
   "id": "2cb23043-3d62-4ac4-b858-88cd22115f57",
   "metadata": {},
   "outputs": [],
   "source": [
    "z3 = [2,45,76,4,8,65]"
   ]
  },
  {
   "cell_type": "code",
   "execution_count": 124,
   "id": "c99af0fa-23b6-42d3-a53d-428b9c90b189",
   "metadata": {},
   "outputs": [],
   "source": [
    "z3.sort()"
   ]
  },
  {
   "cell_type": "code",
   "execution_count": 126,
   "id": "073adc49-72ae-4966-ba25-962aaabf4b78",
   "metadata": {},
   "outputs": [
    {
     "data": {
      "text/plain": [
       "[2, 4, 8, 45, 65, 76]"
      ]
     },
     "execution_count": 126,
     "metadata": {},
     "output_type": "execute_result"
    }
   ],
   "source": [
    "z3"
   ]
  },
  {
   "cell_type": "code",
   "execution_count": 127,
   "id": "341afbb9-1acb-4180-98e9-82860de76867",
   "metadata": {},
   "outputs": [],
   "source": [
    "z4 = [\"abid\", \"b\", \"samad\", \"physics\"]"
   ]
  },
  {
   "cell_type": "code",
   "execution_count": 128,
   "id": "985a998b-8030-420a-9cd8-519fbf91b3d7",
   "metadata": {},
   "outputs": [],
   "source": [
    "z4.sort()\n",
    "# sorting only applicale on same type of input like int, or string etc"
   ]
  },
  {
   "cell_type": "code",
   "execution_count": 129,
   "id": "2fca748f-17d5-4294-915f-0a264e5f0f92",
   "metadata": {},
   "outputs": [
    {
     "data": {
      "text/plain": [
       "['abid', 'b', 'physics', 'samad']"
      ]
     },
     "execution_count": 129,
     "metadata": {},
     "output_type": "execute_result"
    }
   ],
   "source": [
    "z4"
   ]
  },
  {
   "cell_type": "code",
   "execution_count": 130,
   "id": "e3aad09d-6ea8-4d28-b7a3-518a98064ff6",
   "metadata": {},
   "outputs": [
    {
     "data": {
      "text/plain": [
       "1"
      ]
     },
     "execution_count": 130,
     "metadata": {},
     "output_type": "execute_result"
    }
   ],
   "source": [
    "z4.index(\"b\")\n",
    "# index number "
   ]
  },
  {
   "cell_type": "code",
   "execution_count": 131,
   "id": "7b79f313-118b-48b5-8cc3-1fd601fe2735",
   "metadata": {},
   "outputs": [
    {
     "data": {
      "text/plain": [
       "1"
      ]
     },
     "execution_count": 131,
     "metadata": {},
     "output_type": "execute_result"
    }
   ],
   "source": [
    "z4.count(\"b\")\n",
    "# it gives only number of occurence in the list"
   ]
  },
  {
   "cell_type": "code",
   "execution_count": 132,
   "id": "5edd3af4-d782-47b6-a5ce-983dc777dba4",
   "metadata": {},
   "outputs": [],
   "source": [
    "z5 = [3,5,7,9]"
   ]
  },
  {
   "cell_type": "code",
   "execution_count": 133,
   "id": "3af51da6-21e8-45b3-b183-527f780f862d",
   "metadata": {},
   "outputs": [],
   "source": [
    "s = \"abid\""
   ]
  },
  {
   "cell_type": "code",
   "execution_count": 134,
   "id": "687c3d64-bc58-4c5d-a8ac-f180182b43cf",
   "metadata": {},
   "outputs": [],
   "source": [
    "z5[0] = 20\n",
    "# this is the example of mutability "
   ]
  },
  {
   "cell_type": "code",
   "execution_count": 135,
   "id": "e91355bb-6f0c-488e-95c7-6b7af8b8b442",
   "metadata": {},
   "outputs": [
    {
     "data": {
      "text/plain": [
       "[20, 5, 7, 9]"
      ]
     },
     "execution_count": 135,
     "metadata": {},
     "output_type": "execute_result"
    }
   ],
   "source": [
    "z5"
   ]
  },
  {
   "cell_type": "code",
   "execution_count": 137,
   "id": "6173c70d-94d1-4141-abd7-b01dbd0f13f3",
   "metadata": {},
   "outputs": [
    {
     "ename": "NameError",
     "evalue": "name 'd' is not defined",
     "output_type": "error",
     "traceback": [
      "\u001b[0;31m---------------------------------------------------------------------------\u001b[0m",
      "\u001b[0;31mNameError\u001b[0m                                 Traceback (most recent call last)",
      "Cell \u001b[0;32mIn[137], line 1\u001b[0m\n\u001b[0;32m----> 1\u001b[0m s[\u001b[38;5;241m0\u001b[39m] \u001b[38;5;241m=\u001b[39m \u001b[43md\u001b[49m\n",
      "\u001b[0;31mNameError\u001b[0m: name 'd' is not defined"
     ]
    }
   ],
   "source": [
    "s[0] = d\n",
    "# dtring me changes nhi hoga (immutability bolte hai ikso)"
   ]
  },
  {
   "cell_type": "code",
   "execution_count": 140,
   "id": "45462909-2e7f-4dba-8ad9-d0750d4243fa",
   "metadata": {},
   "outputs": [
    {
     "data": {
      "text/plain": [
       "'sbid'"
      ]
     },
     "execution_count": 140,
     "metadata": {},
     "output_type": "execute_result"
    }
   ],
   "source": [
    "s.replace('a' , 's')\n",
    "# list mutable hai \n",
    "# string immutable hai \n",
    "# mutable mtlb data can change or replaced \n",
    "# immutable mtlb data cant be change and replace which is string\n",
    "# replace fn chnages temporarly"
   ]
  },
  {
   "cell_type": "code",
   "execution_count": 139,
   "id": "b51ef310-e5c5-4b1a-8c5a-5c4403f25d3f",
   "metadata": {},
   "outputs": [
    {
     "data": {
      "text/plain": [
       "'abid'"
      ]
     },
     "execution_count": 139,
     "metadata": {},
     "output_type": "execute_result"
    }
   ],
   "source": [
    "s"
   ]
  },
  {
   "cell_type": "code",
   "execution_count": 141,
   "id": "55182e3d-0434-452d-98e1-21aadd5d42c9",
   "metadata": {},
   "outputs": [],
   "source": [
    "# now we ll learn Tuples"
   ]
  },
  {
   "cell_type": "code",
   "execution_count": 142,
   "id": "9f1fbadb-cc78-45c7-bd17-006b174bdc78",
   "metadata": {},
   "outputs": [],
   "source": [
    "p = (2,3,4,5, \"abid\", 47,87, False, 36+76j, [4,5,6])"
   ]
  },
  {
   "cell_type": "code",
   "execution_count": 143,
   "id": "19b1acb3-181d-4ef7-a0d7-7151b2cb940c",
   "metadata": {},
   "outputs": [
    {
     "data": {
      "text/plain": [
       "(2, 3, 4, 5, 'abid', 47, 87, False, (36+76j), [4, 5, 6])"
      ]
     },
     "execution_count": 143,
     "metadata": {},
     "output_type": "execute_result"
    }
   ],
   "source": [
    "p"
   ]
  },
  {
   "cell_type": "raw",
   "id": "65145137-4554-496f-b093-526acdc1c81a",
   "metadata": {},
   "source": [
    "type(p)"
   ]
  },
  {
   "cell_type": "code",
   "execution_count": null,
   "id": "de13c628-9e05-41cf-aa4b-2818d1abaa28",
   "metadata": {},
   "outputs": [],
   "source": []
  }
 ],
 "metadata": {
  "kernelspec": {
   "display_name": "Python 3 (ipykernel)",
   "language": "python",
   "name": "python3"
  },
  "language_info": {
   "codemirror_mode": {
    "name": "ipython",
    "version": 3
   },
   "file_extension": ".py",
   "mimetype": "text/x-python",
   "name": "python",
   "nbconvert_exporter": "python",
   "pygments_lexer": "ipython3",
   "version": "3.10.8"
  }
 },
 "nbformat": 4,
 "nbformat_minor": 5
}
