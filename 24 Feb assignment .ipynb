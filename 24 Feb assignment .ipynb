{
 "cells": [
  {
   "cell_type": "markdown",
   "id": "815e14ef-5689-4065-a108-987f241bbc31",
   "metadata": {},
   "source": [
    "Q1. List any five functions of the pandas library with execution."
   ]
  },
  {
   "cell_type": "code",
   "execution_count": 6,
   "id": "1a8d86b9-4e92-4f3a-8858-f763e12883c8",
   "metadata": {},
   "outputs": [],
   "source": [
    "# read_csv()\n",
    "import pandas as pd\n",
    "\n",
    "# read a CSV file into a DataFrame\n",
    "pd.read_csv('services.csv')\n",
    "df = pd.read_csv('services.csv')\n"
   ]
  },
  {
   "cell_type": "code",
   "execution_count": 11,
   "id": "a9879497-8183-4b05-950c-cb1a466682da",
   "metadata": {},
   "outputs": [],
   "source": [
    "# group a DataFrame by the 'Category' column and compute the mean of the 'Price' column\n",
    "df.groupby('fees')['id'].mean()\n",
    "grouped = df.groupby('fees')['id'].mean()"
   ]
  },
  {
   "cell_type": "code",
   "execution_count": 15,
   "id": "ee328769-8719-43e1-b03f-2eedc97eeff2",
   "metadata": {},
   "outputs": [],
   "source": [
    "# merge two DataFrames on the 'ID' column\n",
    "df1 =pd.read_csv('services.csv')\n",
    "df2 =pd.read_csv('services.csv')"
   ]
  },
  {
   "cell_type": "code",
   "execution_count": 18,
   "id": "aa1792cd-c914-4964-a443-38800522aeb3",
   "metadata": {},
   "outputs": [],
   "source": [
    " pd.merge(df1, df2, on='id')\n",
    "merged = pd.merge(df1, df2, on='id')"
   ]
  },
  {
   "cell_type": "code",
   "execution_count": null,
   "id": "b9f5685e-6830-44d5-b121-fbac6d8b9e36",
   "metadata": {},
   "outputs": [],
   "source": [
    "# create a pivot table from a DataFrame\n",
    "pivot = df.pivot_table(index='Date', columns='Category', values='Price', aggfunc='mean')\n"
   ]
  },
  {
   "cell_type": "code",
   "execution_count": null,
   "id": "0c60838b-076d-4f11-bd17-137abbcdf22b",
   "metadata": {},
   "outputs": [],
   "source": [
    "# write a DataFrame to a CSV file\n",
    "df.to_csv('mydata.csv', index=False)\n"
   ]
  },
  {
   "cell_type": "markdown",
   "id": "b51d0f4a-b1d9-4e56-a4d3-7edc691e5f22",
   "metadata": {},
   "source": [
    "Q2. Given a Pandas DataFrame df with columns 'A', 'B', and 'C', write a Python function to re-index the\n",
    "DataFrame with a new index that starts from 1 and increments by 2 for each row."
   ]
  },
  {
   "cell_type": "code",
   "execution_count": 19,
   "id": "538ef817-41fd-4245-a712-16543f118a66",
   "metadata": {},
   "outputs": [],
   "source": [
    "def reindex_df(df):\n",
    "    new_index = pd.RangeIndex(start=1, step=2, stop=len(df)*2)\n",
    "    df = df.reindex(new_index)\n",
    "    return df\n"
   ]
  },
  {
   "cell_type": "code",
   "execution_count": 20,
   "id": "c762e22b-9fee-4cce-98e0-c2d0d6bb5040",
   "metadata": {},
   "outputs": [
    {
     "name": "stdout",
     "output_type": "stream",
     "text": [
      "     A    B    C\n",
      "1  2.0  5.0  8.0\n",
      "3  NaN  NaN  NaN\n",
      "5  NaN  NaN  NaN\n"
     ]
    }
   ],
   "source": [
    "# create a sample DataFrame\n",
    "df = pd.DataFrame({'A': [1, 2, 3], 'B': [4, 5, 6], 'C': [7, 8, 9]})\n",
    "\n",
    "# re-index the DataFrame\n",
    "df = reindex_df(df)\n",
    "\n",
    "# print the new DataFrame\n",
    "print(df)\n"
   ]
  },
  {
   "cell_type": "markdown",
   "id": "b9b28788-5f97-441d-9c2a-3342efdf2a58",
   "metadata": {},
   "source": [
    "Q3. You have a Pandas DataFrame df with a column named 'Values'. Write a Python function that\n",
    "iterates over the DataFrame and calculates the sum of the first three values in the 'Values' column. The\n",
    "function should print the sum to the console."
   ]
  },
  {
   "cell_type": "code",
   "execution_count": 21,
   "id": "ff33971a-ab03-4585-8cc8-397046380059",
   "metadata": {},
   "outputs": [],
   "source": [
    "def sum_first_three(df):\n",
    "    values_col = df['Values']\n",
    "    sum_first_three = sum(values_col[:3])\n",
    "    print('Sum of first three values:', sum_first_three)\n"
   ]
  },
  {
   "cell_type": "code",
   "execution_count": 23,
   "id": "83ec621c-a273-4acf-ad8e-b702a2a30f26",
   "metadata": {},
   "outputs": [
    {
     "name": "stdout",
     "output_type": "stream",
     "text": [
      "Sum of first three values: 60\n"
     ]
    }
   ],
   "source": [
    "\n",
    "\n",
    "# create a sample DataFrame\n",
    "df = pd.DataFrame({'Values': [10, 20, 30, 40, 50]})\n",
    "\n",
    "# call the function to calculate the sum of the first three values\n",
    "sum_first_three(df)\n"
   ]
  },
  {
   "cell_type": "markdown",
   "id": "28a13fd0-fd67-43d9-8835-165a1460c886",
   "metadata": {},
   "source": [
    "Q4. Given a Pandas DataFrame df with a column 'Text', write a Python function to create a new column\n",
    "'Word_Count' that contains the number of words in each row of the 'Text' column."
   ]
  },
  {
   "cell_type": "code",
   "execution_count": 24,
   "id": "4c15c69b-8d5b-4c1d-97ee-5cfe351e31b5",
   "metadata": {},
   "outputs": [],
   "source": [
    "import pandas as pd\n",
    "import re\n",
    "\n",
    "def add_word_count(df):\n",
    "    # define a function to count words in a string\n",
    "    def count_words(text):\n",
    "        words = re.findall(r'\\w+', text)\n",
    "        return len(words)\n",
    "\n",
    "    # apply the count_words function to each row of the 'Text' column\n",
    "    df['Word_Count'] = df['Text'].apply(count_words)\n",
    "    return df\n"
   ]
  },
  {
   "cell_type": "code",
   "execution_count": 25,
   "id": "a56867fd-0784-4fc1-a76c-58c7fa55141c",
   "metadata": {},
   "outputs": [
    {
     "name": "stdout",
     "output_type": "stream",
     "text": [
      "                     Text  Word_Count\n",
      "0     This is a sentence.           4\n",
      "1  Another sentence here.           3\n",
      "2       A third sentence.           3\n"
     ]
    }
   ],
   "source": [
    "# create a sample DataFrame\n",
    "df = pd.DataFrame({'Text': ['This is a sentence.', 'Another sentence here.', 'A third sentence.']})\n",
    "\n",
    "# add a new column with word counts\n",
    "df = add_word_count(df)\n",
    "\n",
    "# print the modified DataFrame\n",
    "print(df)\n"
   ]
  },
  {
   "cell_type": "markdown",
   "id": "27b95f00-bf55-467b-bbea-19e675246419",
   "metadata": {},
   "source": [
    "Q5. How are DataFrame.size() and DataFrame.shape() different?"
   ]
  },
  {
   "cell_type": "markdown",
   "id": "1fb3ef70-27d5-48e0-8608-235133371dcb",
   "metadata": {},
   "source": [
    "Both DataFrame.size() and DataFrame.shape() are methods used to get information about the dimensions of a Pandas DataFrame. However, they return different types of information.\n",
    "\n",
    "DataFrame.size() returns the total number of elements in the DataFrame, which is equal to the product of the number of rows and columns. For example, if a DataFrame has 3 rows and 4 columns, DataFrame.size() would return 12.\n",
    "\n",
    "On the other hand, DataFrame.shape() returns a tuple containing the number of rows and columns in the DataFrame, respectively. For example, if a DataFrame has 3 rows and 4 columns, DataFrame.shape() would return the tuple (3, 4)."
   ]
  },
  {
   "cell_type": "markdown",
   "id": "6fc63d60-48d8-4702-b972-89cec82e0af3",
   "metadata": {},
   "source": [
    "Q6. Which function of pandas do we use to read an excel file?"
   ]
  },
  {
   "cell_type": "code",
   "execution_count": null,
   "id": "bad532d1-70f2-434a-ab58-84e476c80dec",
   "metadata": {},
   "outputs": [],
   "source": [
    "# Read the Excel file\n",
    "df = pd.read_excel('example.xlsx', sheet_name='Sheet1')\n"
   ]
  },
  {
   "cell_type": "markdown",
   "id": "362bf1c2-9500-4827-a826-9858cc02e3ac",
   "metadata": {},
   "source": [
    "Q7. You have a Pandas DataFrame df that contains a column named 'Email' that contains email\n",
    "addresses in the format 'username@domain.com'. Write a Python function that creates a new column\n",
    "'Username' in df that contains only the username part of each email address.\n",
    "The username is the part of the email address that appears before the '@' symbol. For example, if the\n",
    "email address is 'john.doe@example.com', the 'Username' column should contain 'john.doe'. Your\n",
    "function should extract the username from each email address and store it in the new 'Username'\n",
    "column."
   ]
  },
  {
   "cell_type": "code",
   "execution_count": 26,
   "id": "5db42aa1-4fa7-4e9a-8134-f03770ac2701",
   "metadata": {},
   "outputs": [],
   "source": [
    "def extract_username(df):\n",
    "    # Extract the username part from each email address\n",
    "    usernames = df['Email'].apply(lambda x: x.split('@')[0])\n",
    "    \n",
    "    # Create a new column 'Username' with the extracted usernames\n",
    "    df['Username'] = usernames\n",
    "    \n",
    "    # Return the modified DataFrame\n",
    "    return df\n"
   ]
  },
  {
   "cell_type": "code",
   "execution_count": 28,
   "id": "97d931c8-5965-40d1-8a39-72f70f28fb2e",
   "metadata": {},
   "outputs": [
    {
     "name": "stdout",
     "output_type": "stream",
     "text": [
      "           Email Username\n",
      "0  abc@gmail.com      abc\n",
      "1  xyz@gmail.com      xyz\n",
      "2  mno@gmail.com      mno\n"
     ]
    }
   ],
   "source": [
    "# Call the function to extract the usernames\n",
    "df = pd.DataFrame({'Email': ['abc@gmail.com', 'xyz@gmail.com', 'mno@gmail.com']})\n",
    "\n",
    "\n",
    "df = extract_username(df)\n",
    "\n",
    "# Print the modified DataFrame\n",
    "print(df)\n"
   ]
  },
  {
   "cell_type": "markdown",
   "id": "025990c0-edd1-4df9-bf2b-b27d5c356749",
   "metadata": {},
   "source": [
    "Q8. You have a Pandas DataFrame df with columns 'A', 'B', and 'C'. Write a Python function that selects\n",
    "all rows where the value in column 'A' is greater than 5 and the value in column 'B' is less than 10. The\n",
    "function should return a new DataFrame that contains only the selected rows.\n",
    "For example, if df contains the following values:\n",
    "A B C\n",
    "0 3 5 1\n",
    "1 8 2 7\n",
    "2 6 9 4\n",
    "3 2 3 5\n",
    "4 9 1 2"
   ]
  },
  {
   "cell_type": "code",
   "execution_count": 37,
   "id": "d7870ed2-491d-49c7-beba-9b5fdf3f7b8d",
   "metadata": {},
   "outputs": [
    {
     "name": "stdout",
     "output_type": "stream",
     "text": [
      "   A  B  C\n",
      "0  3  5  1\n",
      "1  8  2  7\n",
      "2  6  9  4\n",
      "3  2  3  5\n",
      "4  9  1  2\n"
     ]
    }
   ],
   "source": [
    "df = pd.DataFrame({'A' : [3,8,6,2,9], 'B' : [5,2,9,3,1], 'C' : [1,7,4,5,2]})\n",
    "print(df)\n"
   ]
  },
  {
   "cell_type": "code",
   "execution_count": 38,
   "id": "6e15a1b9-c767-428a-80b2-55826c47a091",
   "metadata": {},
   "outputs": [
    {
     "name": "stdout",
     "output_type": "stream",
     "text": [
      "   A  B  C\n",
      "1  8  2  7\n",
      "2  6  9  4\n",
      "4  9  1  2\n"
     ]
    }
   ],
   "source": [
    "def select_rows(df):\n",
    "    # Use boolean indexing to select the desired rows\n",
    "    selected_rows = df[(df['A'] > 5) & (df['B'] < 10)]\n",
    "    \n",
    "    # Return the selected rows\n",
    "    return selected_rows\n",
    "\n",
    "# Call the function to select the desired rows\n",
    "selected_rows = select_rows(df)\n",
    "\n",
    "# Print the selected rows\n",
    "print(selected_rows)\n"
   ]
  },
  {
   "cell_type": "markdown",
   "id": "dda4b367-29fe-4d37-90ea-caa965c48313",
   "metadata": {},
   "source": [
    "Q9. Given a Pandas DataFrame df with a column 'Values', write a Python function to calculate the mean,\n",
    "median, and standard deviation of the values in the 'Values' column."
   ]
  },
  {
   "cell_type": "code",
   "execution_count": 39,
   "id": "f98ef9b8-fc93-44a6-8de1-136a74ed679b",
   "metadata": {},
   "outputs": [],
   "source": [
    "def calculate_stats(df):\n",
    "    # Calculate the mean, median, and standard deviation of the 'Values' column\n",
    "    mean = df['Values'].mean()\n",
    "    median = df['Values'].median()\n",
    "    std_dev = df['Values'].std()\n",
    "    \n",
    "    # Print the results to the console\n",
    "    print(\"Mean: \", mean)\n",
    "    print(\"Median: \", median)\n",
    "    print(\"Standard Deviation: \", std_dev)\n"
   ]
  },
  {
   "cell_type": "code",
   "execution_count": 40,
   "id": "3a1aaeca-8b37-4640-9446-5ab8d6c2a0fb",
   "metadata": {},
   "outputs": [
    {
     "name": "stdout",
     "output_type": "stream",
     "text": [
      "Mean:  3.0\n",
      "Median:  3.0\n",
      "Standard Deviation:  1.5811388300841898\n"
     ]
    }
   ],
   "source": [
    "df = pd.DataFrame({'Values': [1, 2, 3, 4, 5]})\n",
    "calculate_stats(df)\n"
   ]
  },
  {
   "cell_type": "markdown",
   "id": "faa4c30e-a68a-4ef5-8772-f383076c5e55",
   "metadata": {},
   "source": [
    "Q10. Given a Pandas DataFrame df with a column 'Sales' and a column 'Date', write a Python function to\n",
    "create a new column 'MovingAverage' that contains the moving average of the sales for the past 7 days\n",
    "for each row in the DataFrame. The moving average should be calculated using a window of size 7 and\n",
    "should include the current day."
   ]
  },
  {
   "cell_type": "code",
   "execution_count": 41,
   "id": "7bb6d58e-b1a3-4d0b-b48a-b57e53574ee2",
   "metadata": {},
   "outputs": [],
   "source": [
    "def calculate_moving_average(df):\n",
    "    df['MovingAverage'] = df['Sales'].rolling(window=7, min_periods=1).mean()\n",
    "    return df\n"
   ]
  },
  {
   "cell_type": "markdown",
   "id": "ff058073-54e7-44aa-a86e-ec6c1474af89",
   "metadata": {},
   "source": [
    "Q11. You have a Pandas DataFrame df with a column 'Date'. Write a Python function that creates a new\n",
    "column 'Weekday' in the DataFrame. The 'Weekday' column should contain the weekday name (e.g.\n",
    "Monday, Tuesday) corresponding to each date in the 'Date' column.\n",
    "For example, if df contains the following values:\n",
    "Date\n",
    "0 2023-01-01\n",
    "1 2023-01-02\n",
    "2 2023-01-03\n",
    "3 2023-01-04\n",
    "4 2023-01-05"
   ]
  },
  {
   "cell_type": "code",
   "execution_count": 43,
   "id": "7839941a-bddf-4a75-a7b8-0c21a62a5744",
   "metadata": {},
   "outputs": [],
   "source": [
    "from datetime import datetime\n",
    "\n",
    "def add_weekday_column(df):\n",
    "    df['Weekday'] = df['Date'].apply(lambda x: datetime.strptime(x, '%Y-%m-%d').strftime('%A'))\n",
    "    return df\n"
   ]
  },
  {
   "cell_type": "code",
   "execution_count": 44,
   "id": "ec04b7c2-a88c-4532-ae16-e54169c6bc81",
   "metadata": {},
   "outputs": [],
   "source": [
    "df = pd.DataFrame({'Date': ['2023-01-01', '2023-01-02', '2023-01-03', '2023-01-04', '2023-01-05']})\n"
   ]
  },
  {
   "cell_type": "code",
   "execution_count": 45,
   "id": "31b2f265-3d12-45c3-8a16-1ae622f8d269",
   "metadata": {},
   "outputs": [
    {
     "name": "stdout",
     "output_type": "stream",
     "text": [
      "         Date    Weekday\n",
      "0  2023-01-01     Sunday\n",
      "1  2023-01-02     Monday\n",
      "2  2023-01-03    Tuesday\n",
      "3  2023-01-04  Wednesday\n",
      "4  2023-01-05   Thursday\n"
     ]
    }
   ],
   "source": [
    "df = add_weekday_column(df)\n",
    "print(df)\n"
   ]
  },
  {
   "cell_type": "markdown",
   "id": "4dab325f-3ebe-46d7-ae78-cd0339422391",
   "metadata": {},
   "source": [
    "Q12. Given a Pandas DataFrame df with a column 'Date' that contains timestamps, write a Python\n",
    "function to select all rows where the date is between '2023-01-01' and '2023-01-31'."
   ]
  },
  {
   "cell_type": "code",
   "execution_count": 46,
   "id": "4bb5c317-e062-4cd5-aadc-59504865e45e",
   "metadata": {},
   "outputs": [],
   "source": [
    "def select_rows_between_dates(df):\n",
    "    start_date = '2023-01-01'\n",
    "    end_date = '2023-01-31'\n",
    "    mask = (df['Date'] >= start_date) & (df['Date'] <= end_date)\n",
    "    selected_rows = df.loc[mask]\n",
    "    return selected_rows\n"
   ]
  },
  {
   "cell_type": "markdown",
   "id": "e8ae2f01-d55e-4b4b-a1dd-edc3f2ef3796",
   "metadata": {},
   "source": [
    "Q13. To use the basic functions of pandas, what is the first and foremost necessary library that needs to\n",
    "be imported?"
   ]
  },
  {
   "cell_type": "markdown",
   "id": "48863037-abb1-4911-a7ad-2fb0da8eabb8",
   "metadata": {},
   "source": [
    "Pandas itself"
   ]
  },
  {
   "cell_type": "code",
   "execution_count": null,
   "id": "fca8ddaf-fff6-4739-9a50-ee7e1ce86c60",
   "metadata": {},
   "outputs": [],
   "source": []
  }
 ],
 "metadata": {
  "kernelspec": {
   "display_name": "Python 3 (ipykernel)",
   "language": "python",
   "name": "python3"
  },
  "language_info": {
   "codemirror_mode": {
    "name": "ipython",
    "version": 3
   },
   "file_extension": ".py",
   "mimetype": "text/x-python",
   "name": "python",
   "nbconvert_exporter": "python",
   "pygments_lexer": "ipython3",
   "version": "3.10.8"
  }
 },
 "nbformat": 4,
 "nbformat_minor": 5
}
